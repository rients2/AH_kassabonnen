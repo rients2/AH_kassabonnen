{
 "cells": [
  {
   "attachments": {},
   "cell_type": "markdown",
   "metadata": {},
   "source": [
    "# AH Bonnen parser"
   ]
  },
  {
   "cell_type": "code",
   "execution_count": 2,
   "metadata": {},
   "outputs": [],
   "source": [
    "import os\n",
    "import re\n",
    "import io\n",
    "import PyPDF2\n",
    "from PIL import Image\n",
    "import pandas as pd\n",
    "from pdf2image import convert_from_path\n",
    "import pytesseract\n",
    "\n",
    "import warnings\n",
    "warnings.filterwarnings(\"ignore\")"
   ]
  },
  {
   "cell_type": "code",
   "execution_count": 6,
   "metadata": {},
   "outputs": [],
   "source": [
    "def receipt_renamer(folder_path):\n",
    "    \"\"\"\n",
    "    Function renames the download ah receipts to a more sortable name\n",
    "    Input: A path to a folder with ah receipt pdfs. \n",
    "    \"\"\"\n",
    "\n",
    "    # Get a list of all the files in the directory\n",
    "    files = os.listdir(folder_path)\n",
    "    # Loop through each file in the directory\n",
    "    for file in files:\n",
    "        # Use regular expressions to extract the date from the filename\n",
    "        match = re.search(r'\\d{2}-\\d{2}-\\d{2}', file)\n",
    "        if match:\n",
    "            # Extract the date from the match object\n",
    "            date = match.group()\n",
    "            # Convert the date to the desired format (YYYY-MM-DD)\n",
    "            new_name = re.sub(r'(\\d{2})-(\\d{2})-(\\d{2})', r'20\\3-\\2-\\1', date) + '_AH_kassabon'\n",
    "            # Rename the file with the new name\n",
    "            try:\n",
    "                os.rename(os.path.join(folder_path, file), os.path.join(folder_path, new_name + '.pdf'))\n",
    "            except Exception as E:\n",
    "                print(E)\n",
    "    print('succesfully renamed all files')"
   ]
  },
  {
   "cell_type": "code",
   "execution_count": 10,
   "metadata": {},
   "outputs": [],
   "source": [
    "def pdf_to_img(pdf_path, pdf_img_path):\n",
    "\n",
    "    # Get a list of all the files in the directory\n",
    "    files = os.listdir(pdf_path)\n",
    "    # Loop through each file in the directory\n",
    "    for pdf_file in files:\n",
    "\n",
    "        full_path = os.path.join(pdf_path, pdf_file)\n",
    "        # Convert the first page of the PDF file to a PIL image\n",
    "        images = convert_from_path(full_path, first_page=1, last_page=1)\n",
    "        image = images[0]\n",
    "        # obtain the pdf name to name the image.\n",
    "        pdf_file = pdf_file.replace('.pdf','.jpg')\n",
    "        # Save the image to a file\n",
    "        image.save(pdf_img_path + pdf_file)\n",
    "        \n",
    "    print('succesfully converted all pdf files to images')"
   ]
  },
  {
   "cell_type": "code",
   "execution_count": 11,
   "metadata": {},
   "outputs": [
    {
     "name": "stdout",
     "output_type": "stream",
     "text": [
      "succesfully converted all pdf files to images\n"
     ]
    }
   ],
   "source": [
    "#pdf_to_img('ah_bonnen_pdf', 'ah_bonnen_img\\\\')"
   ]
  },
  {
   "cell_type": "code",
   "execution_count": 12,
   "metadata": {},
   "outputs": [],
   "source": [
    "def text_to_df(text, img_file):\n",
    "\n",
    "    temp_df = pd.DataFrame(columns=['Amount','Product','Price'])\n",
    "    try:\n",
    "        text_without_start = text.split('BONUSKAART xx9644', 1)[1]\n",
    "        text_without_end = text_without_start.split('UW VOORDEEL',1)[0]\n",
    "        lines = text_without_end.split(\"\\n\")\n",
    "    except Exception as ex:\n",
    "        print(img_file, ' did not work because', ex)\n",
    "        return temp_df\n",
    "\n",
    "    match = re.search(r\"\\d{1,2}-\\d{1,2}-\\d{4}\", text)\n",
    "    if match:\n",
    "        date = match.group()\n",
    "        date_without_time = re.sub(r\"\\s+\\d{1,2}:\\d{1,2}\\s*\", \" \", date)\n",
    "\n",
    "    for line in lines:\n",
    "        # Create an I that decides which part should be the amount.\n",
    "        i = -1\n",
    "        if line:\n",
    "            parts = line.split()\n",
    "            amount = parts[0]\n",
    "\n",
    "            # Ignore the bonus box lines.\n",
    "            if 'BBOX' in amount or 'BONUS' in amount:\n",
    "                continue\n",
    "            # The bonus and bonux box lines are the last on receipt.\n",
    "            # Therefore they have to be ignored to get the price.\n",
    "            while parts[i] == 'B' or parts[i] == 'BB':\n",
    "                i -=1\n",
    "            \n",
    "            # If the amount of the product is expressed in KG, we want to grab the kg price\n",
    "            # And remove KG from the line\n",
    "            if 'KG' in amount:\n",
    "                i -=1\n",
    "                product_name = \" \".join(parts[1:i])\n",
    "                amount = amount.replace('KG','')\n",
    "            else:\n",
    "                product_name = \" \".join(parts[1:i])\n",
    "\n",
    "            # Assign price and make it a float\n",
    "            # Also split price if the value is not right\n",
    "            price = parts[i]\n",
    "            price = price.replace(',', '.')\n",
    "            try:\n",
    "                if float(price) > 100:\n",
    "                    price = price[:1] + '.' + price[1:]\n",
    "                price = float(price)\n",
    "            except Exception as ex2:\n",
    "                print('Encounterd: ', ex2, 'For ', product_name, 'In', date_without_time)\n",
    "                price = 999\n",
    "\n",
    "            temp_df.loc[len(temp_df)] = [amount, product_name, price]\n",
    "\n",
    "    temp_df['Amount'] = pd.to_numeric(temp_df['Amount'], errors='coerce').fillna(1)\n",
    "    temp_df['Date'] = pd.to_datetime(date_without_time, format='%d-%m-%Y').date()\n",
    "    # Multiple the amount bought by the price to get the right price\n",
    "    # Known issue: Messes up subtotaal.\n",
    "    # If price is not a float it will return None\n",
    "    temp_df['Price_Amount'] = temp_df.apply(lambda x: round(x['Price'] * x['Amount'], 2) if isinstance(x['Price'], float) else None, axis=1)\n",
    "\n",
    "    return temp_df "
   ]
  },
  {
   "cell_type": "code",
   "execution_count": 13,
   "metadata": {},
   "outputs": [],
   "source": [
    "def text_from_img(pdf_img_path):\n",
    "\n",
    "    df = pd.DataFrame(columns=['Amount','Product','Price','Date'])\n",
    "\n",
    "    # Get a list of all the files in the directory\n",
    "    files = os.listdir(pdf_img_path)\n",
    "    # Loop through each file in the directory\n",
    "    for img_file in files:\n",
    "\n",
    "        full_path = os.path.join(pdf_img_path, img_file)\n",
    "        image = Image.open(full_path)\n",
    "        # Convert the image to grayscale\n",
    "        image = image.convert('L')\n",
    "        # Process the image with pytesseract\n",
    "        text = pytesseract.image_to_string(image)\n",
    "        temp_df = text_to_df(text, img_file)\n",
    "        df = pd.concat([df, temp_df]).reset_index(drop=True)\n",
    "\n",
    "    return df\n"
   ]
  },
  {
   "cell_type": "code",
   "execution_count": 15,
   "metadata": {},
   "outputs": [],
   "source": [
    "img_path = 'C:\\\\Users\\\\rie12\\\\Documents\\\\GitHub\\\\AH_kassabonnen\\\\ah_bonnen_img'"
   ]
  },
  {
   "cell_type": "code",
   "execution_count": 16,
   "metadata": {},
   "outputs": [
    {
     "name": "stdout",
     "output_type": "stream",
     "text": [
      "2001-03-22_AH_kassabon.jpg  did not work because list index out of range\n",
      "Encounterd:  could not convert string to float: '=' For  GOUDSALAMI\n",
      "Encounterd:  could not convert string to float: 'GOUDSALAMI' For  \n",
      "Encounterd:  could not convert string to float: 'LAS' For  Gl PENNE\n",
      "Encounterd:  could not convert string to float: '—' For  AH ROAST HAM\n",
      "Encounterd:  could not convert string to float: '-' For  GOUDSALAMI\n",
      "Encounterd:  could not convert string to float: 'i' For  KIPFILET\n",
      "2022-01-07_AH_kassabon.jpg  did not work because list index out of range\n",
      "Encounterd:  could not convert string to float: 'ia' For  AH YORKHAM\n",
      "Encounterd:  could not convert string to float: '35%' For  KL SCHIJFJES 0,65\n",
      "Encounterd:  could not convert string to float: 'Ly' For  DONUT SUIKER\n",
      "2022-05-04_AH_kassabon.jpg  did not work because list index out of range\n",
      "Encounterd:  could not convert string to float: 'L§5' For  UNOX GOODN\n",
      "2022-06-22_AH_kassabon.jpg  did not work because list index out of range\n",
      "Encounterd:  could not convert string to float: 'a' For  ONTBUITSPEK\n",
      "Encounterd:  could not convert string to float: 'a8' For  GOUDSALAMI\n",
      "Encounterd:  could not convert string to float: 'a' For  AH ROAST HAM\n",
      "Encounterd:  could not convert string to float: 'a' For  GOUDSALAMI\n",
      "Encounterd:  could not convert string to float: '35%' For  AH KIPREERJE 3,49\n",
      "Encounterd:  could not convert string to float: 'CERVELAAT' For  \n",
      "Encounterd:  could not convert string to float: '35%' For  PERZIKSCHIJF 2,19\n",
      "2022-10-16_AH_kassabon.jpg  did not work because list index out of range\n",
      "Encounterd:  could not convert string to float: '=' For  AH WORST PL\n",
      "Encounterd:  could not convert string to float: 'ye' For  AH GEK WORST\n",
      "Encounterd:  could not convert string to float: '35%' For  GEGR GEHAKT 1,49\n",
      "Encounterd:  could not convert string to float: 'ra' For  AH GEK WORST\n",
      "Encounterd:  could not convert string to float: '35%' For  TOMPOUCEN 3,00 B\n",
      "Encounterd:  could not convert string to float: '25%' For  AH PIZZA 6,39\n",
      "Encounterd:  could not convert string to float: 'oe' For  AH GER HAM\n",
      "Encounterd:  could not convert string to float: 'WORST' For  AH GEK\n",
      "Encounterd:  could not convert string to float: 'a' For  AH CERVELAAT\n",
      "Encounterd:  could not convert string to float: '#B' For  FRIKANDELBR 100\n",
      "Encounterd:  could not convert string to float: 'ae' For  ONTBUTSPEK\n",
      "Encounterd:  could not convert string to float: '40%' For  STOOMMAALTIJ 5,79\n",
      "2023-04-25_AH_kassabon.jpg  did not work because list index out of range\n"
     ]
    }
   ],
   "source": [
    "test = text_from_img(img_path)"
   ]
  },
  {
   "cell_type": "code",
   "execution_count": 22,
   "metadata": {},
   "outputs": [],
   "source": [
    "test = test.sort_values(by='Date')"
   ]
  },
  {
   "cell_type": "code",
   "execution_count": 23,
   "metadata": {},
   "outputs": [
    {
     "data": {
      "text/html": [
       "<div>\n",
       "<style scoped>\n",
       "    .dataframe tbody tr th:only-of-type {\n",
       "        vertical-align: middle;\n",
       "    }\n",
       "\n",
       "    .dataframe tbody tr th {\n",
       "        vertical-align: top;\n",
       "    }\n",
       "\n",
       "    .dataframe thead th {\n",
       "        text-align: right;\n",
       "    }\n",
       "</style>\n",
       "<table border=\"1\" class=\"dataframe\">\n",
       "  <thead>\n",
       "    <tr style=\"text-align: right;\">\n",
       "      <th></th>\n",
       "      <th>Amount</th>\n",
       "      <th>Product</th>\n",
       "      <th>Price</th>\n",
       "      <th>Date</th>\n",
       "      <th>Price_Amount</th>\n",
       "    </tr>\n",
       "  </thead>\n",
       "  <tbody>\n",
       "    <tr>\n",
       "      <th>104</th>\n",
       "      <td>5.0</td>\n",
       "      <td>SUBTOTAAL</td>\n",
       "      <td>9.54</td>\n",
       "      <td>2021-10-11</td>\n",
       "      <td>47.70</td>\n",
       "    </tr>\n",
       "    <tr>\n",
       "      <th>103</th>\n",
       "      <td>1.0</td>\n",
       "      <td>TIJGER VOLK</td>\n",
       "      <td>1.02</td>\n",
       "      <td>2021-10-11</td>\n",
       "      <td>1.02</td>\n",
       "    </tr>\n",
       "    <tr>\n",
       "      <th>102</th>\n",
       "      <td>1.0</td>\n",
       "      <td>PASTASAUS</td>\n",
       "      <td>1.79</td>\n",
       "      <td>2021-10-11</td>\n",
       "      <td>1.79</td>\n",
       "    </tr>\n",
       "    <tr>\n",
       "      <th>101</th>\n",
       "      <td>1.0</td>\n",
       "      <td>AH SPAGHETTI</td>\n",
       "      <td>2.25</td>\n",
       "      <td>2021-10-11</td>\n",
       "      <td>2.25</td>\n",
       "    </tr>\n",
       "    <tr>\n",
       "      <th>100</th>\n",
       "      <td>1.0</td>\n",
       "      <td>ZAANSE HOEVE</td>\n",
       "      <td>1.49</td>\n",
       "      <td>2021-10-11</td>\n",
       "      <td>1.49</td>\n",
       "    </tr>\n",
       "    <tr>\n",
       "      <th>...</th>\n",
       "      <td>...</td>\n",
       "      <td>...</td>\n",
       "      <td>...</td>\n",
       "      <td>...</td>\n",
       "      <td>...</td>\n",
       "    </tr>\n",
       "    <tr>\n",
       "      <th>1967</th>\n",
       "      <td>1.0</td>\n",
       "      <td>TAKS! TROPIS</td>\n",
       "      <td>1.69</td>\n",
       "      <td>2023-04-30</td>\n",
       "      <td>1.69</td>\n",
       "    </tr>\n",
       "    <tr>\n",
       "      <th>1966</th>\n",
       "      <td>1.0</td>\n",
       "      <td>DESPERADOS</td>\n",
       "      <td>9.79</td>\n",
       "      <td>2023-04-30</td>\n",
       "      <td>9.79</td>\n",
       "    </tr>\n",
       "    <tr>\n",
       "      <th>1965</th>\n",
       "      <td>1.0</td>\n",
       "      <td>OETKER PIZZA</td>\n",
       "      <td>4.19</td>\n",
       "      <td>2023-04-30</td>\n",
       "      <td>4.19</td>\n",
       "    </tr>\n",
       "    <tr>\n",
       "      <th>1972</th>\n",
       "      <td>1.0</td>\n",
       "      <td>LAY'S OVEN B</td>\n",
       "      <td>2.29</td>\n",
       "      <td>2023-04-30</td>\n",
       "      <td>2.29</td>\n",
       "    </tr>\n",
       "    <tr>\n",
       "      <th>1981</th>\n",
       "      <td>16.0</td>\n",
       "      <td>SUBTOTAAL</td>\n",
       "      <td>41.05</td>\n",
       "      <td>2023-04-30</td>\n",
       "      <td>656.80</td>\n",
       "    </tr>\n",
       "  </tbody>\n",
       "</table>\n",
       "<p>1982 rows × 5 columns</p>\n",
       "</div>"
      ],
      "text/plain": [
       "      Amount       Product  Price        Date  Price_Amount\n",
       "104      5.0     SUBTOTAAL   9.54  2021-10-11         47.70\n",
       "103      1.0   TIJGER VOLK   1.02  2021-10-11          1.02\n",
       "102      1.0     PASTASAUS   1.79  2021-10-11          1.79\n",
       "101      1.0  AH SPAGHETTI   2.25  2021-10-11          2.25\n",
       "100      1.0  ZAANSE HOEVE   1.49  2021-10-11          1.49\n",
       "...      ...           ...    ...         ...           ...\n",
       "1967     1.0  TAKS! TROPIS   1.69  2023-04-30          1.69\n",
       "1966     1.0    DESPERADOS   9.79  2023-04-30          9.79\n",
       "1965     1.0  OETKER PIZZA   4.19  2023-04-30          4.19\n",
       "1972     1.0  LAY'S OVEN B   2.29  2023-04-30          2.29\n",
       "1981    16.0     SUBTOTAAL  41.05  2023-04-30        656.80\n",
       "\n",
       "[1982 rows x 5 columns]"
      ]
     },
     "execution_count": 23,
     "metadata": {},
     "output_type": "execute_result"
    }
   ],
   "source": [
    "test"
   ]
  },
  {
   "attachments": {},
   "cell_type": "markdown",
   "metadata": {},
   "source": [
    "# AH Bonnen grafieken\n",
    "\n",
    "Wat wil ik laten zien:\n",
    "\n",
    "* Totale Prijs verschil over tijd\n",
    "* Meest gekochte producten\n",
    "* Voor meest gekochte producten het verschil over tijd"
   ]
  },
  {
   "cell_type": "code",
   "execution_count": 24,
   "metadata": {},
   "outputs": [],
   "source": [
    "import matplotlib.pyplot as plt \n",
    "import plotly.express as px\n",
    "import plotly.graph_objects as go"
   ]
  },
  {
   "cell_type": "code",
   "execution_count": 25,
   "metadata": {},
   "outputs": [],
   "source": [
    "# Totale prijs df maken.\n",
    "test['Price'] = pd.to_numeric(test['Price'])\n",
    "total_df = test[test['Product'] == 'SUBTOTAAL']"
   ]
  },
  {
   "cell_type": "code",
   "execution_count": 29,
   "metadata": {},
   "outputs": [],
   "source": [
    "# Data klaar maken.\n",
    "total_df.loc[:, 'divided_price'] = total_df['Price'] / total_df['Amount']\n",
    "total_df['Date'] = pd.to_datetime(total_df['Date'])\n",
    "\n",
    "# Calculate rolling mean for Price column\n",
    "total_df['Rolling Mean'] = total_df['Price'].rolling(window=10).mean()"
   ]
  },
  {
   "cell_type": "code",
   "execution_count": 30,
   "metadata": {},
   "outputs": [
    {
     "data": {
      "application/vnd.plotly.v1+json": {
       "config": {
        "plotlyServerURL": "https://plot.ly"
       },
       "data": [
        {
         "name": "Price over Time",
         "type": "scatter",
         "x": [
          "2021-10-11T00:00:00",
          "2021-10-12T00:00:00",
          "2021-10-13T00:00:00",
          "2021-10-25T00:00:00",
          "2021-10-27T00:00:00",
          "2021-10-28T00:00:00",
          "2021-11-01T00:00:00",
          "2021-11-03T00:00:00",
          "2021-11-05T00:00:00",
          "2021-11-06T00:00:00",
          "2021-11-08T00:00:00",
          "2021-11-09T00:00:00",
          "2021-11-12T00:00:00",
          "2021-11-13T00:00:00",
          "2021-11-15T00:00:00",
          "2021-11-21T00:00:00",
          "2021-11-24T00:00:00",
          "2021-11-26T00:00:00",
          "2021-12-01T00:00:00",
          "2021-12-01T00:00:00",
          "2021-12-05T00:00:00",
          "2021-12-07T00:00:00",
          "2021-12-09T00:00:00",
          "2021-12-12T00:00:00",
          "2021-12-16T00:00:00",
          "2021-12-17T00:00:00",
          "2021-12-20T00:00:00",
          "2021-12-22T00:00:00",
          "2022-01-04T00:00:00",
          "2022-01-11T00:00:00",
          "2022-01-12T00:00:00",
          "2022-01-14T00:00:00",
          "2022-01-16T00:00:00",
          "2022-01-18T00:00:00",
          "2022-01-19T00:00:00",
          "2022-01-22T00:00:00",
          "2022-01-25T00:00:00",
          "2022-01-27T00:00:00",
          "2022-01-31T00:00:00",
          "2022-02-03T00:00:00",
          "2022-02-06T00:00:00",
          "2022-02-08T00:00:00",
          "2022-02-10T00:00:00",
          "2022-02-13T00:00:00",
          "2022-02-15T00:00:00",
          "2022-02-18T00:00:00",
          "2022-02-19T00:00:00",
          "2022-02-22T00:00:00",
          "2022-02-27T00:00:00",
          "2022-03-03T00:00:00",
          "2022-03-05T00:00:00",
          "2022-03-08T00:00:00",
          "2022-03-10T00:00:00",
          "2022-03-21T00:00:00",
          "2022-03-23T00:00:00",
          "2022-03-25T00:00:00",
          "2022-03-27T00:00:00",
          "2022-03-30T00:00:00",
          "2022-04-01T00:00:00",
          "2022-04-04T00:00:00",
          "2022-04-06T00:00:00",
          "2022-04-08T00:00:00",
          "2022-04-10T00:00:00",
          "2022-04-13T00:00:00",
          "2022-04-16T00:00:00",
          "2022-04-18T00:00:00",
          "2022-04-21T00:00:00",
          "2022-04-25T00:00:00",
          "2022-05-02T00:00:00",
          "2022-05-08T00:00:00",
          "2022-05-11T00:00:00",
          "2022-05-14T00:00:00",
          "2022-05-18T00:00:00",
          "2022-05-23T00:00:00",
          "2022-05-25T00:00:00",
          "2022-05-27T00:00:00",
          "2022-05-30T00:00:00",
          "2022-06-02T00:00:00",
          "2022-06-09T00:00:00",
          "2022-06-11T00:00:00",
          "2022-06-13T00:00:00",
          "2022-06-15T00:00:00",
          "2022-06-17T00:00:00",
          "2022-06-20T00:00:00",
          "2022-06-25T00:00:00",
          "2022-06-27T00:00:00",
          "2022-07-04T00:00:00",
          "2022-07-07T00:00:00",
          "2022-07-10T00:00:00",
          "2022-07-12T00:00:00",
          "2022-07-15T00:00:00",
          "2022-08-01T00:00:00",
          "2022-08-02T00:00:00",
          "2022-08-09T00:00:00",
          "2022-08-19T00:00:00",
          "2022-08-22T00:00:00",
          "2022-08-23T00:00:00",
          "2022-08-25T00:00:00",
          "2022-08-30T00:00:00",
          "2022-09-01T00:00:00",
          "2022-09-05T00:00:00",
          "2022-09-07T00:00:00",
          "2022-09-11T00:00:00",
          "2022-09-13T00:00:00",
          "2022-09-15T00:00:00",
          "2022-09-19T00:00:00",
          "2022-09-21T00:00:00",
          "2022-09-23T00:00:00",
          "2022-09-26T00:00:00",
          "2022-09-29T00:00:00",
          "2022-10-03T00:00:00",
          "2022-10-06T00:00:00",
          "2022-10-09T00:00:00",
          "2022-10-12T00:00:00",
          "2022-10-18T00:00:00",
          "2022-10-19T00:00:00",
          "2022-10-22T00:00:00",
          "2022-10-26T00:00:00",
          "2022-10-30T00:00:00",
          "2022-11-01T00:00:00",
          "2022-11-04T00:00:00",
          "2022-11-08T00:00:00",
          "2022-11-09T00:00:00",
          "2022-11-13T00:00:00",
          "2022-11-16T00:00:00",
          "2022-11-18T00:00:00",
          "2022-11-22T00:00:00",
          "2022-11-26T00:00:00",
          "2022-11-29T00:00:00",
          "2022-12-03T00:00:00",
          "2022-12-10T00:00:00",
          "2022-12-14T00:00:00",
          "2022-12-19T00:00:00",
          "2022-12-23T00:00:00",
          "2023-01-03T00:00:00",
          "2023-01-05T00:00:00",
          "2023-01-08T00:00:00",
          "2023-01-11T00:00:00",
          "2023-01-17T00:00:00",
          "2023-01-20T00:00:00",
          "2023-01-24T00:00:00",
          "2023-01-28T00:00:00",
          "2023-02-01T00:00:00",
          "2023-02-01T00:00:00",
          "2023-02-06T00:00:00",
          "2023-02-08T00:00:00",
          "2023-02-12T00:00:00",
          "2023-02-15T00:00:00",
          "2023-02-18T00:00:00",
          "2023-02-19T00:00:00",
          "2023-02-23T00:00:00",
          "2023-02-27T00:00:00",
          "2023-03-01T00:00:00",
          "2023-03-01T00:00:00",
          "2023-03-05T00:00:00",
          "2023-03-08T00:00:00",
          "2023-03-11T00:00:00",
          "2023-03-14T00:00:00",
          "2023-03-16T00:00:00",
          "2023-03-20T00:00:00",
          "2023-03-23T00:00:00",
          "2023-03-26T00:00:00",
          "2023-03-27T00:00:00",
          "2023-04-04T00:00:00",
          "2023-04-05T00:00:00",
          "2023-04-07T00:00:00",
          "2023-04-13T00:00:00",
          "2023-04-17T00:00:00",
          "2023-04-19T00:00:00",
          "2023-04-21T00:00:00",
          "2023-04-30T00:00:00"
         ],
         "y": [
          9.54,
          14.75,
          17.76,
          7.64,
          10.59,
          13.28,
          19.01,
          20.99,
          9.51,
          12.92,
          19.2,
          14.09,
          14.08,
          17.28,
          13.4,
          18.3,
          20.7,
          20.04,
          17.6,
          17.6,
          10.91,
          18.83,
          11.11,
          20.43,
          11.03,
          3.79,
          20.66,
          10.2,
          18.77,
          21.09,
          16.01,
          12.51,
          17.44,
          9.22,
          14.07,
          16.71,
          19.51,
          10.8,
          16.69,
          23.4,
          19.25,
          17.02,
          9.62,
          12.75,
          20.72,
          9.47,
          16.14,
          19.23,
          17.74,
          14.82,
          19.4,
          16.1,
          15.07,
          16.53,
          18.31,
          11.96,
          23.51,
          11.67,
          16.68,
          11.14,
          23.56,
          7.72,
          21.65,
          14.16,
          14.35,
          19.35,
          25.54,
          30.12,
          18.25,
          20.6,
          29.66,
          19.24,
          21.92,
          24.82,
          22.08,
          20.31,
          25.26,
          17.58,
          17.53,
          27.87,
          22.43,
          16.62,
          17.36,
          15.69,
          28.32,
          26.45,
          28.83,
          20.26,
          21.4,
          22.25,
          12.3,
          26.03,
          15.2,
          19.69,
          23.34,
          13.57,
          9.38,
          20.65,
          24.42,
          8.82,
          16.86,
          11.85,
          14.45,
          17.98,
          18.78,
          29.74,
          16.91,
          5.99,
          22.48,
          12.63,
          25.78,
          24.12,
          26.93,
          19.39,
          19.03,
          22.72,
          25.62,
          22.17,
          10.75,
          37.18,
          35.25,
          33.32,
          13.69,
          26.95,
          25.14,
          6.17,
          44.48,
          28.37,
          28.15,
          33.8,
          32.25,
          19.88,
          37.17,
          20.6,
          14.62,
          2.741,
          33.71,
          24.56,
          39.84,
          26.79,
          37.7,
          28.88,
          34.08,
          34.08,
          34.46,
          28.95,
          26.72,
          27.69,
          25.32,
          17.12,
          25.86,
          34.44,
          24.46,
          24.46,
          23.71,
          23.99,
          33.18,
          19.1,
          40.14,
          32.43,
          23.14,
          14.19,
          45.68,
          30.16,
          15.65,
          7.39,
          40.36,
          37.03,
          21.05,
          7.97,
          41.05
         ]
        },
        {
         "name": "10 visits rolling mean",
         "type": "scatter",
         "x": [
          "2021-10-11T00:00:00",
          "2021-10-12T00:00:00",
          "2021-10-13T00:00:00",
          "2021-10-25T00:00:00",
          "2021-10-27T00:00:00",
          "2021-10-28T00:00:00",
          "2021-11-01T00:00:00",
          "2021-11-03T00:00:00",
          "2021-11-05T00:00:00",
          "2021-11-06T00:00:00",
          "2021-11-08T00:00:00",
          "2021-11-09T00:00:00",
          "2021-11-12T00:00:00",
          "2021-11-13T00:00:00",
          "2021-11-15T00:00:00",
          "2021-11-21T00:00:00",
          "2021-11-24T00:00:00",
          "2021-11-26T00:00:00",
          "2021-12-01T00:00:00",
          "2021-12-01T00:00:00",
          "2021-12-05T00:00:00",
          "2021-12-07T00:00:00",
          "2021-12-09T00:00:00",
          "2021-12-12T00:00:00",
          "2021-12-16T00:00:00",
          "2021-12-17T00:00:00",
          "2021-12-20T00:00:00",
          "2021-12-22T00:00:00",
          "2022-01-04T00:00:00",
          "2022-01-11T00:00:00",
          "2022-01-12T00:00:00",
          "2022-01-14T00:00:00",
          "2022-01-16T00:00:00",
          "2022-01-18T00:00:00",
          "2022-01-19T00:00:00",
          "2022-01-22T00:00:00",
          "2022-01-25T00:00:00",
          "2022-01-27T00:00:00",
          "2022-01-31T00:00:00",
          "2022-02-03T00:00:00",
          "2022-02-06T00:00:00",
          "2022-02-08T00:00:00",
          "2022-02-10T00:00:00",
          "2022-02-13T00:00:00",
          "2022-02-15T00:00:00",
          "2022-02-18T00:00:00",
          "2022-02-19T00:00:00",
          "2022-02-22T00:00:00",
          "2022-02-27T00:00:00",
          "2022-03-03T00:00:00",
          "2022-03-05T00:00:00",
          "2022-03-08T00:00:00",
          "2022-03-10T00:00:00",
          "2022-03-21T00:00:00",
          "2022-03-23T00:00:00",
          "2022-03-25T00:00:00",
          "2022-03-27T00:00:00",
          "2022-03-30T00:00:00",
          "2022-04-01T00:00:00",
          "2022-04-04T00:00:00",
          "2022-04-06T00:00:00",
          "2022-04-08T00:00:00",
          "2022-04-10T00:00:00",
          "2022-04-13T00:00:00",
          "2022-04-16T00:00:00",
          "2022-04-18T00:00:00",
          "2022-04-21T00:00:00",
          "2022-04-25T00:00:00",
          "2022-05-02T00:00:00",
          "2022-05-08T00:00:00",
          "2022-05-11T00:00:00",
          "2022-05-14T00:00:00",
          "2022-05-18T00:00:00",
          "2022-05-23T00:00:00",
          "2022-05-25T00:00:00",
          "2022-05-27T00:00:00",
          "2022-05-30T00:00:00",
          "2022-06-02T00:00:00",
          "2022-06-09T00:00:00",
          "2022-06-11T00:00:00",
          "2022-06-13T00:00:00",
          "2022-06-15T00:00:00",
          "2022-06-17T00:00:00",
          "2022-06-20T00:00:00",
          "2022-06-25T00:00:00",
          "2022-06-27T00:00:00",
          "2022-07-04T00:00:00",
          "2022-07-07T00:00:00",
          "2022-07-10T00:00:00",
          "2022-07-12T00:00:00",
          "2022-07-15T00:00:00",
          "2022-08-01T00:00:00",
          "2022-08-02T00:00:00",
          "2022-08-09T00:00:00",
          "2022-08-19T00:00:00",
          "2022-08-22T00:00:00",
          "2022-08-23T00:00:00",
          "2022-08-25T00:00:00",
          "2022-08-30T00:00:00",
          "2022-09-01T00:00:00",
          "2022-09-05T00:00:00",
          "2022-09-07T00:00:00",
          "2022-09-11T00:00:00",
          "2022-09-13T00:00:00",
          "2022-09-15T00:00:00",
          "2022-09-19T00:00:00",
          "2022-09-21T00:00:00",
          "2022-09-23T00:00:00",
          "2022-09-26T00:00:00",
          "2022-09-29T00:00:00",
          "2022-10-03T00:00:00",
          "2022-10-06T00:00:00",
          "2022-10-09T00:00:00",
          "2022-10-12T00:00:00",
          "2022-10-18T00:00:00",
          "2022-10-19T00:00:00",
          "2022-10-22T00:00:00",
          "2022-10-26T00:00:00",
          "2022-10-30T00:00:00",
          "2022-11-01T00:00:00",
          "2022-11-04T00:00:00",
          "2022-11-08T00:00:00",
          "2022-11-09T00:00:00",
          "2022-11-13T00:00:00",
          "2022-11-16T00:00:00",
          "2022-11-18T00:00:00",
          "2022-11-22T00:00:00",
          "2022-11-26T00:00:00",
          "2022-11-29T00:00:00",
          "2022-12-03T00:00:00",
          "2022-12-10T00:00:00",
          "2022-12-14T00:00:00",
          "2022-12-19T00:00:00",
          "2022-12-23T00:00:00",
          "2023-01-03T00:00:00",
          "2023-01-05T00:00:00",
          "2023-01-08T00:00:00",
          "2023-01-11T00:00:00",
          "2023-01-17T00:00:00",
          "2023-01-20T00:00:00",
          "2023-01-24T00:00:00",
          "2023-01-28T00:00:00",
          "2023-02-01T00:00:00",
          "2023-02-01T00:00:00",
          "2023-02-06T00:00:00",
          "2023-02-08T00:00:00",
          "2023-02-12T00:00:00",
          "2023-02-15T00:00:00",
          "2023-02-18T00:00:00",
          "2023-02-19T00:00:00",
          "2023-02-23T00:00:00",
          "2023-02-27T00:00:00",
          "2023-03-01T00:00:00",
          "2023-03-01T00:00:00",
          "2023-03-05T00:00:00",
          "2023-03-08T00:00:00",
          "2023-03-11T00:00:00",
          "2023-03-14T00:00:00",
          "2023-03-16T00:00:00",
          "2023-03-20T00:00:00",
          "2023-03-23T00:00:00",
          "2023-03-26T00:00:00",
          "2023-03-27T00:00:00",
          "2023-04-04T00:00:00",
          "2023-04-05T00:00:00",
          "2023-04-07T00:00:00",
          "2023-04-13T00:00:00",
          "2023-04-17T00:00:00",
          "2023-04-19T00:00:00",
          "2023-04-21T00:00:00",
          "2023-04-30T00:00:00"
         ],
         "y": [
          null,
          null,
          null,
          null,
          null,
          null,
          null,
          null,
          null,
          13.599,
          14.565000000000001,
          14.499,
          14.131,
          15.094999999999999,
          15.376000000000001,
          15.878000000000004,
          16.047,
          15.952000000000002,
          16.761,
          17.229000000000003,
          16.400000000000002,
          16.874000000000002,
          16.577,
          16.892000000000003,
          16.654999999999998,
          15.204000000000002,
          15.2,
          14.216,
          14.332999999999998,
          14.681999999999999,
          15.192000000000002,
          14.559999999999999,
          15.193000000000001,
          14.072,
          14.376,
          15.668000000000001,
          15.553,
          15.613,
          15.405000000000001,
          15.636000000000001,
          15.959999999999999,
          16.411,
          15.629,
          15.982,
          16.647,
          15.922999999999998,
          15.586000000000002,
          16.429,
          16.534,
          15.675999999999998,
          15.690999999999999,
          15.598999999999998,
          16.144,
          16.522,
          16.281,
          16.53,
          17.267,
          16.511000000000003,
          16.405,
          16.037,
          16.453,
          15.615,
          16.273000000000003,
          16.036,
          15.64,
          16.378999999999998,
          16.582,
          18.427,
          18.583999999999996,
          19.53,
          20.14,
          21.291999999999998,
          21.319,
          22.384999999999998,
          23.158,
          23.254,
          23.226,
          21.972,
          21.9,
          22.627,
          21.904,
          21.642000000000003,
          21.186,
          20.273,
          20.897,
          21.511000000000003,
          21.868000000000002,
          22.136000000000003,
          22.523000000000003,
          21.961000000000002,
          20.948,
          21.889,
          21.673000000000002,
          22.073,
          21.575,
          20.287,
          18.342,
          18.381,
          18.683,
          17.34,
          17.796,
          16.378,
          16.303,
          16.131999999999998,
          15.675999999999998,
          17.293,
          18.046,
          16.580000000000002,
          16.386,
          16.767,
          17.659,
          18.886000000000003,
          20.134,
          20.275,
          20.3,
          19.598,
          20.469,
          22.087,
          20.914,
          23.369,
          24.316000000000003,
          25.236,
          23.912,
          24.668,
          25.279000000000003,
          23.624000000000002,
          25.51,
          26.130000000000003,
          27.869999999999997,
          27.532,
          27.232,
          25.887999999999998,
          28.236,
          27.601,
          26.549,
          26.2061,
          25.1291,
          24.7481,
          25.917099999999998,
          25.216099999999997,
          25.7611,
          26.661099999999998,
          26.3521,
          27.7001,
          29.6841,
          32.305,
          31.606,
          31.919,
          30.467000000000002,
          29.5,
          28.315999999999995,
          28.872000000000003,
          27.910000000000004,
          26.948,
          25.873,
          25.377000000000002,
          26.023000000000003,
          25.164,
          26.645999999999997,
          28.177,
          27.905,
          25.880000000000003,
          28.002,
          28.572000000000003,
          27.766,
          26.106,
          26.824,
          28.617,
          26.708,
          24.262,
          26.053000000000004
         ]
        }
       ],
       "layout": {
        "template": {
         "data": {
          "bar": [
           {
            "error_x": {
             "color": "#2a3f5f"
            },
            "error_y": {
             "color": "#2a3f5f"
            },
            "marker": {
             "line": {
              "color": "#E5ECF6",
              "width": 0.5
             },
             "pattern": {
              "fillmode": "overlay",
              "size": 10,
              "solidity": 0.2
             }
            },
            "type": "bar"
           }
          ],
          "barpolar": [
           {
            "marker": {
             "line": {
              "color": "#E5ECF6",
              "width": 0.5
             },
             "pattern": {
              "fillmode": "overlay",
              "size": 10,
              "solidity": 0.2
             }
            },
            "type": "barpolar"
           }
          ],
          "carpet": [
           {
            "aaxis": {
             "endlinecolor": "#2a3f5f",
             "gridcolor": "white",
             "linecolor": "white",
             "minorgridcolor": "white",
             "startlinecolor": "#2a3f5f"
            },
            "baxis": {
             "endlinecolor": "#2a3f5f",
             "gridcolor": "white",
             "linecolor": "white",
             "minorgridcolor": "white",
             "startlinecolor": "#2a3f5f"
            },
            "type": "carpet"
           }
          ],
          "choropleth": [
           {
            "colorbar": {
             "outlinewidth": 0,
             "ticks": ""
            },
            "type": "choropleth"
           }
          ],
          "contour": [
           {
            "colorbar": {
             "outlinewidth": 0,
             "ticks": ""
            },
            "colorscale": [
             [
              0,
              "#0d0887"
             ],
             [
              0.1111111111111111,
              "#46039f"
             ],
             [
              0.2222222222222222,
              "#7201a8"
             ],
             [
              0.3333333333333333,
              "#9c179e"
             ],
             [
              0.4444444444444444,
              "#bd3786"
             ],
             [
              0.5555555555555556,
              "#d8576b"
             ],
             [
              0.6666666666666666,
              "#ed7953"
             ],
             [
              0.7777777777777778,
              "#fb9f3a"
             ],
             [
              0.8888888888888888,
              "#fdca26"
             ],
             [
              1,
              "#f0f921"
             ]
            ],
            "type": "contour"
           }
          ],
          "contourcarpet": [
           {
            "colorbar": {
             "outlinewidth": 0,
             "ticks": ""
            },
            "type": "contourcarpet"
           }
          ],
          "heatmap": [
           {
            "colorbar": {
             "outlinewidth": 0,
             "ticks": ""
            },
            "colorscale": [
             [
              0,
              "#0d0887"
             ],
             [
              0.1111111111111111,
              "#46039f"
             ],
             [
              0.2222222222222222,
              "#7201a8"
             ],
             [
              0.3333333333333333,
              "#9c179e"
             ],
             [
              0.4444444444444444,
              "#bd3786"
             ],
             [
              0.5555555555555556,
              "#d8576b"
             ],
             [
              0.6666666666666666,
              "#ed7953"
             ],
             [
              0.7777777777777778,
              "#fb9f3a"
             ],
             [
              0.8888888888888888,
              "#fdca26"
             ],
             [
              1,
              "#f0f921"
             ]
            ],
            "type": "heatmap"
           }
          ],
          "heatmapgl": [
           {
            "colorbar": {
             "outlinewidth": 0,
             "ticks": ""
            },
            "colorscale": [
             [
              0,
              "#0d0887"
             ],
             [
              0.1111111111111111,
              "#46039f"
             ],
             [
              0.2222222222222222,
              "#7201a8"
             ],
             [
              0.3333333333333333,
              "#9c179e"
             ],
             [
              0.4444444444444444,
              "#bd3786"
             ],
             [
              0.5555555555555556,
              "#d8576b"
             ],
             [
              0.6666666666666666,
              "#ed7953"
             ],
             [
              0.7777777777777778,
              "#fb9f3a"
             ],
             [
              0.8888888888888888,
              "#fdca26"
             ],
             [
              1,
              "#f0f921"
             ]
            ],
            "type": "heatmapgl"
           }
          ],
          "histogram": [
           {
            "marker": {
             "pattern": {
              "fillmode": "overlay",
              "size": 10,
              "solidity": 0.2
             }
            },
            "type": "histogram"
           }
          ],
          "histogram2d": [
           {
            "colorbar": {
             "outlinewidth": 0,
             "ticks": ""
            },
            "colorscale": [
             [
              0,
              "#0d0887"
             ],
             [
              0.1111111111111111,
              "#46039f"
             ],
             [
              0.2222222222222222,
              "#7201a8"
             ],
             [
              0.3333333333333333,
              "#9c179e"
             ],
             [
              0.4444444444444444,
              "#bd3786"
             ],
             [
              0.5555555555555556,
              "#d8576b"
             ],
             [
              0.6666666666666666,
              "#ed7953"
             ],
             [
              0.7777777777777778,
              "#fb9f3a"
             ],
             [
              0.8888888888888888,
              "#fdca26"
             ],
             [
              1,
              "#f0f921"
             ]
            ],
            "type": "histogram2d"
           }
          ],
          "histogram2dcontour": [
           {
            "colorbar": {
             "outlinewidth": 0,
             "ticks": ""
            },
            "colorscale": [
             [
              0,
              "#0d0887"
             ],
             [
              0.1111111111111111,
              "#46039f"
             ],
             [
              0.2222222222222222,
              "#7201a8"
             ],
             [
              0.3333333333333333,
              "#9c179e"
             ],
             [
              0.4444444444444444,
              "#bd3786"
             ],
             [
              0.5555555555555556,
              "#d8576b"
             ],
             [
              0.6666666666666666,
              "#ed7953"
             ],
             [
              0.7777777777777778,
              "#fb9f3a"
             ],
             [
              0.8888888888888888,
              "#fdca26"
             ],
             [
              1,
              "#f0f921"
             ]
            ],
            "type": "histogram2dcontour"
           }
          ],
          "mesh3d": [
           {
            "colorbar": {
             "outlinewidth": 0,
             "ticks": ""
            },
            "type": "mesh3d"
           }
          ],
          "parcoords": [
           {
            "line": {
             "colorbar": {
              "outlinewidth": 0,
              "ticks": ""
             }
            },
            "type": "parcoords"
           }
          ],
          "pie": [
           {
            "automargin": true,
            "type": "pie"
           }
          ],
          "scatter": [
           {
            "marker": {
             "colorbar": {
              "outlinewidth": 0,
              "ticks": ""
             }
            },
            "type": "scatter"
           }
          ],
          "scatter3d": [
           {
            "line": {
             "colorbar": {
              "outlinewidth": 0,
              "ticks": ""
             }
            },
            "marker": {
             "colorbar": {
              "outlinewidth": 0,
              "ticks": ""
             }
            },
            "type": "scatter3d"
           }
          ],
          "scattercarpet": [
           {
            "marker": {
             "colorbar": {
              "outlinewidth": 0,
              "ticks": ""
             }
            },
            "type": "scattercarpet"
           }
          ],
          "scattergeo": [
           {
            "marker": {
             "colorbar": {
              "outlinewidth": 0,
              "ticks": ""
             }
            },
            "type": "scattergeo"
           }
          ],
          "scattergl": [
           {
            "marker": {
             "colorbar": {
              "outlinewidth": 0,
              "ticks": ""
             }
            },
            "type": "scattergl"
           }
          ],
          "scattermapbox": [
           {
            "marker": {
             "colorbar": {
              "outlinewidth": 0,
              "ticks": ""
             }
            },
            "type": "scattermapbox"
           }
          ],
          "scatterpolar": [
           {
            "marker": {
             "colorbar": {
              "outlinewidth": 0,
              "ticks": ""
             }
            },
            "type": "scatterpolar"
           }
          ],
          "scatterpolargl": [
           {
            "marker": {
             "colorbar": {
              "outlinewidth": 0,
              "ticks": ""
             }
            },
            "type": "scatterpolargl"
           }
          ],
          "scatterternary": [
           {
            "marker": {
             "colorbar": {
              "outlinewidth": 0,
              "ticks": ""
             }
            },
            "type": "scatterternary"
           }
          ],
          "surface": [
           {
            "colorbar": {
             "outlinewidth": 0,
             "ticks": ""
            },
            "colorscale": [
             [
              0,
              "#0d0887"
             ],
             [
              0.1111111111111111,
              "#46039f"
             ],
             [
              0.2222222222222222,
              "#7201a8"
             ],
             [
              0.3333333333333333,
              "#9c179e"
             ],
             [
              0.4444444444444444,
              "#bd3786"
             ],
             [
              0.5555555555555556,
              "#d8576b"
             ],
             [
              0.6666666666666666,
              "#ed7953"
             ],
             [
              0.7777777777777778,
              "#fb9f3a"
             ],
             [
              0.8888888888888888,
              "#fdca26"
             ],
             [
              1,
              "#f0f921"
             ]
            ],
            "type": "surface"
           }
          ],
          "table": [
           {
            "cells": {
             "fill": {
              "color": "#EBF0F8"
             },
             "line": {
              "color": "white"
             }
            },
            "header": {
             "fill": {
              "color": "#C8D4E3"
             },
             "line": {
              "color": "white"
             }
            },
            "type": "table"
           }
          ]
         },
         "layout": {
          "annotationdefaults": {
           "arrowcolor": "#2a3f5f",
           "arrowhead": 0,
           "arrowwidth": 1
          },
          "autotypenumbers": "strict",
          "coloraxis": {
           "colorbar": {
            "outlinewidth": 0,
            "ticks": ""
           }
          },
          "colorscale": {
           "diverging": [
            [
             0,
             "#8e0152"
            ],
            [
             0.1,
             "#c51b7d"
            ],
            [
             0.2,
             "#de77ae"
            ],
            [
             0.3,
             "#f1b6da"
            ],
            [
             0.4,
             "#fde0ef"
            ],
            [
             0.5,
             "#f7f7f7"
            ],
            [
             0.6,
             "#e6f5d0"
            ],
            [
             0.7,
             "#b8e186"
            ],
            [
             0.8,
             "#7fbc41"
            ],
            [
             0.9,
             "#4d9221"
            ],
            [
             1,
             "#276419"
            ]
           ],
           "sequential": [
            [
             0,
             "#0d0887"
            ],
            [
             0.1111111111111111,
             "#46039f"
            ],
            [
             0.2222222222222222,
             "#7201a8"
            ],
            [
             0.3333333333333333,
             "#9c179e"
            ],
            [
             0.4444444444444444,
             "#bd3786"
            ],
            [
             0.5555555555555556,
             "#d8576b"
            ],
            [
             0.6666666666666666,
             "#ed7953"
            ],
            [
             0.7777777777777778,
             "#fb9f3a"
            ],
            [
             0.8888888888888888,
             "#fdca26"
            ],
            [
             1,
             "#f0f921"
            ]
           ],
           "sequentialminus": [
            [
             0,
             "#0d0887"
            ],
            [
             0.1111111111111111,
             "#46039f"
            ],
            [
             0.2222222222222222,
             "#7201a8"
            ],
            [
             0.3333333333333333,
             "#9c179e"
            ],
            [
             0.4444444444444444,
             "#bd3786"
            ],
            [
             0.5555555555555556,
             "#d8576b"
            ],
            [
             0.6666666666666666,
             "#ed7953"
            ],
            [
             0.7777777777777778,
             "#fb9f3a"
            ],
            [
             0.8888888888888888,
             "#fdca26"
            ],
            [
             1,
             "#f0f921"
            ]
           ]
          },
          "colorway": [
           "#636efa",
           "#EF553B",
           "#00cc96",
           "#ab63fa",
           "#FFA15A",
           "#19d3f3",
           "#FF6692",
           "#B6E880",
           "#FF97FF",
           "#FECB52"
          ],
          "font": {
           "color": "#2a3f5f"
          },
          "geo": {
           "bgcolor": "white",
           "lakecolor": "white",
           "landcolor": "#E5ECF6",
           "showlakes": true,
           "showland": true,
           "subunitcolor": "white"
          },
          "hoverlabel": {
           "align": "left"
          },
          "hovermode": "closest",
          "mapbox": {
           "style": "light"
          },
          "paper_bgcolor": "white",
          "plot_bgcolor": "#E5ECF6",
          "polar": {
           "angularaxis": {
            "gridcolor": "white",
            "linecolor": "white",
            "ticks": ""
           },
           "bgcolor": "#E5ECF6",
           "radialaxis": {
            "gridcolor": "white",
            "linecolor": "white",
            "ticks": ""
           }
          },
          "scene": {
           "xaxis": {
            "backgroundcolor": "#E5ECF6",
            "gridcolor": "white",
            "gridwidth": 2,
            "linecolor": "white",
            "showbackground": true,
            "ticks": "",
            "zerolinecolor": "white"
           },
           "yaxis": {
            "backgroundcolor": "#E5ECF6",
            "gridcolor": "white",
            "gridwidth": 2,
            "linecolor": "white",
            "showbackground": true,
            "ticks": "",
            "zerolinecolor": "white"
           },
           "zaxis": {
            "backgroundcolor": "#E5ECF6",
            "gridcolor": "white",
            "gridwidth": 2,
            "linecolor": "white",
            "showbackground": true,
            "ticks": "",
            "zerolinecolor": "white"
           }
          },
          "shapedefaults": {
           "line": {
            "color": "#2a3f5f"
           }
          },
          "ternary": {
           "aaxis": {
            "gridcolor": "white",
            "linecolor": "white",
            "ticks": ""
           },
           "baxis": {
            "gridcolor": "white",
            "linecolor": "white",
            "ticks": ""
           },
           "bgcolor": "#E5ECF6",
           "caxis": {
            "gridcolor": "white",
            "linecolor": "white",
            "ticks": ""
           }
          },
          "title": {
           "x": 0.05
          },
          "xaxis": {
           "automargin": true,
           "gridcolor": "white",
           "linecolor": "white",
           "ticks": "",
           "title": {
            "standoff": 15
           },
           "zerolinecolor": "white",
           "zerolinewidth": 2
          },
          "yaxis": {
           "automargin": true,
           "gridcolor": "white",
           "linecolor": "white",
           "ticks": "",
           "title": {
            "standoff": 15
           },
           "zerolinecolor": "white",
           "zerolinewidth": 2
          }
         }
        }
       }
      }
     },
     "metadata": {},
     "output_type": "display_data"
    }
   ],
   "source": [
    "line1 = go.Scatter(x=total_df['Date'], y=total_df['Price'], name='Price over Time')\n",
    "line2 = go.Scatter(x=total_df['Date'], y=total_df['Rolling Mean'], name='10 visits rolling mean')\n",
    "#line2 = go.Scatter(x=total_df['Date'], y=total_df['Amount'], name='Amount over Time')\n",
    "data = [line1, line2]\n",
    "fig = go.Figure(data=data)\n",
    "fig.show()"
   ]
  },
  {
   "cell_type": "code",
   "execution_count": null,
   "metadata": {},
   "outputs": [],
   "source": []
  },
  {
   "attachments": {},
   "cell_type": "markdown",
   "metadata": {},
   "source": [
    "## Meest voorkomende producten"
   ]
  },
  {
   "cell_type": "code",
   "execution_count": 134,
   "metadata": {},
   "outputs": [
    {
     "name": "stdout",
     "output_type": "stream",
     "text": [
      "<class 'pandas.core.frame.DataFrame'>\n",
      "RangeIndex: 322 entries, 0 to 321\n",
      "Data columns (total 5 columns):\n",
      " #   Column        Non-Null Count  Dtype  \n",
      "---  ------        --------------  -----  \n",
      " 0   Amount        322 non-null    float64\n",
      " 1   Product       322 non-null    object \n",
      " 2   Price         322 non-null    float64\n",
      " 3   Date          322 non-null    object \n",
      " 4   Price_Amount  321 non-null    float64\n",
      "dtypes: float64(3), object(2)\n",
      "memory usage: 12.7+ KB\n"
     ]
    }
   ],
   "source": [
    "test.info()"
   ]
  },
  {
   "cell_type": "code",
   "execution_count": 135,
   "metadata": {},
   "outputs": [
    {
     "data": {
      "text/html": [
       "<div>\n",
       "<style scoped>\n",
       "    .dataframe tbody tr th:only-of-type {\n",
       "        vertical-align: middle;\n",
       "    }\n",
       "\n",
       "    .dataframe tbody tr th {\n",
       "        vertical-align: top;\n",
       "    }\n",
       "\n",
       "    .dataframe thead th {\n",
       "        text-align: right;\n",
       "    }\n",
       "</style>\n",
       "<table border=\"1\" class=\"dataframe\">\n",
       "  <thead>\n",
       "    <tr style=\"text-align: right;\">\n",
       "      <th></th>\n",
       "      <th>Amount</th>\n",
       "      <th>Product</th>\n",
       "      <th>Price</th>\n",
       "      <th>Date</th>\n",
       "      <th>Price_Amount</th>\n",
       "    </tr>\n",
       "  </thead>\n",
       "  <tbody>\n",
       "    <tr>\n",
       "      <th>0</th>\n",
       "      <td>1.0</td>\n",
       "      <td>AH ICETEA</td>\n",
       "      <td>0.89</td>\n",
       "      <td>2023-01-03</td>\n",
       "      <td>0.89</td>\n",
       "    </tr>\n",
       "    <tr>\n",
       "      <th>1</th>\n",
       "      <td>1.0</td>\n",
       "      <td>OETKER PIZZA</td>\n",
       "      <td>4.19</td>\n",
       "      <td>2023-01-03</td>\n",
       "      <td>4.19</td>\n",
       "    </tr>\n",
       "    <tr>\n",
       "      <th>2</th>\n",
       "      <td>1.0</td>\n",
       "      <td>JELLY BEANS</td>\n",
       "      <td>1.29</td>\n",
       "      <td>2023-01-03</td>\n",
       "      <td>1.29</td>\n",
       "    </tr>\n",
       "    <tr>\n",
       "      <th>3</th>\n",
       "      <td>1.0</td>\n",
       "      <td>LAY'S OVEN B</td>\n",
       "      <td>2.09</td>\n",
       "      <td>2023-01-03</td>\n",
       "      <td>2.09</td>\n",
       "    </tr>\n",
       "    <tr>\n",
       "      <th>4</th>\n",
       "      <td>1.0</td>\n",
       "      <td>PEPPERMINT</td>\n",
       "      <td>1.39</td>\n",
       "      <td>2023-01-03</td>\n",
       "      <td>1.39</td>\n",
       "    </tr>\n",
       "    <tr>\n",
       "      <th>...</th>\n",
       "      <td>...</td>\n",
       "      <td>...</td>\n",
       "      <td>...</td>\n",
       "      <td>...</td>\n",
       "      <td>...</td>\n",
       "    </tr>\n",
       "    <tr>\n",
       "      <th>317</th>\n",
       "      <td>1.0</td>\n",
       "      <td>PAPRIKA</td>\n",
       "      <td>1.39</td>\n",
       "      <td>2023-04-30</td>\n",
       "      <td>1.39</td>\n",
       "    </tr>\n",
       "    <tr>\n",
       "      <th>318</th>\n",
       "      <td>1.0</td>\n",
       "      <td>AH KAISERBR</td>\n",
       "      <td>0.29</td>\n",
       "      <td>2023-04-30</td>\n",
       "      <td>0.29</td>\n",
       "    </tr>\n",
       "    <tr>\n",
       "      <th>319</th>\n",
       "      <td>1.0</td>\n",
       "      <td>AH ITAL BOL</td>\n",
       "      <td>0.79</td>\n",
       "      <td>2023-04-30</td>\n",
       "      <td>0.79</td>\n",
       "    </tr>\n",
       "    <tr>\n",
       "      <th>320</th>\n",
       "      <td>1.0</td>\n",
       "      <td>ZAANS BRUIN</td>\n",
       "      <td>1.09</td>\n",
       "      <td>2023-04-30</td>\n",
       "      <td>1.09</td>\n",
       "    </tr>\n",
       "    <tr>\n",
       "      <th>321</th>\n",
       "      <td>16.0</td>\n",
       "      <td>SUBTOTAAL</td>\n",
       "      <td>41.05</td>\n",
       "      <td>2023-04-30</td>\n",
       "      <td>656.80</td>\n",
       "    </tr>\n",
       "  </tbody>\n",
       "</table>\n",
       "<p>322 rows × 5 columns</p>\n",
       "</div>"
      ],
      "text/plain": [
       "     Amount       Product  Price        Date  Price_Amount\n",
       "0       1.0     AH ICETEA   0.89  2023-01-03          0.89\n",
       "1       1.0  OETKER PIZZA   4.19  2023-01-03          4.19\n",
       "2       1.0   JELLY BEANS   1.29  2023-01-03          1.29\n",
       "3       1.0  LAY'S OVEN B   2.09  2023-01-03          2.09\n",
       "4       1.0    PEPPERMINT   1.39  2023-01-03          1.39\n",
       "..      ...           ...    ...         ...           ...\n",
       "317     1.0       PAPRIKA   1.39  2023-04-30          1.39\n",
       "318     1.0   AH KAISERBR   0.29  2023-04-30          0.29\n",
       "319     1.0   AH ITAL BOL   0.79  2023-04-30          0.79\n",
       "320     1.0   ZAANS BRUIN   1.09  2023-04-30          1.09\n",
       "321    16.0     SUBTOTAAL  41.05  2023-04-30        656.80\n",
       "\n",
       "[322 rows x 5 columns]"
      ]
     },
     "execution_count": 135,
     "metadata": {},
     "output_type": "execute_result"
    }
   ],
   "source": [
    "test"
   ]
  },
  {
   "cell_type": "code",
   "execution_count": 136,
   "metadata": {},
   "outputs": [],
   "source": [
    "most_common = test.groupby('Product')['Product'].count()"
   ]
  },
  {
   "cell_type": "code",
   "execution_count": 137,
   "metadata": {},
   "outputs": [],
   "source": [
    "df_grouped = test.groupby('Product').agg({'Amount': 'sum', 'Product': 'size'})\n",
    "df_grouped = df_grouped.rename(columns={'Product':'Count'})\n",
    "df_grouped = df_grouped.reset_index(drop=False)\n",
    "df_grouped = df_grouped.sort_values(by='Count', ascending=False)"
   ]
  },
  {
   "cell_type": "code",
   "execution_count": 138,
   "metadata": {},
   "outputs": [
    {
     "data": {
      "text/html": [
       "<div>\n",
       "<style scoped>\n",
       "    .dataframe tbody tr th:only-of-type {\n",
       "        vertical-align: middle;\n",
       "    }\n",
       "\n",
       "    .dataframe tbody tr th {\n",
       "        vertical-align: top;\n",
       "    }\n",
       "\n",
       "    .dataframe thead th {\n",
       "        text-align: right;\n",
       "    }\n",
       "</style>\n",
       "<table border=\"1\" class=\"dataframe\">\n",
       "  <thead>\n",
       "    <tr style=\"text-align: right;\">\n",
       "      <th></th>\n",
       "      <th>Product</th>\n",
       "      <th>Amount</th>\n",
       "      <th>Count</th>\n",
       "    </tr>\n",
       "  </thead>\n",
       "  <tbody>\n",
       "    <tr>\n",
       "      <th>146</th>\n",
       "      <td>SUBTOTAAL</td>\n",
       "      <td>300.0</td>\n",
       "      <td>26</td>\n",
       "    </tr>\n",
       "    <tr>\n",
       "      <th>166</th>\n",
       "      <td>ZAANS BRUIN</td>\n",
       "      <td>12.0</td>\n",
       "      <td>12</td>\n",
       "    </tr>\n",
       "    <tr>\n",
       "      <th>113</th>\n",
       "      <td>OETKER PIZZA</td>\n",
       "      <td>12.0</td>\n",
       "      <td>12</td>\n",
       "    </tr>\n",
       "    <tr>\n",
       "      <th>102</th>\n",
       "      <td>LAY'S OVEN B</td>\n",
       "      <td>10.0</td>\n",
       "      <td>10</td>\n",
       "    </tr>\n",
       "    <tr>\n",
       "      <th>123</th>\n",
       "      <td>PICKWICK</td>\n",
       "      <td>10.0</td>\n",
       "      <td>10</td>\n",
       "    </tr>\n",
       "    <tr>\n",
       "      <th>...</th>\n",
       "      <td>...</td>\n",
       "      <td>...</td>\n",
       "      <td>...</td>\n",
       "    </tr>\n",
       "    <tr>\n",
       "      <th>71</th>\n",
       "      <td>DUYWIS NOOT</td>\n",
       "      <td>1.0</td>\n",
       "      <td>1</td>\n",
       "    </tr>\n",
       "    <tr>\n",
       "      <th>70</th>\n",
       "      <td>DUIS</td>\n",
       "      <td>1.0</td>\n",
       "      <td>1</td>\n",
       "    </tr>\n",
       "    <tr>\n",
       "      <th>69</th>\n",
       "      <td>DORITOS170-1</td>\n",
       "      <td>1.0</td>\n",
       "      <td>1</td>\n",
       "    </tr>\n",
       "    <tr>\n",
       "      <th>67</th>\n",
       "      <td>DM PERZIK</td>\n",
       "      <td>1.0</td>\n",
       "      <td>1</td>\n",
       "    </tr>\n",
       "    <tr>\n",
       "      <th>167</th>\n",
       "      <td>ZACHT&amp;LUCHT</td>\n",
       "      <td>1.0</td>\n",
       "      <td>1</td>\n",
       "    </tr>\n",
       "  </tbody>\n",
       "</table>\n",
       "<p>168 rows × 3 columns</p>\n",
       "</div>"
      ],
      "text/plain": [
       "          Product  Amount  Count\n",
       "146     SUBTOTAAL   300.0     26\n",
       "166   ZAANS BRUIN    12.0     12\n",
       "113  OETKER PIZZA    12.0     12\n",
       "102  LAY'S OVEN B    10.0     10\n",
       "123      PICKWICK    10.0     10\n",
       "..            ...     ...    ...\n",
       "71    DUYWIS NOOT     1.0      1\n",
       "70           DUIS     1.0      1\n",
       "69   DORITOS170-1     1.0      1\n",
       "67      DM PERZIK     1.0      1\n",
       "167   ZACHT&LUCHT     1.0      1\n",
       "\n",
       "[168 rows x 3 columns]"
      ]
     },
     "execution_count": 138,
     "metadata": {},
     "output_type": "execute_result"
    }
   ],
   "source": [
    "df_grouped"
   ]
  },
  {
   "attachments": {},
   "cell_type": "markdown",
   "metadata": {},
   "source": [
    "# Individual product graphs"
   ]
  },
  {
   "cell_type": "code",
   "execution_count": 149,
   "metadata": {},
   "outputs": [],
   "source": [
    "def graph_maker(df, product_name):\n",
    "        df = df[df['Product'] == product_name]\n",
    "        fig = px.line(df, x='Date', y='Price', title=f'Price for {product_name} over Time')\n",
    "        return fig"
   ]
  },
  {
   "cell_type": "code",
   "execution_count": 151,
   "metadata": {},
   "outputs": [
    {
     "data": {
      "application/vnd.plotly.v1+json": {
       "config": {
        "plotlyServerURL": "https://plot.ly"
       },
       "data": [
        {
         "hovertemplate": "Date=%{x}<br>Price=%{y}<extra></extra>",
         "legendgroup": "",
         "line": {
          "color": "#636efa",
          "dash": "solid"
         },
         "mode": "lines",
         "name": "",
         "orientation": "v",
         "showlegend": false,
         "type": "scatter",
         "x": [
          "2023-01-03",
          "2023-01-08",
          "2023-01-17",
          "2023-01-20",
          "2023-02-01",
          "2023-02-12",
          "2023-02-19",
          "2023-02-27",
          "2023-02-27",
          "2023-03-26",
          "2023-04-04",
          "2023-04-30"
         ],
         "xaxis": "x",
         "y": [
          4.19,
          4.19,
          3.79,
          2.99,
          3.79,
          4.19,
          2.99,
          3.79,
          2.79,
          4.49,
          4.19,
          4.19
         ],
         "yaxis": "y"
        }
       ],
       "layout": {
        "legend": {
         "tracegroupgap": 0
        },
        "template": {
         "data": {
          "bar": [
           {
            "error_x": {
             "color": "#2a3f5f"
            },
            "error_y": {
             "color": "#2a3f5f"
            },
            "marker": {
             "line": {
              "color": "#E5ECF6",
              "width": 0.5
             },
             "pattern": {
              "fillmode": "overlay",
              "size": 10,
              "solidity": 0.2
             }
            },
            "type": "bar"
           }
          ],
          "barpolar": [
           {
            "marker": {
             "line": {
              "color": "#E5ECF6",
              "width": 0.5
             },
             "pattern": {
              "fillmode": "overlay",
              "size": 10,
              "solidity": 0.2
             }
            },
            "type": "barpolar"
           }
          ],
          "carpet": [
           {
            "aaxis": {
             "endlinecolor": "#2a3f5f",
             "gridcolor": "white",
             "linecolor": "white",
             "minorgridcolor": "white",
             "startlinecolor": "#2a3f5f"
            },
            "baxis": {
             "endlinecolor": "#2a3f5f",
             "gridcolor": "white",
             "linecolor": "white",
             "minorgridcolor": "white",
             "startlinecolor": "#2a3f5f"
            },
            "type": "carpet"
           }
          ],
          "choropleth": [
           {
            "colorbar": {
             "outlinewidth": 0,
             "ticks": ""
            },
            "type": "choropleth"
           }
          ],
          "contour": [
           {
            "colorbar": {
             "outlinewidth": 0,
             "ticks": ""
            },
            "colorscale": [
             [
              0,
              "#0d0887"
             ],
             [
              0.1111111111111111,
              "#46039f"
             ],
             [
              0.2222222222222222,
              "#7201a8"
             ],
             [
              0.3333333333333333,
              "#9c179e"
             ],
             [
              0.4444444444444444,
              "#bd3786"
             ],
             [
              0.5555555555555556,
              "#d8576b"
             ],
             [
              0.6666666666666666,
              "#ed7953"
             ],
             [
              0.7777777777777778,
              "#fb9f3a"
             ],
             [
              0.8888888888888888,
              "#fdca26"
             ],
             [
              1,
              "#f0f921"
             ]
            ],
            "type": "contour"
           }
          ],
          "contourcarpet": [
           {
            "colorbar": {
             "outlinewidth": 0,
             "ticks": ""
            },
            "type": "contourcarpet"
           }
          ],
          "heatmap": [
           {
            "colorbar": {
             "outlinewidth": 0,
             "ticks": ""
            },
            "colorscale": [
             [
              0,
              "#0d0887"
             ],
             [
              0.1111111111111111,
              "#46039f"
             ],
             [
              0.2222222222222222,
              "#7201a8"
             ],
             [
              0.3333333333333333,
              "#9c179e"
             ],
             [
              0.4444444444444444,
              "#bd3786"
             ],
             [
              0.5555555555555556,
              "#d8576b"
             ],
             [
              0.6666666666666666,
              "#ed7953"
             ],
             [
              0.7777777777777778,
              "#fb9f3a"
             ],
             [
              0.8888888888888888,
              "#fdca26"
             ],
             [
              1,
              "#f0f921"
             ]
            ],
            "type": "heatmap"
           }
          ],
          "heatmapgl": [
           {
            "colorbar": {
             "outlinewidth": 0,
             "ticks": ""
            },
            "colorscale": [
             [
              0,
              "#0d0887"
             ],
             [
              0.1111111111111111,
              "#46039f"
             ],
             [
              0.2222222222222222,
              "#7201a8"
             ],
             [
              0.3333333333333333,
              "#9c179e"
             ],
             [
              0.4444444444444444,
              "#bd3786"
             ],
             [
              0.5555555555555556,
              "#d8576b"
             ],
             [
              0.6666666666666666,
              "#ed7953"
             ],
             [
              0.7777777777777778,
              "#fb9f3a"
             ],
             [
              0.8888888888888888,
              "#fdca26"
             ],
             [
              1,
              "#f0f921"
             ]
            ],
            "type": "heatmapgl"
           }
          ],
          "histogram": [
           {
            "marker": {
             "pattern": {
              "fillmode": "overlay",
              "size": 10,
              "solidity": 0.2
             }
            },
            "type": "histogram"
           }
          ],
          "histogram2d": [
           {
            "colorbar": {
             "outlinewidth": 0,
             "ticks": ""
            },
            "colorscale": [
             [
              0,
              "#0d0887"
             ],
             [
              0.1111111111111111,
              "#46039f"
             ],
             [
              0.2222222222222222,
              "#7201a8"
             ],
             [
              0.3333333333333333,
              "#9c179e"
             ],
             [
              0.4444444444444444,
              "#bd3786"
             ],
             [
              0.5555555555555556,
              "#d8576b"
             ],
             [
              0.6666666666666666,
              "#ed7953"
             ],
             [
              0.7777777777777778,
              "#fb9f3a"
             ],
             [
              0.8888888888888888,
              "#fdca26"
             ],
             [
              1,
              "#f0f921"
             ]
            ],
            "type": "histogram2d"
           }
          ],
          "histogram2dcontour": [
           {
            "colorbar": {
             "outlinewidth": 0,
             "ticks": ""
            },
            "colorscale": [
             [
              0,
              "#0d0887"
             ],
             [
              0.1111111111111111,
              "#46039f"
             ],
             [
              0.2222222222222222,
              "#7201a8"
             ],
             [
              0.3333333333333333,
              "#9c179e"
             ],
             [
              0.4444444444444444,
              "#bd3786"
             ],
             [
              0.5555555555555556,
              "#d8576b"
             ],
             [
              0.6666666666666666,
              "#ed7953"
             ],
             [
              0.7777777777777778,
              "#fb9f3a"
             ],
             [
              0.8888888888888888,
              "#fdca26"
             ],
             [
              1,
              "#f0f921"
             ]
            ],
            "type": "histogram2dcontour"
           }
          ],
          "mesh3d": [
           {
            "colorbar": {
             "outlinewidth": 0,
             "ticks": ""
            },
            "type": "mesh3d"
           }
          ],
          "parcoords": [
           {
            "line": {
             "colorbar": {
              "outlinewidth": 0,
              "ticks": ""
             }
            },
            "type": "parcoords"
           }
          ],
          "pie": [
           {
            "automargin": true,
            "type": "pie"
           }
          ],
          "scatter": [
           {
            "marker": {
             "colorbar": {
              "outlinewidth": 0,
              "ticks": ""
             }
            },
            "type": "scatter"
           }
          ],
          "scatter3d": [
           {
            "line": {
             "colorbar": {
              "outlinewidth": 0,
              "ticks": ""
             }
            },
            "marker": {
             "colorbar": {
              "outlinewidth": 0,
              "ticks": ""
             }
            },
            "type": "scatter3d"
           }
          ],
          "scattercarpet": [
           {
            "marker": {
             "colorbar": {
              "outlinewidth": 0,
              "ticks": ""
             }
            },
            "type": "scattercarpet"
           }
          ],
          "scattergeo": [
           {
            "marker": {
             "colorbar": {
              "outlinewidth": 0,
              "ticks": ""
             }
            },
            "type": "scattergeo"
           }
          ],
          "scattergl": [
           {
            "marker": {
             "colorbar": {
              "outlinewidth": 0,
              "ticks": ""
             }
            },
            "type": "scattergl"
           }
          ],
          "scattermapbox": [
           {
            "marker": {
             "colorbar": {
              "outlinewidth": 0,
              "ticks": ""
             }
            },
            "type": "scattermapbox"
           }
          ],
          "scatterpolar": [
           {
            "marker": {
             "colorbar": {
              "outlinewidth": 0,
              "ticks": ""
             }
            },
            "type": "scatterpolar"
           }
          ],
          "scatterpolargl": [
           {
            "marker": {
             "colorbar": {
              "outlinewidth": 0,
              "ticks": ""
             }
            },
            "type": "scatterpolargl"
           }
          ],
          "scatterternary": [
           {
            "marker": {
             "colorbar": {
              "outlinewidth": 0,
              "ticks": ""
             }
            },
            "type": "scatterternary"
           }
          ],
          "surface": [
           {
            "colorbar": {
             "outlinewidth": 0,
             "ticks": ""
            },
            "colorscale": [
             [
              0,
              "#0d0887"
             ],
             [
              0.1111111111111111,
              "#46039f"
             ],
             [
              0.2222222222222222,
              "#7201a8"
             ],
             [
              0.3333333333333333,
              "#9c179e"
             ],
             [
              0.4444444444444444,
              "#bd3786"
             ],
             [
              0.5555555555555556,
              "#d8576b"
             ],
             [
              0.6666666666666666,
              "#ed7953"
             ],
             [
              0.7777777777777778,
              "#fb9f3a"
             ],
             [
              0.8888888888888888,
              "#fdca26"
             ],
             [
              1,
              "#f0f921"
             ]
            ],
            "type": "surface"
           }
          ],
          "table": [
           {
            "cells": {
             "fill": {
              "color": "#EBF0F8"
             },
             "line": {
              "color": "white"
             }
            },
            "header": {
             "fill": {
              "color": "#C8D4E3"
             },
             "line": {
              "color": "white"
             }
            },
            "type": "table"
           }
          ]
         },
         "layout": {
          "annotationdefaults": {
           "arrowcolor": "#2a3f5f",
           "arrowhead": 0,
           "arrowwidth": 1
          },
          "autotypenumbers": "strict",
          "coloraxis": {
           "colorbar": {
            "outlinewidth": 0,
            "ticks": ""
           }
          },
          "colorscale": {
           "diverging": [
            [
             0,
             "#8e0152"
            ],
            [
             0.1,
             "#c51b7d"
            ],
            [
             0.2,
             "#de77ae"
            ],
            [
             0.3,
             "#f1b6da"
            ],
            [
             0.4,
             "#fde0ef"
            ],
            [
             0.5,
             "#f7f7f7"
            ],
            [
             0.6,
             "#e6f5d0"
            ],
            [
             0.7,
             "#b8e186"
            ],
            [
             0.8,
             "#7fbc41"
            ],
            [
             0.9,
             "#4d9221"
            ],
            [
             1,
             "#276419"
            ]
           ],
           "sequential": [
            [
             0,
             "#0d0887"
            ],
            [
             0.1111111111111111,
             "#46039f"
            ],
            [
             0.2222222222222222,
             "#7201a8"
            ],
            [
             0.3333333333333333,
             "#9c179e"
            ],
            [
             0.4444444444444444,
             "#bd3786"
            ],
            [
             0.5555555555555556,
             "#d8576b"
            ],
            [
             0.6666666666666666,
             "#ed7953"
            ],
            [
             0.7777777777777778,
             "#fb9f3a"
            ],
            [
             0.8888888888888888,
             "#fdca26"
            ],
            [
             1,
             "#f0f921"
            ]
           ],
           "sequentialminus": [
            [
             0,
             "#0d0887"
            ],
            [
             0.1111111111111111,
             "#46039f"
            ],
            [
             0.2222222222222222,
             "#7201a8"
            ],
            [
             0.3333333333333333,
             "#9c179e"
            ],
            [
             0.4444444444444444,
             "#bd3786"
            ],
            [
             0.5555555555555556,
             "#d8576b"
            ],
            [
             0.6666666666666666,
             "#ed7953"
            ],
            [
             0.7777777777777778,
             "#fb9f3a"
            ],
            [
             0.8888888888888888,
             "#fdca26"
            ],
            [
             1,
             "#f0f921"
            ]
           ]
          },
          "colorway": [
           "#636efa",
           "#EF553B",
           "#00cc96",
           "#ab63fa",
           "#FFA15A",
           "#19d3f3",
           "#FF6692",
           "#B6E880",
           "#FF97FF",
           "#FECB52"
          ],
          "font": {
           "color": "#2a3f5f"
          },
          "geo": {
           "bgcolor": "white",
           "lakecolor": "white",
           "landcolor": "#E5ECF6",
           "showlakes": true,
           "showland": true,
           "subunitcolor": "white"
          },
          "hoverlabel": {
           "align": "left"
          },
          "hovermode": "closest",
          "mapbox": {
           "style": "light"
          },
          "paper_bgcolor": "white",
          "plot_bgcolor": "#E5ECF6",
          "polar": {
           "angularaxis": {
            "gridcolor": "white",
            "linecolor": "white",
            "ticks": ""
           },
           "bgcolor": "#E5ECF6",
           "radialaxis": {
            "gridcolor": "white",
            "linecolor": "white",
            "ticks": ""
           }
          },
          "scene": {
           "xaxis": {
            "backgroundcolor": "#E5ECF6",
            "gridcolor": "white",
            "gridwidth": 2,
            "linecolor": "white",
            "showbackground": true,
            "ticks": "",
            "zerolinecolor": "white"
           },
           "yaxis": {
            "backgroundcolor": "#E5ECF6",
            "gridcolor": "white",
            "gridwidth": 2,
            "linecolor": "white",
            "showbackground": true,
            "ticks": "",
            "zerolinecolor": "white"
           },
           "zaxis": {
            "backgroundcolor": "#E5ECF6",
            "gridcolor": "white",
            "gridwidth": 2,
            "linecolor": "white",
            "showbackground": true,
            "ticks": "",
            "zerolinecolor": "white"
           }
          },
          "shapedefaults": {
           "line": {
            "color": "#2a3f5f"
           }
          },
          "ternary": {
           "aaxis": {
            "gridcolor": "white",
            "linecolor": "white",
            "ticks": ""
           },
           "baxis": {
            "gridcolor": "white",
            "linecolor": "white",
            "ticks": ""
           },
           "bgcolor": "#E5ECF6",
           "caxis": {
            "gridcolor": "white",
            "linecolor": "white",
            "ticks": ""
           }
          },
          "title": {
           "x": 0.05
          },
          "xaxis": {
           "automargin": true,
           "gridcolor": "white",
           "linecolor": "white",
           "ticks": "",
           "title": {
            "standoff": 15
           },
           "zerolinecolor": "white",
           "zerolinewidth": 2
          },
          "yaxis": {
           "automargin": true,
           "gridcolor": "white",
           "linecolor": "white",
           "ticks": "",
           "title": {
            "standoff": 15
           },
           "zerolinecolor": "white",
           "zerolinewidth": 2
          }
         }
        },
        "title": {
         "text": "Price for OETKER PIZZA over Time"
        },
        "xaxis": {
         "anchor": "y",
         "domain": [
          0,
          1
         ],
         "title": {
          "text": "Date"
         }
        },
        "yaxis": {
         "anchor": "x",
         "domain": [
          0,
          1
         ],
         "title": {
          "text": "Price"
         }
        }
       }
      }
     },
     "metadata": {},
     "output_type": "display_data"
    }
   ],
   "source": [
    "graph_maker(test, 'OETKER PIZZA')"
   ]
  },
  {
   "cell_type": "code",
   "execution_count": null,
   "metadata": {},
   "outputs": [],
   "source": []
  }
 ],
 "metadata": {
  "kernelspec": {
   "display_name": "prog",
   "language": "python",
   "name": "python3"
  },
  "language_info": {
   "codemirror_mode": {
    "name": "ipython",
    "version": 3
   },
   "file_extension": ".py",
   "mimetype": "text/x-python",
   "name": "python",
   "nbconvert_exporter": "python",
   "pygments_lexer": "ipython3",
   "version": "3.9.7"
  },
  "orig_nbformat": 4
 },
 "nbformat": 4,
 "nbformat_minor": 2
}
