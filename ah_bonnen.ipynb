{
 "cells": [
  {
   "attachments": {},
   "cell_type": "markdown",
   "metadata": {},
   "source": [
    "# AH Bonnen parser"
   ]
  },
  {
   "cell_type": "code",
   "execution_count": 24,
   "metadata": {},
   "outputs": [],
   "source": [
    "import os\n",
    "import re\n",
    "import io\n",
    "import PyPDF2\n",
    "from PIL import Image\n",
    "import pandas as pd\n",
    "from pdf2image import convert_from_path\n",
    "import pytesseract\n",
    "\n",
    "import warnings\n",
    "warnings.filterwarnings(\"ignore\")"
   ]
  },
  {
   "cell_type": "code",
   "execution_count": 25,
   "metadata": {},
   "outputs": [],
   "source": [
    "def receipt_renamer(folder_path):\n",
    "    \"\"\"\n",
    "    Function renames the download ah receipts to a more sortable name\n",
    "    Input: A path to a folder with ah receipt pdfs. \n",
    "    \"\"\"\n",
    "\n",
    "    # Get a list of all the files in the directory\n",
    "    files = os.listdir(folder_path)\n",
    "    # Loop through each file in the directory\n",
    "    for file in files:\n",
    "        # Use regular expressions to extract the date from the filename\n",
    "        match = re.search(r'\\d{2}-\\d{2}-\\d{2}', file)\n",
    "        if match:\n",
    "            # Extract the date from the match object\n",
    "            date = match.group()\n",
    "            # Convert the date to the desired format (YYYY-MM-DD)\n",
    "            new_name = re.sub(r'(\\d{2})-(\\d{2})-(\\d{2})', r'20\\3-\\2-\\1', date) + '_AH_kassabon'\n",
    "            # Rename the file with the new name\n",
    "            try:\n",
    "                os.rename(os.path.join(folder_path, file), os.path.join(folder_path, new_name + '.pdf'))\n",
    "            except Exception as E:\n",
    "                print(E)\n",
    "    print('succesfully renamed all files')"
   ]
  },
  {
   "cell_type": "code",
   "execution_count": 26,
   "metadata": {},
   "outputs": [],
   "source": [
    "def pdf_to_img(pdf_path, pdf_img_path):\n",
    "\n",
    "    # Get a list of all the files in the directory\n",
    "    files = os.listdir(pdf_path)\n",
    "    # Loop through each file in the directory\n",
    "    for pdf_file in files:\n",
    "\n",
    "        full_path = os.path.join(pdf_path, pdf_file)\n",
    "        # Convert the first page of the PDF file to a PIL image\n",
    "        images = convert_from_path(full_path, first_page=1, last_page=1)\n",
    "        image = images[0]\n",
    "        # obtain the pdf name to name the image.\n",
    "        pdf_file = pdf_file.replace('.pdf','.jpg')\n",
    "        # Save the image to a file\n",
    "        image.save(pdf_img_path + pdf_file)\n",
    "        \n",
    "    print('succesfully converted all pdf files to images')"
   ]
  },
  {
   "cell_type": "code",
   "execution_count": 27,
   "metadata": {},
   "outputs": [],
   "source": [
    "#pdf_to_img('ah_bonnen_pdf', 'ah_bonnen_img\\\\')"
   ]
  },
  {
   "cell_type": "code",
   "execution_count": 28,
   "metadata": {},
   "outputs": [],
   "source": [
    "def text_to_df(text, img_file):\n",
    "\n",
    "    temp_df = pd.DataFrame(columns=['Amount','Product','Price'])\n",
    "    try:\n",
    "        text_without_start = text.split('BONUSKAART xx9644', 1)[1]\n",
    "        text_without_end = text_without_start.split('UW VOORDEEL',1)[0]\n",
    "        lines = text_without_end.split(\"\\n\")\n",
    "    except Exception as ex:\n",
    "        print(img_file, ' did not work because', ex)\n",
    "        return temp_df\n",
    "\n",
    "    match = re.search(r\"\\d{1,2}-\\d{1,2}-\\d{4}\", text)\n",
    "    if match:\n",
    "        date = match.group()\n",
    "        date_without_time = re.sub(r\"\\s+\\d{1,2}:\\d{1,2}\\s*\", \" \", date)\n",
    "\n",
    "    for line in lines:\n",
    "        # Create an I that decides which part should be the amount.\n",
    "        i = -1\n",
    "        if line:\n",
    "            parts = line.split()\n",
    "            amount = parts[0]\n",
    "\n",
    "            # Ignore the bonus box lines.\n",
    "            if 'BBOX' in amount or 'BONUS' in amount:\n",
    "                continue\n",
    "            # The bonus and bonux box lines are the last on receipt.\n",
    "            # Therefore they have to be ignored to get the price.\n",
    "            while parts[i] == 'B' or parts[i] == 'BB':\n",
    "                i -=1\n",
    "            \n",
    "            # If the amount of the product is expressed in KG, we want to grab the kg price\n",
    "            # And remove KG from the line\n",
    "            if 'KG' in amount:\n",
    "                i -=1\n",
    "                product_name = \" \".join(parts[1:i])\n",
    "                amount = amount.replace('KG','')\n",
    "            else:\n",
    "                product_name = \" \".join(parts[1:i])\n",
    "\n",
    "            # Assign price and make it a float\n",
    "            # Also split price if the value is not right\n",
    "            price = parts[i]\n",
    "            price = price.replace(',', '.')\n",
    "            try:\n",
    "                if float(price) > 100:\n",
    "                    price = price[:1] + '.' + price[1:]\n",
    "                price = float(price)\n",
    "            except Exception as ex2:\n",
    "                print('Encounterd: ', ex2, 'For ', product_name, 'In', date_without_time)\n",
    "                price = 999\n",
    "\n",
    "            temp_df.loc[len(temp_df)] = [amount, product_name, price]\n",
    "\n",
    "    temp_df['Amount'] = pd.to_numeric(temp_df['Amount'], errors='coerce').fillna(1)\n",
    "    temp_df['Date'] = pd.to_datetime(date_without_time, format='%d-%m-%Y').date()\n",
    "    # Multiple the amount bought by the price to get the right price\n",
    "    # Known issue: Messes up subtotaal.\n",
    "    # If price is not a float it will return None\n",
    "    temp_df['KG_Price'] = temp_df.apply(lambda x: round(x['Price'] * x['Amount'], 2) if isinstance(x['Price'], float) else None, axis=1)\n",
    "    temp_df['indv_price'] = temp_df.apply(lambda x: round(x['Price'] / x['Amount'], 2) if isinstance(x['Price'], float) else None, axis=1)\n",
    "    return temp_df "
   ]
  },
  {
   "cell_type": "code",
   "execution_count": 29,
   "metadata": {},
   "outputs": [],
   "source": [
    "def text_from_img(pdf_img_path):\n",
    "\n",
    "    df = pd.DataFrame(columns=['Amount','Product','Price','Date'])\n",
    "\n",
    "    # Get a list of all the files in the directory\n",
    "    files = os.listdir(pdf_img_path)\n",
    "    # Loop through each file in the directory\n",
    "    for img_file in files:\n",
    "\n",
    "        full_path = os.path.join(pdf_img_path, img_file)\n",
    "        image = Image.open(full_path)\n",
    "        # Convert the image to grayscale\n",
    "        image = image.convert('L')\n",
    "        # Process the image with pytesseract\n",
    "        text = pytesseract.image_to_string(image)\n",
    "        temp_df = text_to_df(text, img_file)\n",
    "        df = pd.concat([df, temp_df]).reset_index(drop=True)\n",
    "        df['Date'] = pd.to_datetime(df['Date'])\n",
    "        df = df.sort_values(by='Date')\n",
    "    return df\n"
   ]
  },
  {
   "cell_type": "code",
   "execution_count": 30,
   "metadata": {},
   "outputs": [],
   "source": [
    "img_path = 'C:\\\\Users\\\\rie12\\\\Documents\\\\GitHub\\\\AH_kassabonnen\\\\ah_bonnen_img'"
   ]
  },
  {
   "cell_type": "code",
   "execution_count": 31,
   "metadata": {},
   "outputs": [
    {
     "name": "stdout",
     "output_type": "stream",
     "text": [
      "2001-03-22_AH_kassabon.jpg  did not work because list index out of range\n",
      "Encounterd:  could not convert string to float: '=' For  GOUDSALAMI In 1-8-2022\n",
      "Encounterd:  could not convert string to float: 'GOUDSALAMI' For   In 8-11-2021\n",
      "Encounterd:  could not convert string to float: 'LAS' For  Gl PENNE In 13-11-2021\n",
      "Encounterd:  could not convert string to float: '—' For  AH ROAST HAM In 15-11-2021\n",
      "Encounterd:  could not convert string to float: '-' For  GOUDSALAMI In 5-12-2021\n",
      "Encounterd:  could not convert string to float: 'i' For  KIPFILET In 9-12-2021\n",
      "2022-01-07_AH_kassabon.jpg  did not work because list index out of range\n",
      "Encounterd:  could not convert string to float: 'ia' For  AH YORKHAM In 11-1-2022\n",
      "Encounterd:  could not convert string to float: '35%' For  KL SCHIJFJES 0,65 In 19-1-2022\n",
      "Encounterd:  could not convert string to float: 'Ly' For  DONUT SUIKER In 19-2-2022\n",
      "2022-05-04_AH_kassabon.jpg  did not work because list index out of range\n",
      "Encounterd:  could not convert string to float: 'L§5' For  UNOX GOODN In 11-5-2022\n",
      "2022-06-22_AH_kassabon.jpg  did not work because list index out of range\n",
      "Encounterd:  could not convert string to float: 'a' For  ONTBUITSPEK In 25-6-2022\n",
      "Encounterd:  could not convert string to float: 'a8' For  GOUDSALAMI In 4-7-2022\n",
      "Encounterd:  could not convert string to float: 'a' For  AH ROAST HAM In 30-8-2022\n",
      "Encounterd:  could not convert string to float: 'a' For  GOUDSALAMI In 11-9-2022\n",
      "Encounterd:  could not convert string to float: '35%' For  AH KIPREERJE 3,49 In 26-9-2022\n",
      "Encounterd:  could not convert string to float: 'CERVELAAT' For   In 6-10-2022\n",
      "Encounterd:  could not convert string to float: '35%' For  PERZIKSCHIJF 2,19 In 6-10-2022\n",
      "2022-10-16_AH_kassabon.jpg  did not work because list index out of range\n",
      "Encounterd:  could not convert string to float: '=' For  AH WORST PL In 18-10-2022\n",
      "Encounterd:  could not convert string to float: 'ye' For  AH GEK WORST In 22-10-2022\n",
      "Encounterd:  could not convert string to float: '35%' For  GEGR GEHAKT 1,49 In 4-11-2022\n",
      "Encounterd:  could not convert string to float: 'ra' For  AH GEK WORST In 13-11-2022\n",
      "Encounterd:  could not convert string to float: '35%' For  TOMPOUCEN 3,00 B In 18-11-2022\n",
      "Encounterd:  could not convert string to float: '25%' For  AH PIZZA 6,39 In 29-11-2022\n",
      "Encounterd:  could not convert string to float: 'oe' For  AH GER HAM In 14-12-2022\n",
      "Encounterd:  could not convert string to float: 'WORST' For  AH GEK In 19-12-2022\n",
      "Encounterd:  could not convert string to float: 'a' For  AH CERVELAAT In 17-1-2023\n",
      "Encounterd:  could not convert string to float: '#B' For  FRIKANDELBR 100 In 18-2-2023\n",
      "Encounterd:  could not convert string to float: 'ae' For  ONTBUTSPEK In 20-3-2023\n",
      "Encounterd:  could not convert string to float: '40%' For  STOOMMAALTIJ 5,79 In 21-4-2023\n",
      "2023-04-25_AH_kassabon.jpg  did not work because list index out of range\n"
     ]
    }
   ],
   "source": [
    "test = text_from_img(img_path)"
   ]
  },
  {
   "cell_type": "code",
   "execution_count": 32,
   "metadata": {},
   "outputs": [],
   "source": [
    "test.to_csv('bonnetjes_v1.csv', index=False)"
   ]
  },
  {
   "attachments": {},
   "cell_type": "markdown",
   "metadata": {},
   "source": [
    "# AH Bonnen grafieken\n",
    "\n",
    "Wat wil ik laten zien:\n",
    "\n",
    "* Totale Prijs verschil over tijd\n",
    "* Meest gekochte producten\n",
    "* Voor meest gekochte producten het verschil over tijd"
   ]
  },
  {
   "cell_type": "code",
   "execution_count": 9,
   "metadata": {},
   "outputs": [],
   "source": [
    "import matplotlib.pyplot as plt \n",
    "import plotly.express as px\n",
    "import plotly.graph_objects as go"
   ]
  },
  {
   "cell_type": "code",
   "execution_count": 33,
   "metadata": {},
   "outputs": [],
   "source": [
    "test = pd.read_csv('bonnetjes_v1.csv')"
   ]
  },
  {
   "cell_type": "code",
   "execution_count": 34,
   "metadata": {},
   "outputs": [
    {
     "data": {
      "text/html": [
       "<div>\n",
       "<style scoped>\n",
       "    .dataframe tbody tr th:only-of-type {\n",
       "        vertical-align: middle;\n",
       "    }\n",
       "\n",
       "    .dataframe tbody tr th {\n",
       "        vertical-align: top;\n",
       "    }\n",
       "\n",
       "    .dataframe thead th {\n",
       "        text-align: right;\n",
       "    }\n",
       "</style>\n",
       "<table border=\"1\" class=\"dataframe\">\n",
       "  <thead>\n",
       "    <tr style=\"text-align: right;\">\n",
       "      <th></th>\n",
       "      <th>Amount</th>\n",
       "      <th>Product</th>\n",
       "      <th>Price</th>\n",
       "      <th>Date</th>\n",
       "      <th>KG_Price</th>\n",
       "      <th>indv_price</th>\n",
       "    </tr>\n",
       "  </thead>\n",
       "  <tbody>\n",
       "    <tr>\n",
       "      <th>0</th>\n",
       "      <td>5.0</td>\n",
       "      <td>SUBTOTAAL</td>\n",
       "      <td>9.54</td>\n",
       "      <td>2021-10-11</td>\n",
       "      <td>47.70</td>\n",
       "      <td>1.91</td>\n",
       "    </tr>\n",
       "    <tr>\n",
       "      <th>1</th>\n",
       "      <td>1.0</td>\n",
       "      <td>PASTASAUS</td>\n",
       "      <td>1.79</td>\n",
       "      <td>2021-10-11</td>\n",
       "      <td>1.79</td>\n",
       "      <td>1.79</td>\n",
       "    </tr>\n",
       "    <tr>\n",
       "      <th>2</th>\n",
       "      <td>1.0</td>\n",
       "      <td>AH SPAGHETTI</td>\n",
       "      <td>2.25</td>\n",
       "      <td>2021-10-11</td>\n",
       "      <td>2.25</td>\n",
       "      <td>2.25</td>\n",
       "    </tr>\n",
       "    <tr>\n",
       "      <th>3</th>\n",
       "      <td>1.0</td>\n",
       "      <td>ZAANSE HOEVE</td>\n",
       "      <td>1.49</td>\n",
       "      <td>2021-10-11</td>\n",
       "      <td>1.49</td>\n",
       "      <td>1.49</td>\n",
       "    </tr>\n",
       "    <tr>\n",
       "      <th>4</th>\n",
       "      <td>1.0</td>\n",
       "      <td>QUAKER CRUES</td>\n",
       "      <td>2.99</td>\n",
       "      <td>2021-10-11</td>\n",
       "      <td>2.99</td>\n",
       "      <td>2.99</td>\n",
       "    </tr>\n",
       "    <tr>\n",
       "      <th>...</th>\n",
       "      <td>...</td>\n",
       "      <td>...</td>\n",
       "      <td>...</td>\n",
       "      <td>...</td>\n",
       "      <td>...</td>\n",
       "      <td>...</td>\n",
       "    </tr>\n",
       "    <tr>\n",
       "      <th>1977</th>\n",
       "      <td>1.0</td>\n",
       "      <td>DESPERADOS</td>\n",
       "      <td>9.79</td>\n",
       "      <td>2023-04-30</td>\n",
       "      <td>9.79</td>\n",
       "      <td>9.79</td>\n",
       "    </tr>\n",
       "    <tr>\n",
       "      <th>1978</th>\n",
       "      <td>1.0</td>\n",
       "      <td>OETKER PIZZA</td>\n",
       "      <td>4.19</td>\n",
       "      <td>2023-04-30</td>\n",
       "      <td>4.19</td>\n",
       "      <td>4.19</td>\n",
       "    </tr>\n",
       "    <tr>\n",
       "      <th>1979</th>\n",
       "      <td>1.0</td>\n",
       "      <td>ZAANS BRUIN</td>\n",
       "      <td>1.09</td>\n",
       "      <td>2023-04-30</td>\n",
       "      <td>1.09</td>\n",
       "      <td>1.09</td>\n",
       "    </tr>\n",
       "    <tr>\n",
       "      <th>1980</th>\n",
       "      <td>1.0</td>\n",
       "      <td>LAY'S OVEN B</td>\n",
       "      <td>2.29</td>\n",
       "      <td>2023-04-30</td>\n",
       "      <td>2.29</td>\n",
       "      <td>2.29</td>\n",
       "    </tr>\n",
       "    <tr>\n",
       "      <th>1981</th>\n",
       "      <td>16.0</td>\n",
       "      <td>SUBTOTAAL</td>\n",
       "      <td>41.05</td>\n",
       "      <td>2023-04-30</td>\n",
       "      <td>656.80</td>\n",
       "      <td>2.57</td>\n",
       "    </tr>\n",
       "  </tbody>\n",
       "</table>\n",
       "<p>1982 rows × 6 columns</p>\n",
       "</div>"
      ],
      "text/plain": [
       "      Amount       Product  Price        Date  KG_Price  indv_price\n",
       "0        5.0     SUBTOTAAL   9.54  2021-10-11     47.70        1.91\n",
       "1        1.0     PASTASAUS   1.79  2021-10-11      1.79        1.79\n",
       "2        1.0  AH SPAGHETTI   2.25  2021-10-11      2.25        2.25\n",
       "3        1.0  ZAANSE HOEVE   1.49  2021-10-11      1.49        1.49\n",
       "4        1.0  QUAKER CRUES   2.99  2021-10-11      2.99        2.99\n",
       "...      ...           ...    ...         ...       ...         ...\n",
       "1977     1.0    DESPERADOS   9.79  2023-04-30      9.79        9.79\n",
       "1978     1.0  OETKER PIZZA   4.19  2023-04-30      4.19        4.19\n",
       "1979     1.0   ZAANS BRUIN   1.09  2023-04-30      1.09        1.09\n",
       "1980     1.0  LAY'S OVEN B   2.29  2023-04-30      2.29        2.29\n",
       "1981    16.0     SUBTOTAAL  41.05  2023-04-30    656.80        2.57\n",
       "\n",
       "[1982 rows x 6 columns]"
      ]
     },
     "execution_count": 34,
     "metadata": {},
     "output_type": "execute_result"
    }
   ],
   "source": [
    "test"
   ]
  },
  {
   "cell_type": "code",
   "execution_count": 6,
   "metadata": {},
   "outputs": [],
   "source": [
    "# Totale prijs df maken.\n",
    "test['Price'] = pd.to_numeric(test['Price'])\n",
    "total_df = test[test['Product'] == 'SUBTOTAAL']"
   ]
  },
  {
   "cell_type": "code",
   "execution_count": 36,
   "metadata": {},
   "outputs": [],
   "source": [
    "# Calculate rolling mean for Price column\n",
    "total_df['Rolling Price'] = total_df['Price'].rolling(window=10).mean()\n",
    "total_df['Rolling Amount'] = total_df['Amount'].rolling(window=10).mean()"
   ]
  },
  {
   "cell_type": "code",
   "execution_count": 58,
   "metadata": {},
   "outputs": [
    {
     "data": {
      "text/html": [
       "<div>\n",
       "<style scoped>\n",
       "    .dataframe tbody tr th:only-of-type {\n",
       "        vertical-align: middle;\n",
       "    }\n",
       "\n",
       "    .dataframe tbody tr th {\n",
       "        vertical-align: top;\n",
       "    }\n",
       "\n",
       "    .dataframe thead th {\n",
       "        text-align: right;\n",
       "    }\n",
       "</style>\n",
       "<table border=\"1\" class=\"dataframe\">\n",
       "  <thead>\n",
       "    <tr style=\"text-align: right;\">\n",
       "      <th></th>\n",
       "      <th>Amount</th>\n",
       "      <th>Product</th>\n",
       "      <th>Price</th>\n",
       "      <th>Date</th>\n",
       "      <th>Price_Amount</th>\n",
       "      <th>divided_price</th>\n",
       "      <th>Rolling Mean</th>\n",
       "      <th>Rolling Price</th>\n",
       "      <th>Rolling Amount</th>\n",
       "    </tr>\n",
       "  </thead>\n",
       "  <tbody>\n",
       "    <tr>\n",
       "      <th>0</th>\n",
       "      <td>5.0</td>\n",
       "      <td>SUBTOTAAL</td>\n",
       "      <td>9.54</td>\n",
       "      <td>2021-10-11</td>\n",
       "      <td>47.70</td>\n",
       "      <td>1.908000</td>\n",
       "      <td>NaN</td>\n",
       "      <td>NaN</td>\n",
       "      <td>NaN</td>\n",
       "    </tr>\n",
       "    <tr>\n",
       "      <th>8</th>\n",
       "      <td>9.0</td>\n",
       "      <td>SUBTOTAAL</td>\n",
       "      <td>14.75</td>\n",
       "      <td>2021-10-12</td>\n",
       "      <td>132.75</td>\n",
       "      <td>1.638889</td>\n",
       "      <td>NaN</td>\n",
       "      <td>NaN</td>\n",
       "      <td>NaN</td>\n",
       "    </tr>\n",
       "    <tr>\n",
       "      <th>17</th>\n",
       "      <td>8.0</td>\n",
       "      <td>SUBTOTAAL</td>\n",
       "      <td>17.76</td>\n",
       "      <td>2021-10-13</td>\n",
       "      <td>142.08</td>\n",
       "      <td>2.220000</td>\n",
       "      <td>NaN</td>\n",
       "      <td>NaN</td>\n",
       "      <td>NaN</td>\n",
       "    </tr>\n",
       "    <tr>\n",
       "      <th>31</th>\n",
       "      <td>5.0</td>\n",
       "      <td>SUBTOTAAL</td>\n",
       "      <td>7.64</td>\n",
       "      <td>2021-10-25</td>\n",
       "      <td>38.20</td>\n",
       "      <td>1.528000</td>\n",
       "      <td>NaN</td>\n",
       "      <td>NaN</td>\n",
       "      <td>NaN</td>\n",
       "    </tr>\n",
       "    <tr>\n",
       "      <th>32</th>\n",
       "      <td>7.0</td>\n",
       "      <td>SUBTOTAAL</td>\n",
       "      <td>10.59</td>\n",
       "      <td>2021-10-27</td>\n",
       "      <td>74.13</td>\n",
       "      <td>1.512857</td>\n",
       "      <td>NaN</td>\n",
       "      <td>NaN</td>\n",
       "      <td>NaN</td>\n",
       "    </tr>\n",
       "    <tr>\n",
       "      <th>...</th>\n",
       "      <td>...</td>\n",
       "      <td>...</td>\n",
       "      <td>...</td>\n",
       "      <td>...</td>\n",
       "      <td>...</td>\n",
       "      <td>...</td>\n",
       "      <td>...</td>\n",
       "      <td>...</td>\n",
       "      <td>...</td>\n",
       "    </tr>\n",
       "    <tr>\n",
       "      <th>1924</th>\n",
       "      <td>12.0</td>\n",
       "      <td>SUBTOTAAL</td>\n",
       "      <td>40.36</td>\n",
       "      <td>2023-04-13</td>\n",
       "      <td>484.32</td>\n",
       "      <td>3.363333</td>\n",
       "      <td>26.824</td>\n",
       "      <td>26.824</td>\n",
       "      <td>10.7</td>\n",
       "    </tr>\n",
       "    <tr>\n",
       "      <th>1936</th>\n",
       "      <td>13.0</td>\n",
       "      <td>SUBTOTAAL</td>\n",
       "      <td>37.03</td>\n",
       "      <td>2023-04-17</td>\n",
       "      <td>481.39</td>\n",
       "      <td>2.848462</td>\n",
       "      <td>28.617</td>\n",
       "      <td>28.617</td>\n",
       "      <td>11.2</td>\n",
       "    </tr>\n",
       "    <tr>\n",
       "      <th>1951</th>\n",
       "      <td>11.0</td>\n",
       "      <td>SUBTOTAAL</td>\n",
       "      <td>21.05</td>\n",
       "      <td>2023-04-19</td>\n",
       "      <td>231.55</td>\n",
       "      <td>1.913636</td>\n",
       "      <td>26.708</td>\n",
       "      <td>26.708</td>\n",
       "      <td>10.4</td>\n",
       "    </tr>\n",
       "    <tr>\n",
       "      <th>1962</th>\n",
       "      <td>3.0</td>\n",
       "      <td>SUBTOTAAL</td>\n",
       "      <td>7.97</td>\n",
       "      <td>2023-04-21</td>\n",
       "      <td>23.91</td>\n",
       "      <td>2.656667</td>\n",
       "      <td>24.262</td>\n",
       "      <td>24.262</td>\n",
       "      <td>8.9</td>\n",
       "    </tr>\n",
       "    <tr>\n",
       "      <th>1981</th>\n",
       "      <td>16.0</td>\n",
       "      <td>SUBTOTAAL</td>\n",
       "      <td>41.05</td>\n",
       "      <td>2023-04-30</td>\n",
       "      <td>656.80</td>\n",
       "      <td>2.565625</td>\n",
       "      <td>26.053</td>\n",
       "      <td>26.053</td>\n",
       "      <td>9.9</td>\n",
       "    </tr>\n",
       "  </tbody>\n",
       "</table>\n",
       "<p>171 rows × 9 columns</p>\n",
       "</div>"
      ],
      "text/plain": [
       "      Amount    Product  Price       Date  Price_Amount  divided_price  \\\n",
       "0        5.0  SUBTOTAAL   9.54 2021-10-11         47.70       1.908000   \n",
       "8        9.0  SUBTOTAAL  14.75 2021-10-12        132.75       1.638889   \n",
       "17       8.0  SUBTOTAAL  17.76 2021-10-13        142.08       2.220000   \n",
       "31       5.0  SUBTOTAAL   7.64 2021-10-25         38.20       1.528000   \n",
       "32       7.0  SUBTOTAAL  10.59 2021-10-27         74.13       1.512857   \n",
       "...      ...        ...    ...        ...           ...            ...   \n",
       "1924    12.0  SUBTOTAAL  40.36 2023-04-13        484.32       3.363333   \n",
       "1936    13.0  SUBTOTAAL  37.03 2023-04-17        481.39       2.848462   \n",
       "1951    11.0  SUBTOTAAL  21.05 2023-04-19        231.55       1.913636   \n",
       "1962     3.0  SUBTOTAAL   7.97 2023-04-21         23.91       2.656667   \n",
       "1981    16.0  SUBTOTAAL  41.05 2023-04-30        656.80       2.565625   \n",
       "\n",
       "      Rolling Mean  Rolling Price  Rolling Amount  \n",
       "0              NaN            NaN             NaN  \n",
       "8              NaN            NaN             NaN  \n",
       "17             NaN            NaN             NaN  \n",
       "31             NaN            NaN             NaN  \n",
       "32             NaN            NaN             NaN  \n",
       "...            ...            ...             ...  \n",
       "1924        26.824         26.824            10.7  \n",
       "1936        28.617         28.617            11.2  \n",
       "1951        26.708         26.708            10.4  \n",
       "1962        24.262         24.262             8.9  \n",
       "1981        26.053         26.053             9.9  \n",
       "\n",
       "[171 rows x 9 columns]"
      ]
     },
     "execution_count": 58,
     "metadata": {},
     "output_type": "execute_result"
    }
   ],
   "source": [
    "total_df"
   ]
  },
  {
   "cell_type": "code",
   "execution_count": 72,
   "metadata": {},
   "outputs": [
    {
     "data": {
      "application/vnd.plotly.v1+json": {
       "config": {
        "plotlyServerURL": "https://plot.ly"
       },
       "data": [
        {
         "line": {
          "color": "red"
         },
         "name": "Price over Time",
         "opacity": 0.3,
         "type": "scatter",
         "x": [
          "2021-10-11T00:00:00",
          "2021-10-12T00:00:00",
          "2021-10-13T00:00:00",
          "2021-10-25T00:00:00",
          "2021-10-27T00:00:00",
          "2021-10-28T00:00:00",
          "2021-11-01T00:00:00",
          "2021-11-03T00:00:00",
          "2021-11-05T00:00:00",
          "2021-11-06T00:00:00",
          "2021-11-08T00:00:00",
          "2021-11-09T00:00:00",
          "2021-11-12T00:00:00",
          "2021-11-13T00:00:00",
          "2021-11-15T00:00:00",
          "2021-11-21T00:00:00",
          "2021-11-24T00:00:00",
          "2021-11-26T00:00:00",
          "2021-12-01T00:00:00",
          "2021-12-01T00:00:00",
          "2021-12-05T00:00:00",
          "2021-12-07T00:00:00",
          "2021-12-09T00:00:00",
          "2021-12-12T00:00:00",
          "2021-12-16T00:00:00",
          "2021-12-17T00:00:00",
          "2021-12-20T00:00:00",
          "2021-12-22T00:00:00",
          "2022-01-04T00:00:00",
          "2022-01-11T00:00:00",
          "2022-01-12T00:00:00",
          "2022-01-14T00:00:00",
          "2022-01-16T00:00:00",
          "2022-01-18T00:00:00",
          "2022-01-19T00:00:00",
          "2022-01-22T00:00:00",
          "2022-01-25T00:00:00",
          "2022-01-27T00:00:00",
          "2022-01-31T00:00:00",
          "2022-02-03T00:00:00",
          "2022-02-06T00:00:00",
          "2022-02-08T00:00:00",
          "2022-02-10T00:00:00",
          "2022-02-13T00:00:00",
          "2022-02-15T00:00:00",
          "2022-02-18T00:00:00",
          "2022-02-19T00:00:00",
          "2022-02-22T00:00:00",
          "2022-02-27T00:00:00",
          "2022-03-03T00:00:00",
          "2022-03-05T00:00:00",
          "2022-03-08T00:00:00",
          "2022-03-10T00:00:00",
          "2022-03-21T00:00:00",
          "2022-03-23T00:00:00",
          "2022-03-25T00:00:00",
          "2022-03-27T00:00:00",
          "2022-03-30T00:00:00",
          "2022-04-01T00:00:00",
          "2022-04-04T00:00:00",
          "2022-04-06T00:00:00",
          "2022-04-08T00:00:00",
          "2022-04-10T00:00:00",
          "2022-04-13T00:00:00",
          "2022-04-16T00:00:00",
          "2022-04-18T00:00:00",
          "2022-04-21T00:00:00",
          "2022-04-25T00:00:00",
          "2022-05-02T00:00:00",
          "2022-05-08T00:00:00",
          "2022-05-11T00:00:00",
          "2022-05-14T00:00:00",
          "2022-05-18T00:00:00",
          "2022-05-23T00:00:00",
          "2022-05-25T00:00:00",
          "2022-05-27T00:00:00",
          "2022-05-30T00:00:00",
          "2022-06-02T00:00:00",
          "2022-06-09T00:00:00",
          "2022-06-11T00:00:00",
          "2022-06-13T00:00:00",
          "2022-06-15T00:00:00",
          "2022-06-17T00:00:00",
          "2022-06-20T00:00:00",
          "2022-06-25T00:00:00",
          "2022-06-27T00:00:00",
          "2022-07-04T00:00:00",
          "2022-07-07T00:00:00",
          "2022-07-10T00:00:00",
          "2022-07-12T00:00:00",
          "2022-07-15T00:00:00",
          "2022-08-01T00:00:00",
          "2022-08-02T00:00:00",
          "2022-08-09T00:00:00",
          "2022-08-19T00:00:00",
          "2022-08-22T00:00:00",
          "2022-08-23T00:00:00",
          "2022-08-25T00:00:00",
          "2022-08-30T00:00:00",
          "2022-09-01T00:00:00",
          "2022-09-05T00:00:00",
          "2022-09-07T00:00:00",
          "2022-09-11T00:00:00",
          "2022-09-13T00:00:00",
          "2022-09-15T00:00:00",
          "2022-09-19T00:00:00",
          "2022-09-21T00:00:00",
          "2022-09-23T00:00:00",
          "2022-09-26T00:00:00",
          "2022-09-29T00:00:00",
          "2022-10-03T00:00:00",
          "2022-10-06T00:00:00",
          "2022-10-09T00:00:00",
          "2022-10-12T00:00:00",
          "2022-10-18T00:00:00",
          "2022-10-19T00:00:00",
          "2022-10-22T00:00:00",
          "2022-10-26T00:00:00",
          "2022-10-30T00:00:00",
          "2022-11-01T00:00:00",
          "2022-11-04T00:00:00",
          "2022-11-08T00:00:00",
          "2022-11-09T00:00:00",
          "2022-11-13T00:00:00",
          "2022-11-16T00:00:00",
          "2022-11-18T00:00:00",
          "2022-11-22T00:00:00",
          "2022-11-26T00:00:00",
          "2022-11-29T00:00:00",
          "2022-12-03T00:00:00",
          "2022-12-10T00:00:00",
          "2022-12-14T00:00:00",
          "2022-12-19T00:00:00",
          "2022-12-23T00:00:00",
          "2023-01-03T00:00:00",
          "2023-01-05T00:00:00",
          "2023-01-08T00:00:00",
          "2023-01-11T00:00:00",
          "2023-01-17T00:00:00",
          "2023-01-20T00:00:00",
          "2023-01-24T00:00:00",
          "2023-01-28T00:00:00",
          "2023-02-01T00:00:00",
          "2023-02-01T00:00:00",
          "2023-02-06T00:00:00",
          "2023-02-08T00:00:00",
          "2023-02-12T00:00:00",
          "2023-02-15T00:00:00",
          "2023-02-18T00:00:00",
          "2023-02-19T00:00:00",
          "2023-02-23T00:00:00",
          "2023-02-27T00:00:00",
          "2023-03-01T00:00:00",
          "2023-03-01T00:00:00",
          "2023-03-05T00:00:00",
          "2023-03-08T00:00:00",
          "2023-03-11T00:00:00",
          "2023-03-14T00:00:00",
          "2023-03-16T00:00:00",
          "2023-03-20T00:00:00",
          "2023-03-23T00:00:00",
          "2023-03-26T00:00:00",
          "2023-03-27T00:00:00",
          "2023-04-04T00:00:00",
          "2023-04-05T00:00:00",
          "2023-04-07T00:00:00",
          "2023-04-13T00:00:00",
          "2023-04-17T00:00:00",
          "2023-04-19T00:00:00",
          "2023-04-21T00:00:00",
          "2023-04-30T00:00:00"
         ],
         "y": [
          9.54,
          14.75,
          17.76,
          7.64,
          10.59,
          13.28,
          19.01,
          20.99,
          9.51,
          12.92,
          19.2,
          14.09,
          14.08,
          17.28,
          13.4,
          18.3,
          20.7,
          20.04,
          17.6,
          17.6,
          10.91,
          18.83,
          11.11,
          20.43,
          11.03,
          3.79,
          20.66,
          10.2,
          18.77,
          21.09,
          16.01,
          12.51,
          17.44,
          9.22,
          14.07,
          16.71,
          19.51,
          10.8,
          16.69,
          23.4,
          19.25,
          17.02,
          9.62,
          12.75,
          20.72,
          9.47,
          16.14,
          19.23,
          17.74,
          14.82,
          19.4,
          16.1,
          15.07,
          16.53,
          18.31,
          11.96,
          23.51,
          11.67,
          16.68,
          11.14,
          23.56,
          7.72,
          21.65,
          14.16,
          14.35,
          19.35,
          25.54,
          30.12,
          18.25,
          20.6,
          29.66,
          19.24,
          21.92,
          24.82,
          22.08,
          20.31,
          25.26,
          17.58,
          17.53,
          27.87,
          22.43,
          16.62,
          17.36,
          15.69,
          28.32,
          26.45,
          28.83,
          20.26,
          21.4,
          22.25,
          12.3,
          26.03,
          15.2,
          19.69,
          23.34,
          13.57,
          9.38,
          20.65,
          24.42,
          8.82,
          16.86,
          11.85,
          14.45,
          17.98,
          18.78,
          29.74,
          16.91,
          5.99,
          22.48,
          12.63,
          25.78,
          24.12,
          26.93,
          19.39,
          19.03,
          22.72,
          25.62,
          22.17,
          10.75,
          37.18,
          35.25,
          33.32,
          13.69,
          26.95,
          25.14,
          6.17,
          44.48,
          28.37,
          28.15,
          33.8,
          32.25,
          19.88,
          37.17,
          20.6,
          14.62,
          2.741,
          33.71,
          24.56,
          39.84,
          26.79,
          37.7,
          28.88,
          34.08,
          34.08,
          34.46,
          28.95,
          26.72,
          27.69,
          25.32,
          17.12,
          25.86,
          34.44,
          24.46,
          24.46,
          23.71,
          23.99,
          33.18,
          19.1,
          40.14,
          32.43,
          23.14,
          14.19,
          45.68,
          30.16,
          15.65,
          7.39,
          40.36,
          37.03,
          21.05,
          7.97,
          41.05
         ]
        },
        {
         "line": {
          "color": "red"
         },
         "name": "10 visits rolling mean",
         "type": "scatter",
         "x": [
          "2021-10-11T00:00:00",
          "2021-10-12T00:00:00",
          "2021-10-13T00:00:00",
          "2021-10-25T00:00:00",
          "2021-10-27T00:00:00",
          "2021-10-28T00:00:00",
          "2021-11-01T00:00:00",
          "2021-11-03T00:00:00",
          "2021-11-05T00:00:00",
          "2021-11-06T00:00:00",
          "2021-11-08T00:00:00",
          "2021-11-09T00:00:00",
          "2021-11-12T00:00:00",
          "2021-11-13T00:00:00",
          "2021-11-15T00:00:00",
          "2021-11-21T00:00:00",
          "2021-11-24T00:00:00",
          "2021-11-26T00:00:00",
          "2021-12-01T00:00:00",
          "2021-12-01T00:00:00",
          "2021-12-05T00:00:00",
          "2021-12-07T00:00:00",
          "2021-12-09T00:00:00",
          "2021-12-12T00:00:00",
          "2021-12-16T00:00:00",
          "2021-12-17T00:00:00",
          "2021-12-20T00:00:00",
          "2021-12-22T00:00:00",
          "2022-01-04T00:00:00",
          "2022-01-11T00:00:00",
          "2022-01-12T00:00:00",
          "2022-01-14T00:00:00",
          "2022-01-16T00:00:00",
          "2022-01-18T00:00:00",
          "2022-01-19T00:00:00",
          "2022-01-22T00:00:00",
          "2022-01-25T00:00:00",
          "2022-01-27T00:00:00",
          "2022-01-31T00:00:00",
          "2022-02-03T00:00:00",
          "2022-02-06T00:00:00",
          "2022-02-08T00:00:00",
          "2022-02-10T00:00:00",
          "2022-02-13T00:00:00",
          "2022-02-15T00:00:00",
          "2022-02-18T00:00:00",
          "2022-02-19T00:00:00",
          "2022-02-22T00:00:00",
          "2022-02-27T00:00:00",
          "2022-03-03T00:00:00",
          "2022-03-05T00:00:00",
          "2022-03-08T00:00:00",
          "2022-03-10T00:00:00",
          "2022-03-21T00:00:00",
          "2022-03-23T00:00:00",
          "2022-03-25T00:00:00",
          "2022-03-27T00:00:00",
          "2022-03-30T00:00:00",
          "2022-04-01T00:00:00",
          "2022-04-04T00:00:00",
          "2022-04-06T00:00:00",
          "2022-04-08T00:00:00",
          "2022-04-10T00:00:00",
          "2022-04-13T00:00:00",
          "2022-04-16T00:00:00",
          "2022-04-18T00:00:00",
          "2022-04-21T00:00:00",
          "2022-04-25T00:00:00",
          "2022-05-02T00:00:00",
          "2022-05-08T00:00:00",
          "2022-05-11T00:00:00",
          "2022-05-14T00:00:00",
          "2022-05-18T00:00:00",
          "2022-05-23T00:00:00",
          "2022-05-25T00:00:00",
          "2022-05-27T00:00:00",
          "2022-05-30T00:00:00",
          "2022-06-02T00:00:00",
          "2022-06-09T00:00:00",
          "2022-06-11T00:00:00",
          "2022-06-13T00:00:00",
          "2022-06-15T00:00:00",
          "2022-06-17T00:00:00",
          "2022-06-20T00:00:00",
          "2022-06-25T00:00:00",
          "2022-06-27T00:00:00",
          "2022-07-04T00:00:00",
          "2022-07-07T00:00:00",
          "2022-07-10T00:00:00",
          "2022-07-12T00:00:00",
          "2022-07-15T00:00:00",
          "2022-08-01T00:00:00",
          "2022-08-02T00:00:00",
          "2022-08-09T00:00:00",
          "2022-08-19T00:00:00",
          "2022-08-22T00:00:00",
          "2022-08-23T00:00:00",
          "2022-08-25T00:00:00",
          "2022-08-30T00:00:00",
          "2022-09-01T00:00:00",
          "2022-09-05T00:00:00",
          "2022-09-07T00:00:00",
          "2022-09-11T00:00:00",
          "2022-09-13T00:00:00",
          "2022-09-15T00:00:00",
          "2022-09-19T00:00:00",
          "2022-09-21T00:00:00",
          "2022-09-23T00:00:00",
          "2022-09-26T00:00:00",
          "2022-09-29T00:00:00",
          "2022-10-03T00:00:00",
          "2022-10-06T00:00:00",
          "2022-10-09T00:00:00",
          "2022-10-12T00:00:00",
          "2022-10-18T00:00:00",
          "2022-10-19T00:00:00",
          "2022-10-22T00:00:00",
          "2022-10-26T00:00:00",
          "2022-10-30T00:00:00",
          "2022-11-01T00:00:00",
          "2022-11-04T00:00:00",
          "2022-11-08T00:00:00",
          "2022-11-09T00:00:00",
          "2022-11-13T00:00:00",
          "2022-11-16T00:00:00",
          "2022-11-18T00:00:00",
          "2022-11-22T00:00:00",
          "2022-11-26T00:00:00",
          "2022-11-29T00:00:00",
          "2022-12-03T00:00:00",
          "2022-12-10T00:00:00",
          "2022-12-14T00:00:00",
          "2022-12-19T00:00:00",
          "2022-12-23T00:00:00",
          "2023-01-03T00:00:00",
          "2023-01-05T00:00:00",
          "2023-01-08T00:00:00",
          "2023-01-11T00:00:00",
          "2023-01-17T00:00:00",
          "2023-01-20T00:00:00",
          "2023-01-24T00:00:00",
          "2023-01-28T00:00:00",
          "2023-02-01T00:00:00",
          "2023-02-01T00:00:00",
          "2023-02-06T00:00:00",
          "2023-02-08T00:00:00",
          "2023-02-12T00:00:00",
          "2023-02-15T00:00:00",
          "2023-02-18T00:00:00",
          "2023-02-19T00:00:00",
          "2023-02-23T00:00:00",
          "2023-02-27T00:00:00",
          "2023-03-01T00:00:00",
          "2023-03-01T00:00:00",
          "2023-03-05T00:00:00",
          "2023-03-08T00:00:00",
          "2023-03-11T00:00:00",
          "2023-03-14T00:00:00",
          "2023-03-16T00:00:00",
          "2023-03-20T00:00:00",
          "2023-03-23T00:00:00",
          "2023-03-26T00:00:00",
          "2023-03-27T00:00:00",
          "2023-04-04T00:00:00",
          "2023-04-05T00:00:00",
          "2023-04-07T00:00:00",
          "2023-04-13T00:00:00",
          "2023-04-17T00:00:00",
          "2023-04-19T00:00:00",
          "2023-04-21T00:00:00",
          "2023-04-30T00:00:00"
         ],
         "y": [
          null,
          null,
          null,
          null,
          null,
          null,
          null,
          null,
          null,
          13.599,
          14.565000000000001,
          14.499,
          14.131,
          15.094999999999999,
          15.376000000000001,
          15.878000000000004,
          16.047,
          15.952000000000002,
          16.761,
          17.229000000000003,
          16.400000000000002,
          16.874000000000002,
          16.577,
          16.892000000000003,
          16.654999999999998,
          15.204000000000002,
          15.2,
          14.216,
          14.332999999999998,
          14.681999999999999,
          15.192000000000002,
          14.559999999999999,
          15.193000000000001,
          14.072,
          14.376,
          15.668000000000001,
          15.553,
          15.613,
          15.405000000000001,
          15.636000000000001,
          15.959999999999999,
          16.411,
          15.629,
          15.982,
          16.647,
          15.922999999999998,
          15.586000000000002,
          16.429,
          16.534,
          15.675999999999998,
          15.690999999999999,
          15.598999999999998,
          16.144,
          16.522,
          16.281,
          16.53,
          17.267,
          16.511000000000003,
          16.405,
          16.037,
          16.453,
          15.615,
          16.273000000000003,
          16.036,
          15.64,
          16.378999999999998,
          16.582,
          18.427,
          18.583999999999996,
          19.53,
          20.14,
          21.291999999999998,
          21.319,
          22.384999999999998,
          23.158,
          23.254,
          23.226,
          21.972,
          21.9,
          22.627,
          21.904,
          21.642000000000003,
          21.186,
          20.273,
          20.897,
          21.511000000000003,
          21.868000000000002,
          22.136000000000003,
          22.523000000000003,
          21.961000000000002,
          20.948,
          21.889,
          21.673000000000002,
          22.073,
          21.575,
          20.287,
          18.342,
          18.381,
          18.683,
          17.34,
          17.796,
          16.378,
          16.303,
          16.131999999999998,
          15.675999999999998,
          17.293,
          18.046,
          16.580000000000002,
          16.386,
          16.767,
          17.659,
          18.886000000000003,
          20.134,
          20.275,
          20.3,
          19.598,
          20.469,
          22.087,
          20.914,
          23.369,
          24.316000000000003,
          25.236,
          23.912,
          24.668,
          25.279000000000003,
          23.624000000000002,
          25.51,
          26.130000000000003,
          27.869999999999997,
          27.532,
          27.232,
          25.887999999999998,
          28.236,
          27.601,
          26.549,
          26.2061,
          25.1291,
          24.7481,
          25.917099999999998,
          25.216099999999997,
          25.7611,
          26.661099999999998,
          26.3521,
          27.7001,
          29.6841,
          32.305,
          31.606,
          31.919,
          30.467000000000002,
          29.5,
          28.315999999999995,
          28.872000000000003,
          27.910000000000004,
          26.948,
          25.873,
          25.377000000000002,
          26.023000000000003,
          25.164,
          26.645999999999997,
          28.177,
          27.905,
          25.880000000000003,
          28.002,
          28.572000000000003,
          27.766,
          26.106,
          26.824,
          28.617,
          26.708,
          24.262,
          26.053000000000004
         ]
        },
        {
         "line": {
          "color": "blue"
         },
         "name": "Amount over Time",
         "opacity": 0.3,
         "type": "scatter",
         "x": [
          "2021-10-11T00:00:00",
          "2021-10-12T00:00:00",
          "2021-10-13T00:00:00",
          "2021-10-25T00:00:00",
          "2021-10-27T00:00:00",
          "2021-10-28T00:00:00",
          "2021-11-01T00:00:00",
          "2021-11-03T00:00:00",
          "2021-11-05T00:00:00",
          "2021-11-06T00:00:00",
          "2021-11-08T00:00:00",
          "2021-11-09T00:00:00",
          "2021-11-12T00:00:00",
          "2021-11-13T00:00:00",
          "2021-11-15T00:00:00",
          "2021-11-21T00:00:00",
          "2021-11-24T00:00:00",
          "2021-11-26T00:00:00",
          "2021-12-01T00:00:00",
          "2021-12-01T00:00:00",
          "2021-12-05T00:00:00",
          "2021-12-07T00:00:00",
          "2021-12-09T00:00:00",
          "2021-12-12T00:00:00",
          "2021-12-16T00:00:00",
          "2021-12-17T00:00:00",
          "2021-12-20T00:00:00",
          "2021-12-22T00:00:00",
          "2022-01-04T00:00:00",
          "2022-01-11T00:00:00",
          "2022-01-12T00:00:00",
          "2022-01-14T00:00:00",
          "2022-01-16T00:00:00",
          "2022-01-18T00:00:00",
          "2022-01-19T00:00:00",
          "2022-01-22T00:00:00",
          "2022-01-25T00:00:00",
          "2022-01-27T00:00:00",
          "2022-01-31T00:00:00",
          "2022-02-03T00:00:00",
          "2022-02-06T00:00:00",
          "2022-02-08T00:00:00",
          "2022-02-10T00:00:00",
          "2022-02-13T00:00:00",
          "2022-02-15T00:00:00",
          "2022-02-18T00:00:00",
          "2022-02-19T00:00:00",
          "2022-02-22T00:00:00",
          "2022-02-27T00:00:00",
          "2022-03-03T00:00:00",
          "2022-03-05T00:00:00",
          "2022-03-08T00:00:00",
          "2022-03-10T00:00:00",
          "2022-03-21T00:00:00",
          "2022-03-23T00:00:00",
          "2022-03-25T00:00:00",
          "2022-03-27T00:00:00",
          "2022-03-30T00:00:00",
          "2022-04-01T00:00:00",
          "2022-04-04T00:00:00",
          "2022-04-06T00:00:00",
          "2022-04-08T00:00:00",
          "2022-04-10T00:00:00",
          "2022-04-13T00:00:00",
          "2022-04-16T00:00:00",
          "2022-04-18T00:00:00",
          "2022-04-21T00:00:00",
          "2022-04-25T00:00:00",
          "2022-05-02T00:00:00",
          "2022-05-08T00:00:00",
          "2022-05-11T00:00:00",
          "2022-05-14T00:00:00",
          "2022-05-18T00:00:00",
          "2022-05-23T00:00:00",
          "2022-05-25T00:00:00",
          "2022-05-27T00:00:00",
          "2022-05-30T00:00:00",
          "2022-06-02T00:00:00",
          "2022-06-09T00:00:00",
          "2022-06-11T00:00:00",
          "2022-06-13T00:00:00",
          "2022-06-15T00:00:00",
          "2022-06-17T00:00:00",
          "2022-06-20T00:00:00",
          "2022-06-25T00:00:00",
          "2022-06-27T00:00:00",
          "2022-07-04T00:00:00",
          "2022-07-07T00:00:00",
          "2022-07-10T00:00:00",
          "2022-07-12T00:00:00",
          "2022-07-15T00:00:00",
          "2022-08-01T00:00:00",
          "2022-08-02T00:00:00",
          "2022-08-09T00:00:00",
          "2022-08-19T00:00:00",
          "2022-08-22T00:00:00",
          "2022-08-23T00:00:00",
          "2022-08-25T00:00:00",
          "2022-08-30T00:00:00",
          "2022-09-01T00:00:00",
          "2022-09-05T00:00:00",
          "2022-09-07T00:00:00",
          "2022-09-11T00:00:00",
          "2022-09-13T00:00:00",
          "2022-09-15T00:00:00",
          "2022-09-19T00:00:00",
          "2022-09-21T00:00:00",
          "2022-09-23T00:00:00",
          "2022-09-26T00:00:00",
          "2022-09-29T00:00:00",
          "2022-10-03T00:00:00",
          "2022-10-06T00:00:00",
          "2022-10-09T00:00:00",
          "2022-10-12T00:00:00",
          "2022-10-18T00:00:00",
          "2022-10-19T00:00:00",
          "2022-10-22T00:00:00",
          "2022-10-26T00:00:00",
          "2022-10-30T00:00:00",
          "2022-11-01T00:00:00",
          "2022-11-04T00:00:00",
          "2022-11-08T00:00:00",
          "2022-11-09T00:00:00",
          "2022-11-13T00:00:00",
          "2022-11-16T00:00:00",
          "2022-11-18T00:00:00",
          "2022-11-22T00:00:00",
          "2022-11-26T00:00:00",
          "2022-11-29T00:00:00",
          "2022-12-03T00:00:00",
          "2022-12-10T00:00:00",
          "2022-12-14T00:00:00",
          "2022-12-19T00:00:00",
          "2022-12-23T00:00:00",
          "2023-01-03T00:00:00",
          "2023-01-05T00:00:00",
          "2023-01-08T00:00:00",
          "2023-01-11T00:00:00",
          "2023-01-17T00:00:00",
          "2023-01-20T00:00:00",
          "2023-01-24T00:00:00",
          "2023-01-28T00:00:00",
          "2023-02-01T00:00:00",
          "2023-02-01T00:00:00",
          "2023-02-06T00:00:00",
          "2023-02-08T00:00:00",
          "2023-02-12T00:00:00",
          "2023-02-15T00:00:00",
          "2023-02-18T00:00:00",
          "2023-02-19T00:00:00",
          "2023-02-23T00:00:00",
          "2023-02-27T00:00:00",
          "2023-03-01T00:00:00",
          "2023-03-01T00:00:00",
          "2023-03-05T00:00:00",
          "2023-03-08T00:00:00",
          "2023-03-11T00:00:00",
          "2023-03-14T00:00:00",
          "2023-03-16T00:00:00",
          "2023-03-20T00:00:00",
          "2023-03-23T00:00:00",
          "2023-03-26T00:00:00",
          "2023-03-27T00:00:00",
          "2023-04-04T00:00:00",
          "2023-04-05T00:00:00",
          "2023-04-07T00:00:00",
          "2023-04-13T00:00:00",
          "2023-04-17T00:00:00",
          "2023-04-19T00:00:00",
          "2023-04-21T00:00:00",
          "2023-04-30T00:00:00"
         ],
         "y": [
          5,
          9,
          8,
          5,
          7,
          9,
          10,
          12,
          5,
          9,
          8,
          9,
          9,
          8,
          8,
          9,
          10,
          11,
          12,
          12,
          7,
          13,
          8,
          1,
          8,
          3,
          12,
          6,
          14,
          11,
          10,
          8,
          12,
          7,
          9,
          9,
          11,
          6,
          10,
          15,
          14,
          10,
          6,
          7,
          13,
          5,
          8,
          7,
          13,
          9,
          10,
          9,
          10,
          9,
          12,
          10,
          13,
          8,
          10,
          6,
          8,
          5,
          14,
          10,
          8,
          8,
          12,
          16,
          12,
          13,
          20,
          10,
          12,
          17,
          13,
          13,
          12,
          12,
          9,
          15,
          13,
          7,
          9,
          8,
          14,
          11,
          15,
          10,
          12,
          1,
          7,
          12,
          6,
          10,
          10,
          6,
          7,
          13,
          16,
          5,
          12,
          7,
          7,
          9,
          10,
          16,
          11,
          1,
          13,
          6,
          12,
          13,
          14,
          14,
          14,
          10,
          10,
          11,
          5,
          21,
          10,
          15,
          7,
          15,
          14,
          3,
          24,
          11,
          9,
          19,
          19,
          11,
          18,
          10,
          8,
          16,
          14,
          12,
          17,
          15,
          20,
          16,
          14,
          14,
          16,
          12,
          12,
          16,
          8,
          8,
          11,
          16,
          10,
          10,
          14,
          10,
          17,
          8,
          19,
          18,
          6,
          8,
          13,
          15,
          7,
          1,
          12,
          13,
          11,
          3,
          16
         ]
        },
        {
         "line": {
          "color": "blue"
         },
         "name": "10 visits rolling amount",
         "type": "scatter",
         "x": [
          "2021-10-11T00:00:00",
          "2021-10-12T00:00:00",
          "2021-10-13T00:00:00",
          "2021-10-25T00:00:00",
          "2021-10-27T00:00:00",
          "2021-10-28T00:00:00",
          "2021-11-01T00:00:00",
          "2021-11-03T00:00:00",
          "2021-11-05T00:00:00",
          "2021-11-06T00:00:00",
          "2021-11-08T00:00:00",
          "2021-11-09T00:00:00",
          "2021-11-12T00:00:00",
          "2021-11-13T00:00:00",
          "2021-11-15T00:00:00",
          "2021-11-21T00:00:00",
          "2021-11-24T00:00:00",
          "2021-11-26T00:00:00",
          "2021-12-01T00:00:00",
          "2021-12-01T00:00:00",
          "2021-12-05T00:00:00",
          "2021-12-07T00:00:00",
          "2021-12-09T00:00:00",
          "2021-12-12T00:00:00",
          "2021-12-16T00:00:00",
          "2021-12-17T00:00:00",
          "2021-12-20T00:00:00",
          "2021-12-22T00:00:00",
          "2022-01-04T00:00:00",
          "2022-01-11T00:00:00",
          "2022-01-12T00:00:00",
          "2022-01-14T00:00:00",
          "2022-01-16T00:00:00",
          "2022-01-18T00:00:00",
          "2022-01-19T00:00:00",
          "2022-01-22T00:00:00",
          "2022-01-25T00:00:00",
          "2022-01-27T00:00:00",
          "2022-01-31T00:00:00",
          "2022-02-03T00:00:00",
          "2022-02-06T00:00:00",
          "2022-02-08T00:00:00",
          "2022-02-10T00:00:00",
          "2022-02-13T00:00:00",
          "2022-02-15T00:00:00",
          "2022-02-18T00:00:00",
          "2022-02-19T00:00:00",
          "2022-02-22T00:00:00",
          "2022-02-27T00:00:00",
          "2022-03-03T00:00:00",
          "2022-03-05T00:00:00",
          "2022-03-08T00:00:00",
          "2022-03-10T00:00:00",
          "2022-03-21T00:00:00",
          "2022-03-23T00:00:00",
          "2022-03-25T00:00:00",
          "2022-03-27T00:00:00",
          "2022-03-30T00:00:00",
          "2022-04-01T00:00:00",
          "2022-04-04T00:00:00",
          "2022-04-06T00:00:00",
          "2022-04-08T00:00:00",
          "2022-04-10T00:00:00",
          "2022-04-13T00:00:00",
          "2022-04-16T00:00:00",
          "2022-04-18T00:00:00",
          "2022-04-21T00:00:00",
          "2022-04-25T00:00:00",
          "2022-05-02T00:00:00",
          "2022-05-08T00:00:00",
          "2022-05-11T00:00:00",
          "2022-05-14T00:00:00",
          "2022-05-18T00:00:00",
          "2022-05-23T00:00:00",
          "2022-05-25T00:00:00",
          "2022-05-27T00:00:00",
          "2022-05-30T00:00:00",
          "2022-06-02T00:00:00",
          "2022-06-09T00:00:00",
          "2022-06-11T00:00:00",
          "2022-06-13T00:00:00",
          "2022-06-15T00:00:00",
          "2022-06-17T00:00:00",
          "2022-06-20T00:00:00",
          "2022-06-25T00:00:00",
          "2022-06-27T00:00:00",
          "2022-07-04T00:00:00",
          "2022-07-07T00:00:00",
          "2022-07-10T00:00:00",
          "2022-07-12T00:00:00",
          "2022-07-15T00:00:00",
          "2022-08-01T00:00:00",
          "2022-08-02T00:00:00",
          "2022-08-09T00:00:00",
          "2022-08-19T00:00:00",
          "2022-08-22T00:00:00",
          "2022-08-23T00:00:00",
          "2022-08-25T00:00:00",
          "2022-08-30T00:00:00",
          "2022-09-01T00:00:00",
          "2022-09-05T00:00:00",
          "2022-09-07T00:00:00",
          "2022-09-11T00:00:00",
          "2022-09-13T00:00:00",
          "2022-09-15T00:00:00",
          "2022-09-19T00:00:00",
          "2022-09-21T00:00:00",
          "2022-09-23T00:00:00",
          "2022-09-26T00:00:00",
          "2022-09-29T00:00:00",
          "2022-10-03T00:00:00",
          "2022-10-06T00:00:00",
          "2022-10-09T00:00:00",
          "2022-10-12T00:00:00",
          "2022-10-18T00:00:00",
          "2022-10-19T00:00:00",
          "2022-10-22T00:00:00",
          "2022-10-26T00:00:00",
          "2022-10-30T00:00:00",
          "2022-11-01T00:00:00",
          "2022-11-04T00:00:00",
          "2022-11-08T00:00:00",
          "2022-11-09T00:00:00",
          "2022-11-13T00:00:00",
          "2022-11-16T00:00:00",
          "2022-11-18T00:00:00",
          "2022-11-22T00:00:00",
          "2022-11-26T00:00:00",
          "2022-11-29T00:00:00",
          "2022-12-03T00:00:00",
          "2022-12-10T00:00:00",
          "2022-12-14T00:00:00",
          "2022-12-19T00:00:00",
          "2022-12-23T00:00:00",
          "2023-01-03T00:00:00",
          "2023-01-05T00:00:00",
          "2023-01-08T00:00:00",
          "2023-01-11T00:00:00",
          "2023-01-17T00:00:00",
          "2023-01-20T00:00:00",
          "2023-01-24T00:00:00",
          "2023-01-28T00:00:00",
          "2023-02-01T00:00:00",
          "2023-02-01T00:00:00",
          "2023-02-06T00:00:00",
          "2023-02-08T00:00:00",
          "2023-02-12T00:00:00",
          "2023-02-15T00:00:00",
          "2023-02-18T00:00:00",
          "2023-02-19T00:00:00",
          "2023-02-23T00:00:00",
          "2023-02-27T00:00:00",
          "2023-03-01T00:00:00",
          "2023-03-01T00:00:00",
          "2023-03-05T00:00:00",
          "2023-03-08T00:00:00",
          "2023-03-11T00:00:00",
          "2023-03-14T00:00:00",
          "2023-03-16T00:00:00",
          "2023-03-20T00:00:00",
          "2023-03-23T00:00:00",
          "2023-03-26T00:00:00",
          "2023-03-27T00:00:00",
          "2023-04-04T00:00:00",
          "2023-04-05T00:00:00",
          "2023-04-07T00:00:00",
          "2023-04-13T00:00:00",
          "2023-04-17T00:00:00",
          "2023-04-19T00:00:00",
          "2023-04-21T00:00:00",
          "2023-04-30T00:00:00"
         ],
         "y": [
          null,
          null,
          null,
          null,
          null,
          null,
          null,
          null,
          null,
          7.9,
          8.2,
          8.2,
          8.3,
          8.6,
          8.7,
          8.7,
          8.7,
          8.6,
          9.3,
          9.6,
          9.5,
          9.9,
          9.8,
          9.1,
          9.1,
          8.5,
          8.7,
          8.2,
          8.4,
          8.3,
          8.6,
          8.1,
          8.5,
          9.1,
          9.2,
          9.8,
          9.7,
          9.7,
          9.3,
          9.7,
          10.1,
          10.3,
          9.7,
          9.7,
          10.1,
          9.7,
          9.4,
          9.5,
          9.8,
          9.2,
          8.8,
          8.7,
          9.1,
          9.3,
          9.2,
          9.7,
          10.2,
          10.3,
          10,
          9.7,
          9.5,
          9.1,
          9.5,
          9.6,
          9.2,
          9,
          8.9,
          9.7,
          9.9,
          10.6,
          11.8,
          12.3,
          12.1,
          12.8,
          13.3,
          13.8,
          13.8,
          13.4,
          13.1,
          13.3,
          12.6,
          12.3,
          12,
          11.1,
          11.2,
          11,
          11.3,
          11.1,
          11.4,
          10,
          9.4,
          9.9,
          9.6,
          9.8,
          9.4,
          8.9,
          8.1,
          8.4,
          8.8,
          9.2,
          9.7,
          9.2,
          9.3,
          9.2,
          9.2,
          10.2,
          10.6,
          9.4,
          9.1,
          9.2,
          9.2,
          9.8,
          10.5,
          11,
          11.4,
          10.8,
          10.7,
          11.7,
          10.9,
          12.4,
          12.2,
          12.4,
          11.7,
          11.8,
          11.8,
          11.1,
          12.5,
          12.5,
          12.9,
          12.7,
          13.6,
          13.2,
          14.3,
          13.8,
          13.2,
          14.5,
          13.5,
          13.6,
          14.4,
          14,
          14.1,
          14.6,
          14.2,
          14.6,
          15.4,
          15,
          14.8,
          15.2,
          14.3,
          13.6,
          12.7,
          12.7,
          12.3,
          11.9,
          11.7,
          11.5,
          12,
          11.2,
          12.3,
          13.3,
          12.8,
          12,
          12.3,
          12.8,
          12.1,
          11.2,
          10.7,
          11.2,
          10.4,
          8.9,
          9.9
         ]
        }
       ],
       "layout": {
        "template": {
         "data": {
          "bar": [
           {
            "error_x": {
             "color": "#2a3f5f"
            },
            "error_y": {
             "color": "#2a3f5f"
            },
            "marker": {
             "line": {
              "color": "#E5ECF6",
              "width": 0.5
             },
             "pattern": {
              "fillmode": "overlay",
              "size": 10,
              "solidity": 0.2
             }
            },
            "type": "bar"
           }
          ],
          "barpolar": [
           {
            "marker": {
             "line": {
              "color": "#E5ECF6",
              "width": 0.5
             },
             "pattern": {
              "fillmode": "overlay",
              "size": 10,
              "solidity": 0.2
             }
            },
            "type": "barpolar"
           }
          ],
          "carpet": [
           {
            "aaxis": {
             "endlinecolor": "#2a3f5f",
             "gridcolor": "white",
             "linecolor": "white",
             "minorgridcolor": "white",
             "startlinecolor": "#2a3f5f"
            },
            "baxis": {
             "endlinecolor": "#2a3f5f",
             "gridcolor": "white",
             "linecolor": "white",
             "minorgridcolor": "white",
             "startlinecolor": "#2a3f5f"
            },
            "type": "carpet"
           }
          ],
          "choropleth": [
           {
            "colorbar": {
             "outlinewidth": 0,
             "ticks": ""
            },
            "type": "choropleth"
           }
          ],
          "contour": [
           {
            "colorbar": {
             "outlinewidth": 0,
             "ticks": ""
            },
            "colorscale": [
             [
              0,
              "#0d0887"
             ],
             [
              0.1111111111111111,
              "#46039f"
             ],
             [
              0.2222222222222222,
              "#7201a8"
             ],
             [
              0.3333333333333333,
              "#9c179e"
             ],
             [
              0.4444444444444444,
              "#bd3786"
             ],
             [
              0.5555555555555556,
              "#d8576b"
             ],
             [
              0.6666666666666666,
              "#ed7953"
             ],
             [
              0.7777777777777778,
              "#fb9f3a"
             ],
             [
              0.8888888888888888,
              "#fdca26"
             ],
             [
              1,
              "#f0f921"
             ]
            ],
            "type": "contour"
           }
          ],
          "contourcarpet": [
           {
            "colorbar": {
             "outlinewidth": 0,
             "ticks": ""
            },
            "type": "contourcarpet"
           }
          ],
          "heatmap": [
           {
            "colorbar": {
             "outlinewidth": 0,
             "ticks": ""
            },
            "colorscale": [
             [
              0,
              "#0d0887"
             ],
             [
              0.1111111111111111,
              "#46039f"
             ],
             [
              0.2222222222222222,
              "#7201a8"
             ],
             [
              0.3333333333333333,
              "#9c179e"
             ],
             [
              0.4444444444444444,
              "#bd3786"
             ],
             [
              0.5555555555555556,
              "#d8576b"
             ],
             [
              0.6666666666666666,
              "#ed7953"
             ],
             [
              0.7777777777777778,
              "#fb9f3a"
             ],
             [
              0.8888888888888888,
              "#fdca26"
             ],
             [
              1,
              "#f0f921"
             ]
            ],
            "type": "heatmap"
           }
          ],
          "heatmapgl": [
           {
            "colorbar": {
             "outlinewidth": 0,
             "ticks": ""
            },
            "colorscale": [
             [
              0,
              "#0d0887"
             ],
             [
              0.1111111111111111,
              "#46039f"
             ],
             [
              0.2222222222222222,
              "#7201a8"
             ],
             [
              0.3333333333333333,
              "#9c179e"
             ],
             [
              0.4444444444444444,
              "#bd3786"
             ],
             [
              0.5555555555555556,
              "#d8576b"
             ],
             [
              0.6666666666666666,
              "#ed7953"
             ],
             [
              0.7777777777777778,
              "#fb9f3a"
             ],
             [
              0.8888888888888888,
              "#fdca26"
             ],
             [
              1,
              "#f0f921"
             ]
            ],
            "type": "heatmapgl"
           }
          ],
          "histogram": [
           {
            "marker": {
             "pattern": {
              "fillmode": "overlay",
              "size": 10,
              "solidity": 0.2
             }
            },
            "type": "histogram"
           }
          ],
          "histogram2d": [
           {
            "colorbar": {
             "outlinewidth": 0,
             "ticks": ""
            },
            "colorscale": [
             [
              0,
              "#0d0887"
             ],
             [
              0.1111111111111111,
              "#46039f"
             ],
             [
              0.2222222222222222,
              "#7201a8"
             ],
             [
              0.3333333333333333,
              "#9c179e"
             ],
             [
              0.4444444444444444,
              "#bd3786"
             ],
             [
              0.5555555555555556,
              "#d8576b"
             ],
             [
              0.6666666666666666,
              "#ed7953"
             ],
             [
              0.7777777777777778,
              "#fb9f3a"
             ],
             [
              0.8888888888888888,
              "#fdca26"
             ],
             [
              1,
              "#f0f921"
             ]
            ],
            "type": "histogram2d"
           }
          ],
          "histogram2dcontour": [
           {
            "colorbar": {
             "outlinewidth": 0,
             "ticks": ""
            },
            "colorscale": [
             [
              0,
              "#0d0887"
             ],
             [
              0.1111111111111111,
              "#46039f"
             ],
             [
              0.2222222222222222,
              "#7201a8"
             ],
             [
              0.3333333333333333,
              "#9c179e"
             ],
             [
              0.4444444444444444,
              "#bd3786"
             ],
             [
              0.5555555555555556,
              "#d8576b"
             ],
             [
              0.6666666666666666,
              "#ed7953"
             ],
             [
              0.7777777777777778,
              "#fb9f3a"
             ],
             [
              0.8888888888888888,
              "#fdca26"
             ],
             [
              1,
              "#f0f921"
             ]
            ],
            "type": "histogram2dcontour"
           }
          ],
          "mesh3d": [
           {
            "colorbar": {
             "outlinewidth": 0,
             "ticks": ""
            },
            "type": "mesh3d"
           }
          ],
          "parcoords": [
           {
            "line": {
             "colorbar": {
              "outlinewidth": 0,
              "ticks": ""
             }
            },
            "type": "parcoords"
           }
          ],
          "pie": [
           {
            "automargin": true,
            "type": "pie"
           }
          ],
          "scatter": [
           {
            "marker": {
             "colorbar": {
              "outlinewidth": 0,
              "ticks": ""
             }
            },
            "type": "scatter"
           }
          ],
          "scatter3d": [
           {
            "line": {
             "colorbar": {
              "outlinewidth": 0,
              "ticks": ""
             }
            },
            "marker": {
             "colorbar": {
              "outlinewidth": 0,
              "ticks": ""
             }
            },
            "type": "scatter3d"
           }
          ],
          "scattercarpet": [
           {
            "marker": {
             "colorbar": {
              "outlinewidth": 0,
              "ticks": ""
             }
            },
            "type": "scattercarpet"
           }
          ],
          "scattergeo": [
           {
            "marker": {
             "colorbar": {
              "outlinewidth": 0,
              "ticks": ""
             }
            },
            "type": "scattergeo"
           }
          ],
          "scattergl": [
           {
            "marker": {
             "colorbar": {
              "outlinewidth": 0,
              "ticks": ""
             }
            },
            "type": "scattergl"
           }
          ],
          "scattermapbox": [
           {
            "marker": {
             "colorbar": {
              "outlinewidth": 0,
              "ticks": ""
             }
            },
            "type": "scattermapbox"
           }
          ],
          "scatterpolar": [
           {
            "marker": {
             "colorbar": {
              "outlinewidth": 0,
              "ticks": ""
             }
            },
            "type": "scatterpolar"
           }
          ],
          "scatterpolargl": [
           {
            "marker": {
             "colorbar": {
              "outlinewidth": 0,
              "ticks": ""
             }
            },
            "type": "scatterpolargl"
           }
          ],
          "scatterternary": [
           {
            "marker": {
             "colorbar": {
              "outlinewidth": 0,
              "ticks": ""
             }
            },
            "type": "scatterternary"
           }
          ],
          "surface": [
           {
            "colorbar": {
             "outlinewidth": 0,
             "ticks": ""
            },
            "colorscale": [
             [
              0,
              "#0d0887"
             ],
             [
              0.1111111111111111,
              "#46039f"
             ],
             [
              0.2222222222222222,
              "#7201a8"
             ],
             [
              0.3333333333333333,
              "#9c179e"
             ],
             [
              0.4444444444444444,
              "#bd3786"
             ],
             [
              0.5555555555555556,
              "#d8576b"
             ],
             [
              0.6666666666666666,
              "#ed7953"
             ],
             [
              0.7777777777777778,
              "#fb9f3a"
             ],
             [
              0.8888888888888888,
              "#fdca26"
             ],
             [
              1,
              "#f0f921"
             ]
            ],
            "type": "surface"
           }
          ],
          "table": [
           {
            "cells": {
             "fill": {
              "color": "#EBF0F8"
             },
             "line": {
              "color": "white"
             }
            },
            "header": {
             "fill": {
              "color": "#C8D4E3"
             },
             "line": {
              "color": "white"
             }
            },
            "type": "table"
           }
          ]
         },
         "layout": {
          "annotationdefaults": {
           "arrowcolor": "#2a3f5f",
           "arrowhead": 0,
           "arrowwidth": 1
          },
          "autotypenumbers": "strict",
          "coloraxis": {
           "colorbar": {
            "outlinewidth": 0,
            "ticks": ""
           }
          },
          "colorscale": {
           "diverging": [
            [
             0,
             "#8e0152"
            ],
            [
             0.1,
             "#c51b7d"
            ],
            [
             0.2,
             "#de77ae"
            ],
            [
             0.3,
             "#f1b6da"
            ],
            [
             0.4,
             "#fde0ef"
            ],
            [
             0.5,
             "#f7f7f7"
            ],
            [
             0.6,
             "#e6f5d0"
            ],
            [
             0.7,
             "#b8e186"
            ],
            [
             0.8,
             "#7fbc41"
            ],
            [
             0.9,
             "#4d9221"
            ],
            [
             1,
             "#276419"
            ]
           ],
           "sequential": [
            [
             0,
             "#0d0887"
            ],
            [
             0.1111111111111111,
             "#46039f"
            ],
            [
             0.2222222222222222,
             "#7201a8"
            ],
            [
             0.3333333333333333,
             "#9c179e"
            ],
            [
             0.4444444444444444,
             "#bd3786"
            ],
            [
             0.5555555555555556,
             "#d8576b"
            ],
            [
             0.6666666666666666,
             "#ed7953"
            ],
            [
             0.7777777777777778,
             "#fb9f3a"
            ],
            [
             0.8888888888888888,
             "#fdca26"
            ],
            [
             1,
             "#f0f921"
            ]
           ],
           "sequentialminus": [
            [
             0,
             "#0d0887"
            ],
            [
             0.1111111111111111,
             "#46039f"
            ],
            [
             0.2222222222222222,
             "#7201a8"
            ],
            [
             0.3333333333333333,
             "#9c179e"
            ],
            [
             0.4444444444444444,
             "#bd3786"
            ],
            [
             0.5555555555555556,
             "#d8576b"
            ],
            [
             0.6666666666666666,
             "#ed7953"
            ],
            [
             0.7777777777777778,
             "#fb9f3a"
            ],
            [
             0.8888888888888888,
             "#fdca26"
            ],
            [
             1,
             "#f0f921"
            ]
           ]
          },
          "colorway": [
           "#636efa",
           "#EF553B",
           "#00cc96",
           "#ab63fa",
           "#FFA15A",
           "#19d3f3",
           "#FF6692",
           "#B6E880",
           "#FF97FF",
           "#FECB52"
          ],
          "font": {
           "color": "#2a3f5f"
          },
          "geo": {
           "bgcolor": "white",
           "lakecolor": "white",
           "landcolor": "#E5ECF6",
           "showlakes": true,
           "showland": true,
           "subunitcolor": "white"
          },
          "hoverlabel": {
           "align": "left"
          },
          "hovermode": "closest",
          "mapbox": {
           "style": "light"
          },
          "paper_bgcolor": "white",
          "plot_bgcolor": "#E5ECF6",
          "polar": {
           "angularaxis": {
            "gridcolor": "white",
            "linecolor": "white",
            "ticks": ""
           },
           "bgcolor": "#E5ECF6",
           "radialaxis": {
            "gridcolor": "white",
            "linecolor": "white",
            "ticks": ""
           }
          },
          "scene": {
           "xaxis": {
            "backgroundcolor": "#E5ECF6",
            "gridcolor": "white",
            "gridwidth": 2,
            "linecolor": "white",
            "showbackground": true,
            "ticks": "",
            "zerolinecolor": "white"
           },
           "yaxis": {
            "backgroundcolor": "#E5ECF6",
            "gridcolor": "white",
            "gridwidth": 2,
            "linecolor": "white",
            "showbackground": true,
            "ticks": "",
            "zerolinecolor": "white"
           },
           "zaxis": {
            "backgroundcolor": "#E5ECF6",
            "gridcolor": "white",
            "gridwidth": 2,
            "linecolor": "white",
            "showbackground": true,
            "ticks": "",
            "zerolinecolor": "white"
           }
          },
          "shapedefaults": {
           "line": {
            "color": "#2a3f5f"
           }
          },
          "ternary": {
           "aaxis": {
            "gridcolor": "white",
            "linecolor": "white",
            "ticks": ""
           },
           "baxis": {
            "gridcolor": "white",
            "linecolor": "white",
            "ticks": ""
           },
           "bgcolor": "#E5ECF6",
           "caxis": {
            "gridcolor": "white",
            "linecolor": "white",
            "ticks": ""
           }
          },
          "title": {
           "x": 0.05
          },
          "xaxis": {
           "automargin": true,
           "gridcolor": "white",
           "linecolor": "white",
           "ticks": "",
           "title": {
            "standoff": 15
           },
           "zerolinecolor": "white",
           "zerolinewidth": 2
          },
          "yaxis": {
           "automargin": true,
           "gridcolor": "white",
           "linecolor": "white",
           "ticks": "",
           "title": {
            "standoff": 15
           },
           "zerolinecolor": "white",
           "zerolinewidth": 2
          }
         }
        },
        "title": {
         "text": "The total amount and price of items bought"
        },
        "xaxis": {
         "title": {
          "text": "Months"
         }
        },
        "yaxis": {
         "title": {
          "text": "Price in € & Amount"
         }
        }
       }
      }
     },
     "metadata": {},
     "output_type": "display_data"
    }
   ],
   "source": [
    "line1 = go.Scatter(x=total_df['Date'], y=total_df['Price'], name='Price over Time', opacity=0.3, line=dict(color='red'))\n",
    "line2 = go.Scatter(x=total_df['Date'], y=total_df['Rolling Price'], name='10 visits rolling mean', line=dict(color='red'))\n",
    "line3 = go.Scatter(x=total_df['Date'], y=total_df['Amount'], name='Amount over Time', opacity=0.3, line=dict(color='blue'))\n",
    "line4 = go.Scatter(x=total_df['Date'], y=total_df['Rolling Amount'], name='10 visits rolling amount', line=dict(color='blue'))\n",
    "data = [line1, line2, line3, line4]\n",
    "fig = go.Figure(data=data)\n",
    "\n",
    "fig.update_layout(title_text = \"\"\"The total amount and price of items bought\"\"\" ,\n",
    "                  xaxis_title = \"Months\", \n",
    "                  yaxis_title = 'Price in € & Amount')\n",
    "fig.show()"
   ]
  },
  {
   "cell_type": "code",
   "execution_count": 60,
   "metadata": {},
   "outputs": [
    {
     "data": {
      "text/plain": [
       "13.599"
      ]
     },
     "execution_count": 60,
     "metadata": {},
     "output_type": "execute_result"
    }
   ],
   "source": [
    "total_df['Rolling Price'].min()"
   ]
  },
  {
   "cell_type": "code",
   "execution_count": 69,
   "metadata": {},
   "outputs": [
    {
     "name": "stdout",
     "output_type": "stream",
     "text": [
      " First 10 point average = 13.6 \n",
      " Last 10 point average = 26.05\n",
      " Percentage difference in rolling price: 91.58 %\n"
     ]
    }
   ],
   "source": [
    "first_valid_index = total_df['Rolling Price'].first_valid_index()\n",
    "first_rolling_price = total_df['Rolling Price'].loc[first_valid_index]\n",
    "last_rolling_price = total_df['Rolling Price'].iloc[-1]\n",
    "percent_diff = round(((last_rolling_price - first_rolling_price) / first_rolling_price) * 100, 2)\n",
    "\n",
    "print(' First 10 point average =', round(first_rolling_price, 2), '\\n', 'Last 10 point average =', round(last_rolling_price, 2))\n",
    "print(\" Percentage difference in rolling price:\", percent_diff, '%')"
   ]
  },
  {
   "cell_type": "code",
   "execution_count": 70,
   "metadata": {},
   "outputs": [
    {
     "name": "stdout",
     "output_type": "stream",
     "text": [
      " First 10 point average = 7.9 \n",
      " Last 10 point average = 9.9\n",
      " Percentage difference in rolling price: 25.32 %\n"
     ]
    }
   ],
   "source": [
    "first_valid_index_Amount = total_df['Rolling Amount'].first_valid_index()\n",
    "first_rolling_Amount = total_df['Rolling Amount'].loc[first_valid_index_Amount]\n",
    "last_rolling_Amount = total_df['Rolling Amount'].iloc[-1]\n",
    "percent_diff_Amount = round(((last_rolling_Amount - first_rolling_Amount) / first_rolling_Amount) * 100, 2)\n",
    "\n",
    "print(' First 10 point average =', round(first_rolling_Amount, 2), '\\n', 'Last 10 point average =', round(last_rolling_Amount, 2))\n",
    "print(\" Percentage difference in rolling price:\", percent_diff_Amount, '%')"
   ]
  },
  {
   "attachments": {},
   "cell_type": "markdown",
   "metadata": {},
   "source": [
    "## Meest voorkomende producten"
   ]
  },
  {
   "cell_type": "code",
   "execution_count": 11,
   "metadata": {},
   "outputs": [],
   "source": [
    "most_common = test.groupby('Product')['Product'].count()"
   ]
  },
  {
   "cell_type": "code",
   "execution_count": 12,
   "metadata": {},
   "outputs": [],
   "source": [
    "df_grouped = test.groupby('Product').agg({'Amount': 'sum', 'Product': 'size'})\n",
    "df_grouped = df_grouped.rename(columns={'Product':'Count'})\n",
    "df_grouped = df_grouped.reset_index(drop=False)\n",
    "df_grouped = df_grouped.sort_values(by='Count', ascending=False)"
   ]
  },
  {
   "cell_type": "code",
   "execution_count": 13,
   "metadata": {},
   "outputs": [
    {
     "data": {
      "text/html": [
       "<div>\n",
       "<style scoped>\n",
       "    .dataframe tbody tr th:only-of-type {\n",
       "        vertical-align: middle;\n",
       "    }\n",
       "\n",
       "    .dataframe tbody tr th {\n",
       "        vertical-align: top;\n",
       "    }\n",
       "\n",
       "    .dataframe thead th {\n",
       "        text-align: right;\n",
       "    }\n",
       "</style>\n",
       "<table border=\"1\" class=\"dataframe\">\n",
       "  <thead>\n",
       "    <tr style=\"text-align: right;\">\n",
       "      <th></th>\n",
       "      <th>Product</th>\n",
       "      <th>Amount</th>\n",
       "      <th>Count</th>\n",
       "    </tr>\n",
       "  </thead>\n",
       "  <tbody>\n",
       "    <tr>\n",
       "      <th>458</th>\n",
       "      <td>SUBTOTAAL</td>\n",
       "      <td>1832.000</td>\n",
       "      <td>171</td>\n",
       "    </tr>\n",
       "    <tr>\n",
       "      <th>362</th>\n",
       "      <td>OETKER PIZZA</td>\n",
       "      <td>63.000</td>\n",
       "      <td>63</td>\n",
       "    </tr>\n",
       "    <tr>\n",
       "      <th>393</th>\n",
       "      <td>PICKWICK</td>\n",
       "      <td>45.000</td>\n",
       "      <td>45</td>\n",
       "    </tr>\n",
       "    <tr>\n",
       "      <th>263</th>\n",
       "      <td>HK CROISSANT</td>\n",
       "      <td>42.000</td>\n",
       "      <td>42</td>\n",
       "    </tr>\n",
       "    <tr>\n",
       "      <th>516</th>\n",
       "      <td>ZAANS BRUIN</td>\n",
       "      <td>39.000</td>\n",
       "      <td>39</td>\n",
       "    </tr>\n",
       "    <tr>\n",
       "      <th>470</th>\n",
       "      <td>TIJGER WIT</td>\n",
       "      <td>36.000</td>\n",
       "      <td>36</td>\n",
       "    </tr>\n",
       "    <tr>\n",
       "      <th>144</th>\n",
       "      <td>BANANEN</td>\n",
       "      <td>26.697</td>\n",
       "      <td>30</td>\n",
       "    </tr>\n",
       "    <tr>\n",
       "      <th>328</th>\n",
       "      <td>LAY'S OVEN B</td>\n",
       "      <td>30.000</td>\n",
       "      <td>30</td>\n",
       "    </tr>\n",
       "    <tr>\n",
       "      <th>189</th>\n",
       "      <td>CUP A SOUP</td>\n",
       "      <td>26.000</td>\n",
       "      <td>26</td>\n",
       "    </tr>\n",
       "    <tr>\n",
       "      <th>197</th>\n",
       "      <td>DORITOS</td>\n",
       "      <td>25.000</td>\n",
       "      <td>25</td>\n",
       "    </tr>\n",
       "    <tr>\n",
       "      <th>17</th>\n",
       "      <td>AH CHOCO</td>\n",
       "      <td>24.000</td>\n",
       "      <td>24</td>\n",
       "    </tr>\n",
       "    <tr>\n",
       "      <th>85</th>\n",
       "      <td>AH MEGA MIX</td>\n",
       "      <td>22.000</td>\n",
       "      <td>22</td>\n",
       "    </tr>\n",
       "    <tr>\n",
       "      <th>459</th>\n",
       "      <td>SUIKER KL</td>\n",
       "      <td>22.000</td>\n",
       "      <td>22</td>\n",
       "    </tr>\n",
       "    <tr>\n",
       "      <th>42</th>\n",
       "      <td>AH HAMBURGER</td>\n",
       "      <td>21.000</td>\n",
       "      <td>21</td>\n",
       "    </tr>\n",
       "    <tr>\n",
       "      <th>333</th>\n",
       "      <td>LAY’S OVEN B</td>\n",
       "      <td>20.000</td>\n",
       "      <td>20</td>\n",
       "    </tr>\n",
       "    <tr>\n",
       "      <th>21</th>\n",
       "      <td>AH DJOEZZ</td>\n",
       "      <td>20.000</td>\n",
       "      <td>20</td>\n",
       "    </tr>\n",
       "    <tr>\n",
       "      <th>48</th>\n",
       "      <td>AH ICETEA</td>\n",
       "      <td>19.000</td>\n",
       "      <td>19</td>\n",
       "    </tr>\n",
       "    <tr>\n",
       "      <th>79</th>\n",
       "      <td>AH KRUIDNTN</td>\n",
       "      <td>18.000</td>\n",
       "      <td>18</td>\n",
       "    </tr>\n",
       "    <tr>\n",
       "      <th>318</th>\n",
       "      <td>KOMKOMMER</td>\n",
       "      <td>17.000</td>\n",
       "      <td>17</td>\n",
       "    </tr>\n",
       "    <tr>\n",
       "      <th>468</th>\n",
       "      <td>TIJGER BRUIN</td>\n",
       "      <td>17.000</td>\n",
       "      <td>17</td>\n",
       "    </tr>\n",
       "    <tr>\n",
       "      <th>165</th>\n",
       "      <td>CHAMPIGNONS</td>\n",
       "      <td>16.000</td>\n",
       "      <td>16</td>\n",
       "    </tr>\n",
       "    <tr>\n",
       "      <th>208</th>\n",
       "      <td>DZH CREME FR</td>\n",
       "      <td>15.000</td>\n",
       "      <td>15</td>\n",
       "    </tr>\n",
       "    <tr>\n",
       "      <th>480</th>\n",
       "      <td>TUC CREAM</td>\n",
       "      <td>15.000</td>\n",
       "      <td>15</td>\n",
       "    </tr>\n",
       "    <tr>\n",
       "      <th>518</th>\n",
       "      <td>ZAANSE HOEVE</td>\n",
       "      <td>14.000</td>\n",
       "      <td>14</td>\n",
       "    </tr>\n",
       "    <tr>\n",
       "      <th>38</th>\n",
       "      <td>AH GRATIN</td>\n",
       "      <td>14.000</td>\n",
       "      <td>14</td>\n",
       "    </tr>\n",
       "    <tr>\n",
       "      <th>107</th>\n",
       "      <td>AH RUCOLA</td>\n",
       "      <td>14.000</td>\n",
       "      <td>14</td>\n",
       "    </tr>\n",
       "    <tr>\n",
       "      <th>481</th>\n",
       "      <td>TUC PAPRIKA</td>\n",
       "      <td>14.000</td>\n",
       "      <td>14</td>\n",
       "    </tr>\n",
       "    <tr>\n",
       "      <th>219</th>\n",
       "      <td>FILET AMERIC</td>\n",
       "      <td>13.000</td>\n",
       "      <td>13</td>\n",
       "    </tr>\n",
       "    <tr>\n",
       "      <th>62</th>\n",
       "      <td>AH KIP</td>\n",
       "      <td>13.000</td>\n",
       "      <td>13</td>\n",
       "    </tr>\n",
       "    <tr>\n",
       "      <th>371</th>\n",
       "      <td>PAPRIKA</td>\n",
       "      <td>13.000</td>\n",
       "      <td>13</td>\n",
       "    </tr>\n",
       "  </tbody>\n",
       "</table>\n",
       "</div>"
      ],
      "text/plain": [
       "          Product    Amount  Count\n",
       "458     SUBTOTAAL  1832.000    171\n",
       "362  OETKER PIZZA    63.000     63\n",
       "393      PICKWICK    45.000     45\n",
       "263  HK CROISSANT    42.000     42\n",
       "516   ZAANS BRUIN    39.000     39\n",
       "470    TIJGER WIT    36.000     36\n",
       "144       BANANEN    26.697     30\n",
       "328  LAY'S OVEN B    30.000     30\n",
       "189    CUP A SOUP    26.000     26\n",
       "197       DORITOS    25.000     25\n",
       "17       AH CHOCO    24.000     24\n",
       "85    AH MEGA MIX    22.000     22\n",
       "459     SUIKER KL    22.000     22\n",
       "42   AH HAMBURGER    21.000     21\n",
       "333  LAY’S OVEN B    20.000     20\n",
       "21      AH DJOEZZ    20.000     20\n",
       "48      AH ICETEA    19.000     19\n",
       "79    AH KRUIDNTN    18.000     18\n",
       "318     KOMKOMMER    17.000     17\n",
       "468  TIJGER BRUIN    17.000     17\n",
       "165   CHAMPIGNONS    16.000     16\n",
       "208  DZH CREME FR    15.000     15\n",
       "480     TUC CREAM    15.000     15\n",
       "518  ZAANSE HOEVE    14.000     14\n",
       "38      AH GRATIN    14.000     14\n",
       "107     AH RUCOLA    14.000     14\n",
       "481   TUC PAPRIKA    14.000     14\n",
       "219  FILET AMERIC    13.000     13\n",
       "62         AH KIP    13.000     13\n",
       "371       PAPRIKA    13.000     13"
      ]
     },
     "execution_count": 13,
     "metadata": {},
     "output_type": "execute_result"
    }
   ],
   "source": [
    "df_grouped.head(30)"
   ]
  },
  {
   "attachments": {},
   "cell_type": "markdown",
   "metadata": {},
   "source": [
    "# Individual product graphs"
   ]
  },
  {
   "cell_type": "code",
   "execution_count": 39,
   "metadata": {},
   "outputs": [],
   "source": [
    "def graph_maker(df, product_name, rolling_amount=5):\n",
    "    df = df[df['Product'] == product_name]\n",
    "    # Calculate rolling mean for Price column\n",
    "    df['Rolling Mean'] = df['Price'].rolling(window=rolling_amount).mean()\n",
    "    fig = px.bar(df, x='Date', y=['Price', 'Rolling Mean'], title=f'Price for {product_name} over Time')\n",
    "    fig.update_traces(line=dict(width=2)) # Adjust line width\n",
    "    return fig"
   ]
  },
  {
   "cell_type": "code",
   "execution_count": 40,
   "metadata": {},
   "outputs": [
    {
     "ename": "ValueError",
     "evalue": "Invalid property specified for object of type plotly.graph_objs.Bar: 'line'\n\nDid you mean \"base\"?\n\n    Valid properties:\n        alignmentgroup\n            Set several traces linked to the same position axis or\n            matching axes to the same alignmentgroup. This controls\n            whether bars compute their positional range dependently\n            or independently.\n        base\n            Sets where the bar base is drawn (in position axis\n            units). In \"stack\" or \"relative\" barmode, traces that\n            set \"base\" will be excluded and drawn in \"overlay\" mode\n            instead.\n        basesrc\n            Sets the source reference on Chart Studio Cloud for\n            base .\n        cliponaxis\n            Determines whether the text nodes are clipped about the\n            subplot axes. To show the text nodes above axis lines\n            and tick labels, make sure to set `xaxis.layer` and\n            `yaxis.layer` to *below traces*.\n        constraintext\n            Constrain the size of text inside or outside a bar to\n            be no larger than the bar itself.\n        customdata\n            Assigns extra data each datum. This may be useful when\n            listening to hover, click and selection events. Note\n            that, \"scatter\" traces also appends customdata items in\n            the markers DOM elements\n        customdatasrc\n            Sets the source reference on Chart Studio Cloud for\n            customdata .\n        dx\n            Sets the x coordinate step. See `x0` for more info.\n        dy\n            Sets the y coordinate step. See `y0` for more info.\n        error_x\n            :class:`plotly.graph_objects.bar.ErrorX` instance or\n            dict with compatible properties\n        error_y\n            :class:`plotly.graph_objects.bar.ErrorY` instance or\n            dict with compatible properties\n        hoverinfo\n            Determines which trace information appear on hover. If\n            `none` or `skip` are set, no information is displayed\n            upon hovering. But, if `none` is set, click and hover\n            events are still fired.\n        hoverinfosrc\n            Sets the source reference on Chart Studio Cloud for\n            hoverinfo .\n        hoverlabel\n            :class:`plotly.graph_objects.bar.Hoverlabel` instance\n            or dict with compatible properties\n        hovertemplate\n            Template string used for rendering the information that\n            appear on hover box. Note that this will override\n            `hoverinfo`. Variables are inserted using %{variable},\n            for example \"y: %{y}\" as well as %{xother}, {%_xother},\n            {%_xother_}, {%xother_}. When showing info for several\n            points, \"xother\" will be added to those with different\n            x positions from the first point. An underscore before\n            or after \"(x|y)other\" will add a space on that side,\n            only when this field is shown. Numbers are formatted\n            using d3-format's syntax %{variable:d3-format}, for\n            example \"Price: %{y:$.2f}\".\n            https://github.com/d3/d3-3.x-api-\n            reference/blob/master/Formatting.md#d3_format for\n            details on the formatting syntax. Dates are formatted\n            using d3-time-format's syntax %{variable|d3-time-\n            format}, for example \"Day: %{2019-01-01|%A}\".\n            https://github.com/d3/d3-time-format#locale_format for\n            details on the date formatting syntax. The variables\n            available in `hovertemplate` are the ones emitted as\n            event data described at this link\n            https://plotly.com/javascript/plotlyjs-events/#event-\n            data. Additionally, every attributes that can be\n            specified per-point (the ones that are `arrayOk: true`)\n            are available. variables `value` and `label`. Anything\n            contained in tag `<extra>` is displayed in the\n            secondary box, for example\n            \"<extra>{fullData.name}</extra>\". To hide the secondary\n            box completely, use an empty tag `<extra></extra>`.\n        hovertemplatesrc\n            Sets the source reference on Chart Studio Cloud for\n            hovertemplate .\n        hovertext\n            Sets hover text elements associated with each (x,y)\n            pair. If a single string, the same string appears over\n            all the data points. If an array of string, the items\n            are mapped in order to the this trace's (x,y)\n            coordinates. To be seen, trace `hoverinfo` must contain\n            a \"text\" flag.\n        hovertextsrc\n            Sets the source reference on Chart Studio Cloud for\n            hovertext .\n        ids\n            Assigns id labels to each datum. These ids for object\n            constancy of data points during animation. Should be an\n            array of strings, not numbers or any other type.\n        idssrc\n            Sets the source reference on Chart Studio Cloud for\n            ids .\n        insidetextanchor\n            Determines if texts are kept at center or start/end\n            points in `textposition` \"inside\" mode.\n        insidetextfont\n            Sets the font used for `text` lying inside the bar.\n        legendgroup\n            Sets the legend group for this trace. Traces part of\n            the same legend group hide/show at the same time when\n            toggling legend items.\n        legendgrouptitle\n            :class:`plotly.graph_objects.bar.Legendgrouptitle`\n            instance or dict with compatible properties\n        legendrank\n            Sets the legend rank for this trace. Items and groups\n            with smaller ranks are presented on top/left side while\n            with `*reversed* `legend.traceorder` they are on\n            bottom/right side. The default legendrank is 1000, so\n            that you can use ranks less than 1000 to place certain\n            items before all unranked items, and ranks greater than\n            1000 to go after all unranked items.\n        marker\n            :class:`plotly.graph_objects.bar.Marker` instance or\n            dict with compatible properties\n        meta\n            Assigns extra meta information associated with this\n            trace that can be used in various text attributes.\n            Attributes such as trace `name`, graph, axis and\n            colorbar `title.text`, annotation `text`\n            `rangeselector`, `updatemenues` and `sliders` `label`\n            text all support `meta`. To access the trace `meta`\n            values in an attribute in the same trace, simply use\n            `%{meta[i]}` where `i` is the index or key of the\n            `meta` item in question. To access trace `meta` in\n            layout attributes, use `%{data[n[.meta[i]}` where `i`\n            is the index or key of the `meta` and `n` is the trace\n            index.\n        metasrc\n            Sets the source reference on Chart Studio Cloud for\n            meta .\n        name\n            Sets the trace name. The trace name appear as the\n            legend item and on hover.\n        offset\n            Shifts the position where the bar is drawn (in position\n            axis units). In \"group\" barmode, traces that set\n            \"offset\" will be excluded and drawn in \"overlay\" mode\n            instead.\n        offsetgroup\n            Set several traces linked to the same position axis or\n            matching axes to the same offsetgroup where bars of the\n            same position coordinate will line up.\n        offsetsrc\n            Sets the source reference on Chart Studio Cloud for\n            offset .\n        opacity\n            Sets the opacity of the trace.\n        orientation\n            Sets the orientation of the bars. With \"v\" (\"h\"), the\n            value of the each bar spans along the vertical\n            (horizontal).\n        outsidetextfont\n            Sets the font used for `text` lying outside the bar.\n        selected\n            :class:`plotly.graph_objects.bar.Selected` instance or\n            dict with compatible properties\n        selectedpoints\n            Array containing integer indices of selected points.\n            Has an effect only for traces that support selections.\n            Note that an empty array means an empty selection where\n            the `unselected` are turned on for all points, whereas,\n            any other non-array values means no selection all where\n            the `selected` and `unselected` styles have no effect.\n        showlegend\n            Determines whether or not an item corresponding to this\n            trace is shown in the legend.\n        stream\n            :class:`plotly.graph_objects.bar.Stream` instance or\n            dict with compatible properties\n        text\n            Sets text elements associated with each (x,y) pair. If\n            a single string, the same string appears over all the\n            data points. If an array of string, the items are\n            mapped in order to the this trace's (x,y) coordinates.\n            If trace `hoverinfo` contains a \"text\" flag and\n            \"hovertext\" is not set, these elements will be seen in\n            the hover labels.\n        textangle\n            Sets the angle of the tick labels with respect to the\n            bar. For example, a `tickangle` of -90 draws the tick\n            labels vertically. With \"auto\" the texts may\n            automatically be rotated to fit with the maximum size\n            in bars.\n        textfont\n            Sets the font used for `text`.\n        textposition\n            Specifies the location of the `text`. \"inside\"\n            positions `text` inside, next to the bar end (rotated\n            and scaled if needed). \"outside\" positions `text`\n            outside, next to the bar end (scaled if needed), unless\n            there is another bar stacked on this one, then the text\n            gets pushed inside. \"auto\" tries to position `text`\n            inside the bar, but if the bar is too small and no bar\n            is stacked on this one the text is moved outside. If\n            \"none\", no text appears.\n        textpositionsrc\n            Sets the source reference on Chart Studio Cloud for\n            textposition .\n        textsrc\n            Sets the source reference on Chart Studio Cloud for\n            text .\n        texttemplate\n            Template string used for rendering the information text\n            that appear on points. Note that this will override\n            `textinfo`. Variables are inserted using %{variable},\n            for example \"y: %{y}\". Numbers are formatted using\n            d3-format's syntax %{variable:d3-format}, for example\n            \"Price: %{y:$.2f}\". https://github.com/d3/d3-3.x-api-\n            reference/blob/master/Formatting.md#d3_format for\n            details on the formatting syntax. Dates are formatted\n            using d3-time-format's syntax %{variable|d3-time-\n            format}, for example \"Day: %{2019-01-01|%A}\".\n            https://github.com/d3/d3-time-format#locale_format for\n            details on the date formatting syntax. Every attributes\n            that can be specified per-point (the ones that are\n            `arrayOk: true`) are available. variables `value` and\n            `label`.\n        texttemplatesrc\n            Sets the source reference on Chart Studio Cloud for\n            texttemplate .\n        uid\n            Assign an id to this trace, Use this to provide object\n            constancy between traces during animations and\n            transitions.\n        uirevision\n            Controls persistence of some user-driven changes to the\n            trace: `constraintrange` in `parcoords` traces, as well\n            as some `editable: true` modifications such as `name`\n            and `colorbar.title`. Defaults to `layout.uirevision`.\n            Note that other user-driven trace attribute changes are\n            controlled by `layout` attributes: `trace.visible` is\n            controlled by `layout.legend.uirevision`,\n            `selectedpoints` is controlled by\n            `layout.selectionrevision`, and `colorbar.(x|y)`\n            (accessible with `config: {editable: true}`) is\n            controlled by `layout.editrevision`. Trace changes are\n            tracked by `uid`, which only falls back on trace index\n            if no `uid` is provided. So if your app can add/remove\n            traces before the end of the `data` array, such that\n            the same trace has a different index, you can still\n            preserve user-driven changes if you give each trace a\n            `uid` that stays with it as it moves.\n        unselected\n            :class:`plotly.graph_objects.bar.Unselected` instance\n            or dict with compatible properties\n        visible\n            Determines whether or not this trace is visible. If\n            \"legendonly\", the trace is not drawn, but can appear as\n            a legend item (provided that the legend itself is\n            visible).\n        width\n            Sets the bar width (in position axis units).\n        widthsrc\n            Sets the source reference on Chart Studio Cloud for\n            width .\n        x\n            Sets the x coordinates.\n        x0\n            Alternate to `x`. Builds a linear space of x\n            coordinates. Use with `dx` where `x0` is the starting\n            coordinate and `dx` the step.\n        xaxis\n            Sets a reference between this trace's x coordinates and\n            a 2D cartesian x axis. If \"x\" (the default value), the\n            x coordinates refer to `layout.xaxis`. If \"x2\", the x\n            coordinates refer to `layout.xaxis2`, and so on.\n        xcalendar\n            Sets the calendar system to use with `x` date data.\n        xhoverformat\n            Sets the hover text formatting rulefor `x`  using d3\n            formatting mini-languages which are very similar to\n            those in Python. For numbers, see:\n            https://github.com/d3/d3-3.x-api-\n            reference/blob/master/Formatting.md#d3_format. And for\n            dates see: https://github.com/d3/d3-time-\n            format#locale_format. We add two items to d3's date\n            formatter: \"%h\" for half of the year as a decimal\n            number as well as \"%{n}f\" for fractional seconds with n\n            digits. For example, *2016-10-13 09:15:23.456* with\n            tickformat \"%H~%M~%S.%2f\" would display *09~15~23.46*By\n            default the values are formatted using\n            `xaxis.hoverformat`.\n        xperiod\n            Only relevant when the axis `type` is \"date\". Sets the\n            period positioning in milliseconds or \"M<n>\" on the x\n            axis. Special values in the form of \"M<n>\" could be\n            used to declare the number of months. In this case `n`\n            must be a positive integer.\n        xperiod0\n            Only relevant when the axis `type` is \"date\". Sets the\n            base for period positioning in milliseconds or date\n            string on the x0 axis. When `x0period` is round number\n            of weeks, the `x0period0` by default would be on a\n            Sunday i.e. 2000-01-02, otherwise it would be at\n            2000-01-01.\n        xperiodalignment\n            Only relevant when the axis `type` is \"date\". Sets the\n            alignment of data points on the x axis.\n        xsrc\n            Sets the source reference on Chart Studio Cloud for  x\n            .\n        y\n            Sets the y coordinates.\n        y0\n            Alternate to `y`. Builds a linear space of y\n            coordinates. Use with `dy` where `y0` is the starting\n            coordinate and `dy` the step.\n        yaxis\n            Sets a reference between this trace's y coordinates and\n            a 2D cartesian y axis. If \"y\" (the default value), the\n            y coordinates refer to `layout.yaxis`. If \"y2\", the y\n            coordinates refer to `layout.yaxis2`, and so on.\n        ycalendar\n            Sets the calendar system to use with `y` date data.\n        yhoverformat\n            Sets the hover text formatting rulefor `y`  using d3\n            formatting mini-languages which are very similar to\n            those in Python. For numbers, see:\n            https://github.com/d3/d3-3.x-api-\n            reference/blob/master/Formatting.md#d3_format. And for\n            dates see: https://github.com/d3/d3-time-\n            format#locale_format. We add two items to d3's date\n            formatter: \"%h\" for half of the year as a decimal\n            number as well as \"%{n}f\" for fractional seconds with n\n            digits. For example, *2016-10-13 09:15:23.456* with\n            tickformat \"%H~%M~%S.%2f\" would display *09~15~23.46*By\n            default the values are formatted using\n            `yaxis.hoverformat`.\n        yperiod\n            Only relevant when the axis `type` is \"date\". Sets the\n            period positioning in milliseconds or \"M<n>\" on the y\n            axis. Special values in the form of \"M<n>\" could be\n            used to declare the number of months. In this case `n`\n            must be a positive integer.\n        yperiod0\n            Only relevant when the axis `type` is \"date\". Sets the\n            base for period positioning in milliseconds or date\n            string on the y0 axis. When `y0period` is round number\n            of weeks, the `y0period0` by default would be on a\n            Sunday i.e. 2000-01-02, otherwise it would be at\n            2000-01-01.\n        yperiodalignment\n            Only relevant when the axis `type` is \"date\". Sets the\n            alignment of data points on the y axis.\n        ysrc\n            Sets the source reference on Chart Studio Cloud for  y\n            .\n        \nDid you mean \"base\"?\n\nBad property path:\nline\n^^^^",
     "output_type": "error",
     "traceback": [
      "\u001b[1;31m---------------------------------------------------------------------------\u001b[0m",
      "\u001b[1;31mValueError\u001b[0m                                Traceback (most recent call last)",
      "\u001b[1;32m~\\AppData\\Local\\Temp/ipykernel_30388/1376671941.py\u001b[0m in \u001b[0;36m<module>\u001b[1;34m\u001b[0m\n\u001b[1;32m----> 1\u001b[1;33m \u001b[0mgraph_maker\u001b[0m\u001b[1;33m(\u001b[0m\u001b[0mtest\u001b[0m\u001b[1;33m,\u001b[0m \u001b[1;34m'DORITOS'\u001b[0m\u001b[1;33m)\u001b[0m\u001b[1;33m\u001b[0m\u001b[1;33m\u001b[0m\u001b[0m\n\u001b[0m",
      "\u001b[1;32m~\\AppData\\Local\\Temp/ipykernel_30388/4031696624.py\u001b[0m in \u001b[0;36mgraph_maker\u001b[1;34m(df, product_name, rolling_amount)\u001b[0m\n\u001b[0;32m      4\u001b[0m     \u001b[0mdf\u001b[0m\u001b[1;33m[\u001b[0m\u001b[1;34m'Rolling Mean'\u001b[0m\u001b[1;33m]\u001b[0m \u001b[1;33m=\u001b[0m \u001b[0mdf\u001b[0m\u001b[1;33m[\u001b[0m\u001b[1;34m'Price'\u001b[0m\u001b[1;33m]\u001b[0m\u001b[1;33m.\u001b[0m\u001b[0mrolling\u001b[0m\u001b[1;33m(\u001b[0m\u001b[0mwindow\u001b[0m\u001b[1;33m=\u001b[0m\u001b[0mrolling_amount\u001b[0m\u001b[1;33m)\u001b[0m\u001b[1;33m.\u001b[0m\u001b[0mmean\u001b[0m\u001b[1;33m(\u001b[0m\u001b[1;33m)\u001b[0m\u001b[1;33m\u001b[0m\u001b[1;33m\u001b[0m\u001b[0m\n\u001b[0;32m      5\u001b[0m     \u001b[0mfig\u001b[0m \u001b[1;33m=\u001b[0m \u001b[0mpx\u001b[0m\u001b[1;33m.\u001b[0m\u001b[0mbar\u001b[0m\u001b[1;33m(\u001b[0m\u001b[0mdf\u001b[0m\u001b[1;33m,\u001b[0m \u001b[0mx\u001b[0m\u001b[1;33m=\u001b[0m\u001b[1;34m'Date'\u001b[0m\u001b[1;33m,\u001b[0m \u001b[0my\u001b[0m\u001b[1;33m=\u001b[0m\u001b[1;33m[\u001b[0m\u001b[1;34m'Price'\u001b[0m\u001b[1;33m,\u001b[0m \u001b[1;34m'Rolling Mean'\u001b[0m\u001b[1;33m]\u001b[0m\u001b[1;33m,\u001b[0m \u001b[0mtitle\u001b[0m\u001b[1;33m=\u001b[0m\u001b[1;34mf'Price for {product_name} over Time'\u001b[0m\u001b[1;33m)\u001b[0m\u001b[1;33m\u001b[0m\u001b[1;33m\u001b[0m\u001b[0m\n\u001b[1;32m----> 6\u001b[1;33m     \u001b[0mfig\u001b[0m\u001b[1;33m.\u001b[0m\u001b[0mupdate_traces\u001b[0m\u001b[1;33m(\u001b[0m\u001b[0mline\u001b[0m\u001b[1;33m=\u001b[0m\u001b[0mdict\u001b[0m\u001b[1;33m(\u001b[0m\u001b[0mwidth\u001b[0m\u001b[1;33m=\u001b[0m\u001b[1;36m2\u001b[0m\u001b[1;33m)\u001b[0m\u001b[1;33m)\u001b[0m \u001b[1;31m# Adjust line width\u001b[0m\u001b[1;33m\u001b[0m\u001b[1;33m\u001b[0m\u001b[0m\n\u001b[0m\u001b[0;32m      7\u001b[0m     \u001b[1;32mreturn\u001b[0m \u001b[0mfig\u001b[0m\u001b[1;33m\u001b[0m\u001b[1;33m\u001b[0m\u001b[0m\n",
      "\u001b[1;32mc:\\Users\\rie12\\anaconda3\\envs\\prog\\lib\\site-packages\\plotly\\basedatatypes.py\u001b[0m in \u001b[0;36mupdate_traces\u001b[1;34m(self, patch, selector, row, col, secondary_y, overwrite, **kwargs)\u001b[0m\n\u001b[0;32m   1374\u001b[0m             \u001b[0mselector\u001b[0m\u001b[1;33m=\u001b[0m\u001b[0mselector\u001b[0m\u001b[1;33m,\u001b[0m \u001b[0mrow\u001b[0m\u001b[1;33m=\u001b[0m\u001b[0mrow\u001b[0m\u001b[1;33m,\u001b[0m \u001b[0mcol\u001b[0m\u001b[1;33m=\u001b[0m\u001b[0mcol\u001b[0m\u001b[1;33m,\u001b[0m \u001b[0msecondary_y\u001b[0m\u001b[1;33m=\u001b[0m\u001b[0msecondary_y\u001b[0m\u001b[1;33m\u001b[0m\u001b[1;33m\u001b[0m\u001b[0m\n\u001b[0;32m   1375\u001b[0m         ):\n\u001b[1;32m-> 1376\u001b[1;33m             \u001b[0mtrace\u001b[0m\u001b[1;33m.\u001b[0m\u001b[0mupdate\u001b[0m\u001b[1;33m(\u001b[0m\u001b[0mpatch\u001b[0m\u001b[1;33m,\u001b[0m \u001b[0moverwrite\u001b[0m\u001b[1;33m=\u001b[0m\u001b[0moverwrite\u001b[0m\u001b[1;33m,\u001b[0m \u001b[1;33m**\u001b[0m\u001b[0mkwargs\u001b[0m\u001b[1;33m)\u001b[0m\u001b[1;33m\u001b[0m\u001b[1;33m\u001b[0m\u001b[0m\n\u001b[0m\u001b[0;32m   1377\u001b[0m         \u001b[1;32mreturn\u001b[0m \u001b[0mself\u001b[0m\u001b[1;33m\u001b[0m\u001b[1;33m\u001b[0m\u001b[0m\n\u001b[0;32m   1378\u001b[0m \u001b[1;33m\u001b[0m\u001b[0m\n",
      "\u001b[1;32mc:\\Users\\rie12\\anaconda3\\envs\\prog\\lib\\site-packages\\plotly\\basedatatypes.py\u001b[0m in \u001b[0;36mupdate\u001b[1;34m(self, dict1, overwrite, **kwargs)\u001b[0m\n\u001b[0;32m   5080\u001b[0m             \u001b[1;32mwith\u001b[0m \u001b[0mself\u001b[0m\u001b[1;33m.\u001b[0m\u001b[0mfigure\u001b[0m\u001b[1;33m.\u001b[0m\u001b[0mbatch_update\u001b[0m\u001b[1;33m(\u001b[0m\u001b[1;33m)\u001b[0m\u001b[1;33m:\u001b[0m\u001b[1;33m\u001b[0m\u001b[1;33m\u001b[0m\u001b[0m\n\u001b[0;32m   5081\u001b[0m                 \u001b[0mBaseFigure\u001b[0m\u001b[1;33m.\u001b[0m\u001b[0m_perform_update\u001b[0m\u001b[1;33m(\u001b[0m\u001b[0mself\u001b[0m\u001b[1;33m,\u001b[0m \u001b[0mdict1\u001b[0m\u001b[1;33m,\u001b[0m \u001b[0moverwrite\u001b[0m\u001b[1;33m=\u001b[0m\u001b[0moverwrite\u001b[0m\u001b[1;33m)\u001b[0m\u001b[1;33m\u001b[0m\u001b[1;33m\u001b[0m\u001b[0m\n\u001b[1;32m-> 5082\u001b[1;33m                 \u001b[0mBaseFigure\u001b[0m\u001b[1;33m.\u001b[0m\u001b[0m_perform_update\u001b[0m\u001b[1;33m(\u001b[0m\u001b[0mself\u001b[0m\u001b[1;33m,\u001b[0m \u001b[0mkwargs\u001b[0m\u001b[1;33m,\u001b[0m \u001b[0moverwrite\u001b[0m\u001b[1;33m=\u001b[0m\u001b[0moverwrite\u001b[0m\u001b[1;33m)\u001b[0m\u001b[1;33m\u001b[0m\u001b[1;33m\u001b[0m\u001b[0m\n\u001b[0m\u001b[0;32m   5083\u001b[0m         \u001b[1;32melse\u001b[0m\u001b[1;33m:\u001b[0m\u001b[1;33m\u001b[0m\u001b[1;33m\u001b[0m\u001b[0m\n\u001b[0;32m   5084\u001b[0m             \u001b[0mBaseFigure\u001b[0m\u001b[1;33m.\u001b[0m\u001b[0m_perform_update\u001b[0m\u001b[1;33m(\u001b[0m\u001b[0mself\u001b[0m\u001b[1;33m,\u001b[0m \u001b[0mdict1\u001b[0m\u001b[1;33m,\u001b[0m \u001b[0moverwrite\u001b[0m\u001b[1;33m=\u001b[0m\u001b[0moverwrite\u001b[0m\u001b[1;33m)\u001b[0m\u001b[1;33m\u001b[0m\u001b[1;33m\u001b[0m\u001b[0m\n",
      "\u001b[1;32mc:\\Users\\rie12\\anaconda3\\envs\\prog\\lib\\site-packages\\plotly\\basedatatypes.py\u001b[0m in \u001b[0;36m_perform_update\u001b[1;34m(plotly_obj, update_obj, overwrite)\u001b[0m\n\u001b[0;32m   3875\u001b[0m                     \u001b[1;31m# contain the _raise_on_invalid_property_error\u001b[0m\u001b[1;33m\u001b[0m\u001b[1;33m\u001b[0m\u001b[0m\n\u001b[0;32m   3876\u001b[0m                     \u001b[1;31m# generated message\u001b[0m\u001b[1;33m\u001b[0m\u001b[1;33m\u001b[0m\u001b[0m\n\u001b[1;32m-> 3877\u001b[1;33m                     \u001b[1;32mraise\u001b[0m \u001b[0merr\u001b[0m\u001b[1;33m\u001b[0m\u001b[1;33m\u001b[0m\u001b[0m\n\u001b[0m\u001b[0;32m   3878\u001b[0m \u001b[1;33m\u001b[0m\u001b[0m\n\u001b[0;32m   3879\u001b[0m             \u001b[1;31m# Convert update_obj to dict\u001b[0m\u001b[1;33m\u001b[0m\u001b[1;33m\u001b[0m\u001b[0m\n",
      "\u001b[1;31mValueError\u001b[0m: Invalid property specified for object of type plotly.graph_objs.Bar: 'line'\n\nDid you mean \"base\"?\n\n    Valid properties:\n        alignmentgroup\n            Set several traces linked to the same position axis or\n            matching axes to the same alignmentgroup. This controls\n            whether bars compute their positional range dependently\n            or independently.\n        base\n            Sets where the bar base is drawn (in position axis\n            units). In \"stack\" or \"relative\" barmode, traces that\n            set \"base\" will be excluded and drawn in \"overlay\" mode\n            instead.\n        basesrc\n            Sets the source reference on Chart Studio Cloud for\n            base .\n        cliponaxis\n            Determines whether the text nodes are clipped about the\n            subplot axes. To show the text nodes above axis lines\n            and tick labels, make sure to set `xaxis.layer` and\n            `yaxis.layer` to *below traces*.\n        constraintext\n            Constrain the size of text inside or outside a bar to\n            be no larger than the bar itself.\n        customdata\n            Assigns extra data each datum. This may be useful when\n            listening to hover, click and selection events. Note\n            that, \"scatter\" traces also appends customdata items in\n            the markers DOM elements\n        customdatasrc\n            Sets the source reference on Chart Studio Cloud for\n            customdata .\n        dx\n            Sets the x coordinate step. See `x0` for more info.\n        dy\n            Sets the y coordinate step. See `y0` for more info.\n        error_x\n            :class:`plotly.graph_objects.bar.ErrorX` instance or\n            dict with compatible properties\n        error_y\n            :class:`plotly.graph_objects.bar.ErrorY` instance or\n            dict with compatible properties\n        hoverinfo\n            Determines which trace information appear on hover. If\n            `none` or `skip` are set, no information is displayed\n            upon hovering. But, if `none` is set, click and hover\n            events are still fired.\n        hoverinfosrc\n            Sets the source reference on Chart Studio Cloud for\n            hoverinfo .\n        hoverlabel\n            :class:`plotly.graph_objects.bar.Hoverlabel` instance\n            or dict with compatible properties\n        hovertemplate\n            Template string used for rendering the information that\n            appear on hover box. Note that this will override\n            `hoverinfo`. Variables are inserted using %{variable},\n            for example \"y: %{y}\" as well as %{xother}, {%_xother},\n            {%_xother_}, {%xother_}. When showing info for several\n            points, \"xother\" will be added to those with different\n            x positions from the first point. An underscore before\n            or after \"(x|y)other\" will add a space on that side,\n            only when this field is shown. Numbers are formatted\n            using d3-format's syntax %{variable:d3-format}, for\n            example \"Price: %{y:$.2f}\".\n            https://github.com/d3/d3-3.x-api-\n            reference/blob/master/Formatting.md#d3_format for\n            details on the formatting syntax. Dates are formatted\n            using d3-time-format's syntax %{variable|d3-time-\n            format}, for example \"Day: %{2019-01-01|%A}\".\n            https://github.com/d3/d3-time-format#locale_format for\n            details on the date formatting syntax. The variables\n            available in `hovertemplate` are the ones emitted as\n            event data described at this link\n            https://plotly.com/javascript/plotlyjs-events/#event-\n            data. Additionally, every attributes that can be\n            specified per-point (the ones that are `arrayOk: true`)\n            are available. variables `value` and `label`. Anything\n            contained in tag `<extra>` is displayed in the\n            secondary box, for example\n            \"<extra>{fullData.name}</extra>\". To hide the secondary\n            box completely, use an empty tag `<extra></extra>`.\n        hovertemplatesrc\n            Sets the source reference on Chart Studio Cloud for\n            hovertemplate .\n        hovertext\n            Sets hover text elements associated with each (x,y)\n            pair. If a single string, the same string appears over\n            all the data points. If an array of string, the items\n            are mapped in order to the this trace's (x,y)\n            coordinates. To be seen, trace `hoverinfo` must contain\n            a \"text\" flag.\n        hovertextsrc\n            Sets the source reference on Chart Studio Cloud for\n            hovertext .\n        ids\n            Assigns id labels to each datum. These ids for object\n            constancy of data points during animation. Should be an\n            array of strings, not numbers or any other type.\n        idssrc\n            Sets the source reference on Chart Studio Cloud for\n            ids .\n        insidetextanchor\n            Determines if texts are kept at center or start/end\n            points in `textposition` \"inside\" mode.\n        insidetextfont\n            Sets the font used for `text` lying inside the bar.\n        legendgroup\n            Sets the legend group for this trace. Traces part of\n            the same legend group hide/show at the same time when\n            toggling legend items.\n        legendgrouptitle\n            :class:`plotly.graph_objects.bar.Legendgrouptitle`\n            instance or dict with compatible properties\n        legendrank\n            Sets the legend rank for this trace. Items and groups\n            with smaller ranks are presented on top/left side while\n            with `*reversed* `legend.traceorder` they are on\n            bottom/right side. The default legendrank is 1000, so\n            that you can use ranks less than 1000 to place certain\n            items before all unranked items, and ranks greater than\n            1000 to go after all unranked items.\n        marker\n            :class:`plotly.graph_objects.bar.Marker` instance or\n            dict with compatible properties\n        meta\n            Assigns extra meta information associated with this\n            trace that can be used in various text attributes.\n            Attributes such as trace `name`, graph, axis and\n            colorbar `title.text`, annotation `text`\n            `rangeselector`, `updatemenues` and `sliders` `label`\n            text all support `meta`. To access the trace `meta`\n            values in an attribute in the same trace, simply use\n            `%{meta[i]}` where `i` is the index or key of the\n            `meta` item in question. To access trace `meta` in\n            layout attributes, use `%{data[n[.meta[i]}` where `i`\n            is the index or key of the `meta` and `n` is the trace\n            index.\n        metasrc\n            Sets the source reference on Chart Studio Cloud for\n            meta .\n        name\n            Sets the trace name. The trace name appear as the\n            legend item and on hover.\n        offset\n            Shifts the position where the bar is drawn (in position\n            axis units). In \"group\" barmode, traces that set\n            \"offset\" will be excluded and drawn in \"overlay\" mode\n            instead.\n        offsetgroup\n            Set several traces linked to the same position axis or\n            matching axes to the same offsetgroup where bars of the\n            same position coordinate will line up.\n        offsetsrc\n            Sets the source reference on Chart Studio Cloud for\n            offset .\n        opacity\n            Sets the opacity of the trace.\n        orientation\n            Sets the orientation of the bars. With \"v\" (\"h\"), the\n            value of the each bar spans along the vertical\n            (horizontal).\n        outsidetextfont\n            Sets the font used for `text` lying outside the bar.\n        selected\n            :class:`plotly.graph_objects.bar.Selected` instance or\n            dict with compatible properties\n        selectedpoints\n            Array containing integer indices of selected points.\n            Has an effect only for traces that support selections.\n            Note that an empty array means an empty selection where\n            the `unselected` are turned on for all points, whereas,\n            any other non-array values means no selection all where\n            the `selected` and `unselected` styles have no effect.\n        showlegend\n            Determines whether or not an item corresponding to this\n            trace is shown in the legend.\n        stream\n            :class:`plotly.graph_objects.bar.Stream` instance or\n            dict with compatible properties\n        text\n            Sets text elements associated with each (x,y) pair. If\n            a single string, the same string appears over all the\n            data points. If an array of string, the items are\n            mapped in order to the this trace's (x,y) coordinates.\n            If trace `hoverinfo` contains a \"text\" flag and\n            \"hovertext\" is not set, these elements will be seen in\n            the hover labels.\n        textangle\n            Sets the angle of the tick labels with respect to the\n            bar. For example, a `tickangle` of -90 draws the tick\n            labels vertically. With \"auto\" the texts may\n            automatically be rotated to fit with the maximum size\n            in bars.\n        textfont\n            Sets the font used for `text`.\n        textposition\n            Specifies the location of the `text`. \"inside\"\n            positions `text` inside, next to the bar end (rotated\n            and scaled if needed). \"outside\" positions `text`\n            outside, next to the bar end (scaled if needed), unless\n            there is another bar stacked on this one, then the text\n            gets pushed inside. \"auto\" tries to position `text`\n            inside the bar, but if the bar is too small and no bar\n            is stacked on this one the text is moved outside. If\n            \"none\", no text appears.\n        textpositionsrc\n            Sets the source reference on Chart Studio Cloud for\n            textposition .\n        textsrc\n            Sets the source reference on Chart Studio Cloud for\n            text .\n        texttemplate\n            Template string used for rendering the information text\n            that appear on points. Note that this will override\n            `textinfo`. Variables are inserted using %{variable},\n            for example \"y: %{y}\". Numbers are formatted using\n            d3-format's syntax %{variable:d3-format}, for example\n            \"Price: %{y:$.2f}\". https://github.com/d3/d3-3.x-api-\n            reference/blob/master/Formatting.md#d3_format for\n            details on the formatting syntax. Dates are formatted\n            using d3-time-format's syntax %{variable|d3-time-\n            format}, for example \"Day: %{2019-01-01|%A}\".\n            https://github.com/d3/d3-time-format#locale_format for\n            details on the date formatting syntax. Every attributes\n            that can be specified per-point (the ones that are\n            `arrayOk: true`) are available. variables `value` and\n            `label`.\n        texttemplatesrc\n            Sets the source reference on Chart Studio Cloud for\n            texttemplate .\n        uid\n            Assign an id to this trace, Use this to provide object\n            constancy between traces during animations and\n            transitions.\n        uirevision\n            Controls persistence of some user-driven changes to the\n            trace: `constraintrange` in `parcoords` traces, as well\n            as some `editable: true` modifications such as `name`\n            and `colorbar.title`. Defaults to `layout.uirevision`.\n            Note that other user-driven trace attribute changes are\n            controlled by `layout` attributes: `trace.visible` is\n            controlled by `layout.legend.uirevision`,\n            `selectedpoints` is controlled by\n            `layout.selectionrevision`, and `colorbar.(x|y)`\n            (accessible with `config: {editable: true}`) is\n            controlled by `layout.editrevision`. Trace changes are\n            tracked by `uid`, which only falls back on trace index\n            if no `uid` is provided. So if your app can add/remove\n            traces before the end of the `data` array, such that\n            the same trace has a different index, you can still\n            preserve user-driven changes if you give each trace a\n            `uid` that stays with it as it moves.\n        unselected\n            :class:`plotly.graph_objects.bar.Unselected` instance\n            or dict with compatible properties\n        visible\n            Determines whether or not this trace is visible. If\n            \"legendonly\", the trace is not drawn, but can appear as\n            a legend item (provided that the legend itself is\n            visible).\n        width\n            Sets the bar width (in position axis units).\n        widthsrc\n            Sets the source reference on Chart Studio Cloud for\n            width .\n        x\n            Sets the x coordinates.\n        x0\n            Alternate to `x`. Builds a linear space of x\n            coordinates. Use with `dx` where `x0` is the starting\n            coordinate and `dx` the step.\n        xaxis\n            Sets a reference between this trace's x coordinates and\n            a 2D cartesian x axis. If \"x\" (the default value), the\n            x coordinates refer to `layout.xaxis`. If \"x2\", the x\n            coordinates refer to `layout.xaxis2`, and so on.\n        xcalendar\n            Sets the calendar system to use with `x` date data.\n        xhoverformat\n            Sets the hover text formatting rulefor `x`  using d3\n            formatting mini-languages which are very similar to\n            those in Python. For numbers, see:\n            https://github.com/d3/d3-3.x-api-\n            reference/blob/master/Formatting.md#d3_format. And for\n            dates see: https://github.com/d3/d3-time-\n            format#locale_format. We add two items to d3's date\n            formatter: \"%h\" for half of the year as a decimal\n            number as well as \"%{n}f\" for fractional seconds with n\n            digits. For example, *2016-10-13 09:15:23.456* with\n            tickformat \"%H~%M~%S.%2f\" would display *09~15~23.46*By\n            default the values are formatted using\n            `xaxis.hoverformat`.\n        xperiod\n            Only relevant when the axis `type` is \"date\". Sets the\n            period positioning in milliseconds or \"M<n>\" on the x\n            axis. Special values in the form of \"M<n>\" could be\n            used to declare the number of months. In this case `n`\n            must be a positive integer.\n        xperiod0\n            Only relevant when the axis `type` is \"date\". Sets the\n            base for period positioning in milliseconds or date\n            string on the x0 axis. When `x0period` is round number\n            of weeks, the `x0period0` by default would be on a\n            Sunday i.e. 2000-01-02, otherwise it would be at\n            2000-01-01.\n        xperiodalignment\n            Only relevant when the axis `type` is \"date\". Sets the\n            alignment of data points on the x axis.\n        xsrc\n            Sets the source reference on Chart Studio Cloud for  x\n            .\n        y\n            Sets the y coordinates.\n        y0\n            Alternate to `y`. Builds a linear space of y\n            coordinates. Use with `dy` where `y0` is the starting\n            coordinate and `dy` the step.\n        yaxis\n            Sets a reference between this trace's y coordinates and\n            a 2D cartesian y axis. If \"y\" (the default value), the\n            y coordinates refer to `layout.yaxis`. If \"y2\", the y\n            coordinates refer to `layout.yaxis2`, and so on.\n        ycalendar\n            Sets the calendar system to use with `y` date data.\n        yhoverformat\n            Sets the hover text formatting rulefor `y`  using d3\n            formatting mini-languages which are very similar to\n            those in Python. For numbers, see:\n            https://github.com/d3/d3-3.x-api-\n            reference/blob/master/Formatting.md#d3_format. And for\n            dates see: https://github.com/d3/d3-time-\n            format#locale_format. We add two items to d3's date\n            formatter: \"%h\" for half of the year as a decimal\n            number as well as \"%{n}f\" for fractional seconds with n\n            digits. For example, *2016-10-13 09:15:23.456* with\n            tickformat \"%H~%M~%S.%2f\" would display *09~15~23.46*By\n            default the values are formatted using\n            `yaxis.hoverformat`.\n        yperiod\n            Only relevant when the axis `type` is \"date\". Sets the\n            period positioning in milliseconds or \"M<n>\" on the y\n            axis. Special values in the form of \"M<n>\" could be\n            used to declare the number of months. In this case `n`\n            must be a positive integer.\n        yperiod0\n            Only relevant when the axis `type` is \"date\". Sets the\n            base for period positioning in milliseconds or date\n            string on the y0 axis. When `y0period` is round number\n            of weeks, the `y0period0` by default would be on a\n            Sunday i.e. 2000-01-02, otherwise it would be at\n            2000-01-01.\n        yperiodalignment\n            Only relevant when the axis `type` is \"date\". Sets the\n            alignment of data points on the y axis.\n        ysrc\n            Sets the source reference on Chart Studio Cloud for  y\n            .\n        \nDid you mean \"base\"?\n\nBad property path:\nline\n^^^^"
     ]
    }
   ],
   "source": [
    "graph_maker(test, 'DORITOS')"
   ]
  },
  {
   "cell_type": "code",
   "execution_count": null,
   "metadata": {},
   "outputs": [],
   "source": []
  }
 ],
 "metadata": {
  "kernelspec": {
   "display_name": "prog",
   "language": "python",
   "name": "python3"
  },
  "language_info": {
   "codemirror_mode": {
    "name": "ipython",
    "version": 3
   },
   "file_extension": ".py",
   "mimetype": "text/x-python",
   "name": "python",
   "nbconvert_exporter": "python",
   "pygments_lexer": "ipython3",
   "version": "3.9.7"
  },
  "orig_nbformat": 4
 },
 "nbformat": 4,
 "nbformat_minor": 2
}
